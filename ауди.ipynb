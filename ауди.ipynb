{
 "cells": [
  {
   "cell_type": "markdown",
   "id": "6a6c7ef2",
   "metadata": {},
   "source": [
    "# Итоговая проектная работа\n",
    "## Анализ датасета 'Audi'"
   ]
  },
  {
   "cell_type": "code",
   "execution_count": 435,
   "id": "0c77196c",
   "metadata": {},
   "outputs": [],
   "source": [
    "import pandas as pd\n",
    "import numpy as np\n",
    "import statsmodels.formula.api as smf\n",
    "import statsmodels.api as sm\n",
    "from statsmodels.stats.diagnostic import linear_reset\n",
    "from statsmodels.stats.diagnostic import linear_rainbow\n",
    "from statsmodels.stats.diagnostic import linear_harvey_collier\n",
    "from statsmodels.iolib.summary2 import summary_params\n",
    "from scipy.stats import t\n",
    "from scipy.stats import f # F-распределение\n",
    "from statsmodels.iolib.summary2 import summary_col # вывод подгонки\n",
    "from matplotlib import pyplot as plt\n",
    "import seaborn as sns\n",
    "import scipy\n",
    "import patsy # матрицы регрессионного дизайна\n",
    "import scipy.stats as stats\n",
    "import statsmodels.stats.api as sms # тесты\n",
    "from scipy.stats import chi2 # 𝜒2-распределение"
   ]
  },
  {
   "cell_type": "markdown",
   "id": "1ed74121",
   "metadata": {},
   "source": [
    "###  Загрузим данные"
   ]
  },
  {
   "cell_type": "code",
   "execution_count": 436,
   "id": "5fa4b4bb",
   "metadata": {},
   "outputs": [
    {
     "data": {
      "text/html": [
       "<div>\n",
       "<style scoped>\n",
       "    .dataframe tbody tr th:only-of-type {\n",
       "        vertical-align: middle;\n",
       "    }\n",
       "\n",
       "    .dataframe tbody tr th {\n",
       "        vertical-align: top;\n",
       "    }\n",
       "\n",
       "    .dataframe thead th {\n",
       "        text-align: right;\n",
       "    }\n",
       "</style>\n",
       "<table border=\"1\" class=\"dataframe\">\n",
       "  <thead>\n",
       "    <tr style=\"text-align: right;\">\n",
       "      <th></th>\n",
       "      <th>model</th>\n",
       "      <th>year</th>\n",
       "      <th>price</th>\n",
       "      <th>transmission</th>\n",
       "      <th>mileage</th>\n",
       "      <th>fuelType</th>\n",
       "      <th>tax</th>\n",
       "      <th>mpg</th>\n",
       "      <th>engineSize</th>\n",
       "    </tr>\n",
       "  </thead>\n",
       "  <tbody>\n",
       "    <tr>\n",
       "      <th>0</th>\n",
       "      <td>A1</td>\n",
       "      <td>2017</td>\n",
       "      <td>12500</td>\n",
       "      <td>Manual</td>\n",
       "      <td>15735</td>\n",
       "      <td>Petrol</td>\n",
       "      <td>150</td>\n",
       "      <td>55.4</td>\n",
       "      <td>1.4</td>\n",
       "    </tr>\n",
       "    <tr>\n",
       "      <th>1</th>\n",
       "      <td>A6</td>\n",
       "      <td>2016</td>\n",
       "      <td>16500</td>\n",
       "      <td>Automatic</td>\n",
       "      <td>36203</td>\n",
       "      <td>Diesel</td>\n",
       "      <td>20</td>\n",
       "      <td>64.2</td>\n",
       "      <td>2.0</td>\n",
       "    </tr>\n",
       "    <tr>\n",
       "      <th>2</th>\n",
       "      <td>A1</td>\n",
       "      <td>2016</td>\n",
       "      <td>11000</td>\n",
       "      <td>Manual</td>\n",
       "      <td>29946</td>\n",
       "      <td>Petrol</td>\n",
       "      <td>30</td>\n",
       "      <td>55.4</td>\n",
       "      <td>1.4</td>\n",
       "    </tr>\n",
       "    <tr>\n",
       "      <th>3</th>\n",
       "      <td>A4</td>\n",
       "      <td>2017</td>\n",
       "      <td>16800</td>\n",
       "      <td>Automatic</td>\n",
       "      <td>25952</td>\n",
       "      <td>Diesel</td>\n",
       "      <td>145</td>\n",
       "      <td>67.3</td>\n",
       "      <td>2.0</td>\n",
       "    </tr>\n",
       "    <tr>\n",
       "      <th>4</th>\n",
       "      <td>A3</td>\n",
       "      <td>2019</td>\n",
       "      <td>17300</td>\n",
       "      <td>Manual</td>\n",
       "      <td>1998</td>\n",
       "      <td>Petrol</td>\n",
       "      <td>145</td>\n",
       "      <td>49.6</td>\n",
       "      <td>1.0</td>\n",
       "    </tr>\n",
       "    <tr>\n",
       "      <th>...</th>\n",
       "      <td>...</td>\n",
       "      <td>...</td>\n",
       "      <td>...</td>\n",
       "      <td>...</td>\n",
       "      <td>...</td>\n",
       "      <td>...</td>\n",
       "      <td>...</td>\n",
       "      <td>...</td>\n",
       "      <td>...</td>\n",
       "    </tr>\n",
       "    <tr>\n",
       "      <th>10663</th>\n",
       "      <td>A3</td>\n",
       "      <td>2020</td>\n",
       "      <td>16999</td>\n",
       "      <td>Manual</td>\n",
       "      <td>4018</td>\n",
       "      <td>Petrol</td>\n",
       "      <td>145</td>\n",
       "      <td>49.6</td>\n",
       "      <td>1.0</td>\n",
       "    </tr>\n",
       "    <tr>\n",
       "      <th>10664</th>\n",
       "      <td>A3</td>\n",
       "      <td>2020</td>\n",
       "      <td>16999</td>\n",
       "      <td>Manual</td>\n",
       "      <td>1978</td>\n",
       "      <td>Petrol</td>\n",
       "      <td>150</td>\n",
       "      <td>49.6</td>\n",
       "      <td>1.0</td>\n",
       "    </tr>\n",
       "    <tr>\n",
       "      <th>10665</th>\n",
       "      <td>A3</td>\n",
       "      <td>2020</td>\n",
       "      <td>17199</td>\n",
       "      <td>Manual</td>\n",
       "      <td>609</td>\n",
       "      <td>Petrol</td>\n",
       "      <td>150</td>\n",
       "      <td>49.6</td>\n",
       "      <td>1.0</td>\n",
       "    </tr>\n",
       "    <tr>\n",
       "      <th>10666</th>\n",
       "      <td>Q3</td>\n",
       "      <td>2017</td>\n",
       "      <td>19499</td>\n",
       "      <td>Automatic</td>\n",
       "      <td>8646</td>\n",
       "      <td>Petrol</td>\n",
       "      <td>150</td>\n",
       "      <td>47.9</td>\n",
       "      <td>1.4</td>\n",
       "    </tr>\n",
       "    <tr>\n",
       "      <th>10667</th>\n",
       "      <td>Q3</td>\n",
       "      <td>2016</td>\n",
       "      <td>15999</td>\n",
       "      <td>Manual</td>\n",
       "      <td>11855</td>\n",
       "      <td>Petrol</td>\n",
       "      <td>150</td>\n",
       "      <td>47.9</td>\n",
       "      <td>1.4</td>\n",
       "    </tr>\n",
       "  </tbody>\n",
       "</table>\n",
       "<p>10668 rows × 9 columns</p>\n",
       "</div>"
      ],
      "text/plain": [
       "      model  year  price transmission  mileage fuelType  tax   mpg  engineSize\n",
       "0        A1  2017  12500       Manual    15735   Petrol  150  55.4         1.4\n",
       "1        A6  2016  16500    Automatic    36203   Diesel   20  64.2         2.0\n",
       "2        A1  2016  11000       Manual    29946   Petrol   30  55.4         1.4\n",
       "3        A4  2017  16800    Automatic    25952   Diesel  145  67.3         2.0\n",
       "4        A3  2019  17300       Manual     1998   Petrol  145  49.6         1.0\n",
       "...     ...   ...    ...          ...      ...      ...  ...   ...         ...\n",
       "10663    A3  2020  16999       Manual     4018   Petrol  145  49.6         1.0\n",
       "10664    A3  2020  16999       Manual     1978   Petrol  150  49.6         1.0\n",
       "10665    A3  2020  17199       Manual      609   Petrol  150  49.6         1.0\n",
       "10666    Q3  2017  19499    Automatic     8646   Petrol  150  47.9         1.4\n",
       "10667    Q3  2016  15999       Manual    11855   Petrol  150  47.9         1.4\n",
       "\n",
       "[10668 rows x 9 columns]"
      ]
     },
     "execution_count": 436,
     "metadata": {},
     "output_type": "execute_result"
    }
   ],
   "source": [
    "df = pd.read_csv('https://raw.githubusercontent.com/zhanna11111/homework111111/main/audi.csv')\n",
    "df"
   ]
  },
  {
   "cell_type": "markdown",
   "id": "44a649a1",
   "metadata": {},
   "source": [
    "###   Обработка данных"
   ]
  },
  {
   "cell_type": "code",
   "execution_count": 437,
   "id": "8d3ceefa",
   "metadata": {},
   "outputs": [
    {
     "name": "stdout",
     "output_type": "stream",
     "text": [
      "<class 'pandas.core.frame.DataFrame'>\n",
      "RangeIndex: 10668 entries, 0 to 10667\n",
      "Data columns (total 9 columns):\n",
      " #   Column        Non-Null Count  Dtype  \n",
      "---  ------        --------------  -----  \n",
      " 0   model         10668 non-null  object \n",
      " 1   year          10668 non-null  int64  \n",
      " 2   price         10668 non-null  int64  \n",
      " 3   transmission  10668 non-null  object \n",
      " 4   mileage       10668 non-null  int64  \n",
      " 5   fuelType      10668 non-null  object \n",
      " 6   tax           10668 non-null  int64  \n",
      " 7   mpg           10668 non-null  float64\n",
      " 8   engineSize    10668 non-null  float64\n",
      "dtypes: float64(2), int64(4), object(3)\n",
      "memory usage: 750.2+ KB\n"
     ]
    }
   ],
   "source": [
    "df.info()"
   ]
  },
  {
   "cell_type": "markdown",
   "id": "46b29ef5",
   "metadata": {},
   "source": [
    "Nan-ов нет"
   ]
  },
  {
   "cell_type": "code",
   "execution_count": 438,
   "id": "34cf16bb",
   "metadata": {},
   "outputs": [
    {
     "data": {
      "text/plain": [
       "array([' A1', ' A6', ' A4', ' A3', ' Q3', ' Q5', ' A5', ' S4', ' Q2',\n",
       "       ' A7', ' TT', ' Q7', ' RS6', ' RS3', ' A8', ' Q8', ' RS4', ' RS5',\n",
       "       ' R8', ' SQ5', ' S8', ' SQ7', ' S3', ' S5', ' A2', ' RS7'],\n",
       "      dtype=object)"
      ]
     },
     "execution_count": 438,
     "metadata": {},
     "output_type": "execute_result"
    }
   ],
   "source": [
    "df['model'].unique()"
   ]
  },
  {
   "cell_type": "code",
   "execution_count": 439,
   "id": "bdba823b",
   "metadata": {},
   "outputs": [
    {
     "data": {
      "text/plain": [
       "array([2017, 2016, 2019, 2015, 2014, 2018, 2013, 2020, 2004, 2009, 2012,\n",
       "       2010, 2007, 2011, 2008, 2003, 2005, 2002, 2006, 1998, 1997])"
      ]
     },
     "execution_count": 439,
     "metadata": {},
     "output_type": "execute_result"
    }
   ],
   "source": [
    "df['year'].unique()"
   ]
  },
  {
   "cell_type": "code",
   "execution_count": 440,
   "id": "b27ce447",
   "metadata": {},
   "outputs": [
    {
     "data": {
      "text/plain": [
       "array(['Manual', 'Automatic', 'Semi-Auto'], dtype=object)"
      ]
     },
     "execution_count": 440,
     "metadata": {},
     "output_type": "execute_result"
    }
   ],
   "source": [
    "df['transmission'].unique()"
   ]
  },
  {
   "cell_type": "code",
   "execution_count": 441,
   "id": "92377100",
   "metadata": {},
   "outputs": [
    {
     "data": {
      "text/plain": [
       "array(['Petrol', 'Diesel', 'Hybrid'], dtype=object)"
      ]
     },
     "execution_count": 441,
     "metadata": {},
     "output_type": "execute_result"
    }
   ],
   "source": [
    "df['fuelType'].unique()"
   ]
  },
  {
   "cell_type": "markdown",
   "id": "233ec34a",
   "metadata": {},
   "source": [
    "Для точности модели заменем год числами от 1 до 21"
   ]
  },
  {
   "cell_type": "code",
   "execution_count": 442,
   "id": "7ab099f5",
   "metadata": {},
   "outputs": [
    {
     "data": {
      "text/html": [
       "<div>\n",
       "<style scoped>\n",
       "    .dataframe tbody tr th:only-of-type {\n",
       "        vertical-align: middle;\n",
       "    }\n",
       "\n",
       "    .dataframe tbody tr th {\n",
       "        vertical-align: top;\n",
       "    }\n",
       "\n",
       "    .dataframe thead th {\n",
       "        text-align: right;\n",
       "    }\n",
       "</style>\n",
       "<table border=\"1\" class=\"dataframe\">\n",
       "  <thead>\n",
       "    <tr style=\"text-align: right;\">\n",
       "      <th></th>\n",
       "      <th>model</th>\n",
       "      <th>year</th>\n",
       "      <th>price</th>\n",
       "      <th>transmission</th>\n",
       "      <th>mileage</th>\n",
       "      <th>fuelType</th>\n",
       "      <th>tax</th>\n",
       "      <th>mpg</th>\n",
       "      <th>engineSize</th>\n",
       "    </tr>\n",
       "  </thead>\n",
       "  <tbody>\n",
       "    <tr>\n",
       "      <th>0</th>\n",
       "      <td>A1</td>\n",
       "      <td>20</td>\n",
       "      <td>12500</td>\n",
       "      <td>Manual</td>\n",
       "      <td>15735</td>\n",
       "      <td>Petrol</td>\n",
       "      <td>150</td>\n",
       "      <td>55.4</td>\n",
       "      <td>1.4</td>\n",
       "    </tr>\n",
       "    <tr>\n",
       "      <th>1</th>\n",
       "      <td>A6</td>\n",
       "      <td>19</td>\n",
       "      <td>16500</td>\n",
       "      <td>Automatic</td>\n",
       "      <td>36203</td>\n",
       "      <td>Diesel</td>\n",
       "      <td>20</td>\n",
       "      <td>64.2</td>\n",
       "      <td>2.0</td>\n",
       "    </tr>\n",
       "    <tr>\n",
       "      <th>2</th>\n",
       "      <td>A1</td>\n",
       "      <td>19</td>\n",
       "      <td>11000</td>\n",
       "      <td>Manual</td>\n",
       "      <td>29946</td>\n",
       "      <td>Petrol</td>\n",
       "      <td>30</td>\n",
       "      <td>55.4</td>\n",
       "      <td>1.4</td>\n",
       "    </tr>\n",
       "    <tr>\n",
       "      <th>3</th>\n",
       "      <td>A4</td>\n",
       "      <td>20</td>\n",
       "      <td>16800</td>\n",
       "      <td>Automatic</td>\n",
       "      <td>25952</td>\n",
       "      <td>Diesel</td>\n",
       "      <td>145</td>\n",
       "      <td>67.3</td>\n",
       "      <td>2.0</td>\n",
       "    </tr>\n",
       "    <tr>\n",
       "      <th>4</th>\n",
       "      <td>A3</td>\n",
       "      <td>22</td>\n",
       "      <td>17300</td>\n",
       "      <td>Manual</td>\n",
       "      <td>1998</td>\n",
       "      <td>Petrol</td>\n",
       "      <td>145</td>\n",
       "      <td>49.6</td>\n",
       "      <td>1.0</td>\n",
       "    </tr>\n",
       "    <tr>\n",
       "      <th>...</th>\n",
       "      <td>...</td>\n",
       "      <td>...</td>\n",
       "      <td>...</td>\n",
       "      <td>...</td>\n",
       "      <td>...</td>\n",
       "      <td>...</td>\n",
       "      <td>...</td>\n",
       "      <td>...</td>\n",
       "      <td>...</td>\n",
       "    </tr>\n",
       "    <tr>\n",
       "      <th>10663</th>\n",
       "      <td>A3</td>\n",
       "      <td>23</td>\n",
       "      <td>16999</td>\n",
       "      <td>Manual</td>\n",
       "      <td>4018</td>\n",
       "      <td>Petrol</td>\n",
       "      <td>145</td>\n",
       "      <td>49.6</td>\n",
       "      <td>1.0</td>\n",
       "    </tr>\n",
       "    <tr>\n",
       "      <th>10664</th>\n",
       "      <td>A3</td>\n",
       "      <td>23</td>\n",
       "      <td>16999</td>\n",
       "      <td>Manual</td>\n",
       "      <td>1978</td>\n",
       "      <td>Petrol</td>\n",
       "      <td>150</td>\n",
       "      <td>49.6</td>\n",
       "      <td>1.0</td>\n",
       "    </tr>\n",
       "    <tr>\n",
       "      <th>10665</th>\n",
       "      <td>A3</td>\n",
       "      <td>23</td>\n",
       "      <td>17199</td>\n",
       "      <td>Manual</td>\n",
       "      <td>609</td>\n",
       "      <td>Petrol</td>\n",
       "      <td>150</td>\n",
       "      <td>49.6</td>\n",
       "      <td>1.0</td>\n",
       "    </tr>\n",
       "    <tr>\n",
       "      <th>10666</th>\n",
       "      <td>Q3</td>\n",
       "      <td>20</td>\n",
       "      <td>19499</td>\n",
       "      <td>Automatic</td>\n",
       "      <td>8646</td>\n",
       "      <td>Petrol</td>\n",
       "      <td>150</td>\n",
       "      <td>47.9</td>\n",
       "      <td>1.4</td>\n",
       "    </tr>\n",
       "    <tr>\n",
       "      <th>10667</th>\n",
       "      <td>Q3</td>\n",
       "      <td>19</td>\n",
       "      <td>15999</td>\n",
       "      <td>Manual</td>\n",
       "      <td>11855</td>\n",
       "      <td>Petrol</td>\n",
       "      <td>150</td>\n",
       "      <td>47.9</td>\n",
       "      <td>1.4</td>\n",
       "    </tr>\n",
       "  </tbody>\n",
       "</table>\n",
       "<p>10668 rows × 9 columns</p>\n",
       "</div>"
      ],
      "text/plain": [
       "      model  year  price transmission  mileage fuelType  tax   mpg  engineSize\n",
       "0        A1    20  12500       Manual    15735   Petrol  150  55.4         1.4\n",
       "1        A6    19  16500    Automatic    36203   Diesel   20  64.2         2.0\n",
       "2        A1    19  11000       Manual    29946   Petrol   30  55.4         1.4\n",
       "3        A4    20  16800    Automatic    25952   Diesel  145  67.3         2.0\n",
       "4        A3    22  17300       Manual     1998   Petrol  145  49.6         1.0\n",
       "...     ...   ...    ...          ...      ...      ...  ...   ...         ...\n",
       "10663    A3    23  16999       Manual     4018   Petrol  145  49.6         1.0\n",
       "10664    A3    23  16999       Manual     1978   Petrol  150  49.6         1.0\n",
       "10665    A3    23  17199       Manual      609   Petrol  150  49.6         1.0\n",
       "10666    Q3    20  19499    Automatic     8646   Petrol  150  47.9         1.4\n",
       "10667    Q3    19  15999       Manual    11855   Petrol  150  47.9         1.4\n",
       "\n",
       "[10668 rows x 9 columns]"
      ]
     },
     "execution_count": 442,
     "metadata": {},
     "output_type": "execute_result"
    }
   ],
   "source": [
    "df['year'] -= 1997 \n",
    "df"
   ]
  },
  {
   "cell_type": "markdown",
   "id": "4cbf2c6b",
   "metadata": {},
   "source": [
    "Для более интересного анализа немного уменьшим корреляцию между колонкой model и price, убрав точную информацию о модели автомобиля, будем работать только с серией (A, Q, S, T, R)"
   ]
  },
  {
   "cell_type": "code",
   "execution_count": 443,
   "id": "9973387f",
   "metadata": {},
   "outputs": [
    {
     "data": {
      "text/html": [
       "<div>\n",
       "<style scoped>\n",
       "    .dataframe tbody tr th:only-of-type {\n",
       "        vertical-align: middle;\n",
       "    }\n",
       "\n",
       "    .dataframe tbody tr th {\n",
       "        vertical-align: top;\n",
       "    }\n",
       "\n",
       "    .dataframe thead th {\n",
       "        text-align: right;\n",
       "    }\n",
       "</style>\n",
       "<table border=\"1\" class=\"dataframe\">\n",
       "  <thead>\n",
       "    <tr style=\"text-align: right;\">\n",
       "      <th></th>\n",
       "      <th>model</th>\n",
       "      <th>year</th>\n",
       "      <th>price</th>\n",
       "      <th>transmission</th>\n",
       "      <th>mileage</th>\n",
       "      <th>fuelType</th>\n",
       "      <th>tax</th>\n",
       "      <th>mpg</th>\n",
       "      <th>engineSize</th>\n",
       "    </tr>\n",
       "  </thead>\n",
       "  <tbody>\n",
       "    <tr>\n",
       "      <th>0</th>\n",
       "      <td>A</td>\n",
       "      <td>20</td>\n",
       "      <td>12500</td>\n",
       "      <td>Manual</td>\n",
       "      <td>15735</td>\n",
       "      <td>Petrol</td>\n",
       "      <td>150</td>\n",
       "      <td>55.4</td>\n",
       "      <td>1.4</td>\n",
       "    </tr>\n",
       "    <tr>\n",
       "      <th>1</th>\n",
       "      <td>A</td>\n",
       "      <td>19</td>\n",
       "      <td>16500</td>\n",
       "      <td>Automatic</td>\n",
       "      <td>36203</td>\n",
       "      <td>Diesel</td>\n",
       "      <td>20</td>\n",
       "      <td>64.2</td>\n",
       "      <td>2.0</td>\n",
       "    </tr>\n",
       "    <tr>\n",
       "      <th>2</th>\n",
       "      <td>A</td>\n",
       "      <td>19</td>\n",
       "      <td>11000</td>\n",
       "      <td>Manual</td>\n",
       "      <td>29946</td>\n",
       "      <td>Petrol</td>\n",
       "      <td>30</td>\n",
       "      <td>55.4</td>\n",
       "      <td>1.4</td>\n",
       "    </tr>\n",
       "    <tr>\n",
       "      <th>3</th>\n",
       "      <td>A</td>\n",
       "      <td>20</td>\n",
       "      <td>16800</td>\n",
       "      <td>Automatic</td>\n",
       "      <td>25952</td>\n",
       "      <td>Diesel</td>\n",
       "      <td>145</td>\n",
       "      <td>67.3</td>\n",
       "      <td>2.0</td>\n",
       "    </tr>\n",
       "    <tr>\n",
       "      <th>4</th>\n",
       "      <td>A</td>\n",
       "      <td>22</td>\n",
       "      <td>17300</td>\n",
       "      <td>Manual</td>\n",
       "      <td>1998</td>\n",
       "      <td>Petrol</td>\n",
       "      <td>145</td>\n",
       "      <td>49.6</td>\n",
       "      <td>1.0</td>\n",
       "    </tr>\n",
       "    <tr>\n",
       "      <th>...</th>\n",
       "      <td>...</td>\n",
       "      <td>...</td>\n",
       "      <td>...</td>\n",
       "      <td>...</td>\n",
       "      <td>...</td>\n",
       "      <td>...</td>\n",
       "      <td>...</td>\n",
       "      <td>...</td>\n",
       "      <td>...</td>\n",
       "    </tr>\n",
       "    <tr>\n",
       "      <th>10663</th>\n",
       "      <td>A</td>\n",
       "      <td>23</td>\n",
       "      <td>16999</td>\n",
       "      <td>Manual</td>\n",
       "      <td>4018</td>\n",
       "      <td>Petrol</td>\n",
       "      <td>145</td>\n",
       "      <td>49.6</td>\n",
       "      <td>1.0</td>\n",
       "    </tr>\n",
       "    <tr>\n",
       "      <th>10664</th>\n",
       "      <td>A</td>\n",
       "      <td>23</td>\n",
       "      <td>16999</td>\n",
       "      <td>Manual</td>\n",
       "      <td>1978</td>\n",
       "      <td>Petrol</td>\n",
       "      <td>150</td>\n",
       "      <td>49.6</td>\n",
       "      <td>1.0</td>\n",
       "    </tr>\n",
       "    <tr>\n",
       "      <th>10665</th>\n",
       "      <td>A</td>\n",
       "      <td>23</td>\n",
       "      <td>17199</td>\n",
       "      <td>Manual</td>\n",
       "      <td>609</td>\n",
       "      <td>Petrol</td>\n",
       "      <td>150</td>\n",
       "      <td>49.6</td>\n",
       "      <td>1.0</td>\n",
       "    </tr>\n",
       "    <tr>\n",
       "      <th>10666</th>\n",
       "      <td>Q</td>\n",
       "      <td>20</td>\n",
       "      <td>19499</td>\n",
       "      <td>Automatic</td>\n",
       "      <td>8646</td>\n",
       "      <td>Petrol</td>\n",
       "      <td>150</td>\n",
       "      <td>47.9</td>\n",
       "      <td>1.4</td>\n",
       "    </tr>\n",
       "    <tr>\n",
       "      <th>10667</th>\n",
       "      <td>Q</td>\n",
       "      <td>19</td>\n",
       "      <td>15999</td>\n",
       "      <td>Manual</td>\n",
       "      <td>11855</td>\n",
       "      <td>Petrol</td>\n",
       "      <td>150</td>\n",
       "      <td>47.9</td>\n",
       "      <td>1.4</td>\n",
       "    </tr>\n",
       "  </tbody>\n",
       "</table>\n",
       "<p>10668 rows × 9 columns</p>\n",
       "</div>"
      ],
      "text/plain": [
       "      model  year  price transmission  mileage fuelType  tax   mpg  engineSize\n",
       "0         A    20  12500       Manual    15735   Petrol  150  55.4         1.4\n",
       "1         A    19  16500    Automatic    36203   Diesel   20  64.2         2.0\n",
       "2         A    19  11000       Manual    29946   Petrol   30  55.4         1.4\n",
       "3         A    20  16800    Automatic    25952   Diesel  145  67.3         2.0\n",
       "4         A    22  17300       Manual     1998   Petrol  145  49.6         1.0\n",
       "...     ...   ...    ...          ...      ...      ...  ...   ...         ...\n",
       "10663     A    23  16999       Manual     4018   Petrol  145  49.6         1.0\n",
       "10664     A    23  16999       Manual     1978   Petrol  150  49.6         1.0\n",
       "10665     A    23  17199       Manual      609   Petrol  150  49.6         1.0\n",
       "10666     Q    20  19499    Automatic     8646   Petrol  150  47.9         1.4\n",
       "10667     Q    19  15999       Manual    11855   Petrol  150  47.9         1.4\n",
       "\n",
       "[10668 rows x 9 columns]"
      ]
     },
     "execution_count": 443,
     "metadata": {},
     "output_type": "execute_result"
    }
   ],
   "source": [
    "df['model'] = df['model'].str[1]\n",
    "df"
   ]
  },
  {
   "cell_type": "code",
   "execution_count": 444,
   "id": "44f8426c",
   "metadata": {},
   "outputs": [
    {
     "data": {
      "text/plain": [
       "array(['A', 'Q', 'S', 'T', 'R'], dtype=object)"
      ]
     },
     "execution_count": 444,
     "metadata": {},
     "output_type": "execute_result"
    }
   ],
   "source": [
    "df['model'].unique()"
   ]
  },
  {
   "cell_type": "markdown",
   "id": "4651ee55",
   "metadata": {},
   "source": [
    "Теперь закодируем категориальные признаки"
   ]
  },
  {
   "cell_type": "code",
   "execution_count": 445,
   "id": "e84b8f19",
   "metadata": {},
   "outputs": [
    {
     "data": {
      "text/html": [
       "<div>\n",
       "<style scoped>\n",
       "    .dataframe tbody tr th:only-of-type {\n",
       "        vertical-align: middle;\n",
       "    }\n",
       "\n",
       "    .dataframe tbody tr th {\n",
       "        vertical-align: top;\n",
       "    }\n",
       "\n",
       "    .dataframe thead th {\n",
       "        text-align: right;\n",
       "    }\n",
       "</style>\n",
       "<table border=\"1\" class=\"dataframe\">\n",
       "  <thead>\n",
       "    <tr style=\"text-align: right;\">\n",
       "      <th></th>\n",
       "      <th>model</th>\n",
       "      <th>year</th>\n",
       "      <th>price</th>\n",
       "      <th>transmission</th>\n",
       "      <th>mileage</th>\n",
       "      <th>fuelType</th>\n",
       "      <th>tax</th>\n",
       "      <th>mpg</th>\n",
       "      <th>engineSize</th>\n",
       "      <th>A</th>\n",
       "      <th>Q</th>\n",
       "      <th>R</th>\n",
       "      <th>S</th>\n",
       "      <th>T</th>\n",
       "    </tr>\n",
       "  </thead>\n",
       "  <tbody>\n",
       "    <tr>\n",
       "      <th>0</th>\n",
       "      <td>A</td>\n",
       "      <td>20</td>\n",
       "      <td>12500</td>\n",
       "      <td>Manual</td>\n",
       "      <td>15735</td>\n",
       "      <td>Petrol</td>\n",
       "      <td>150</td>\n",
       "      <td>55.4</td>\n",
       "      <td>1.4</td>\n",
       "      <td>1</td>\n",
       "      <td>0</td>\n",
       "      <td>0</td>\n",
       "      <td>0</td>\n",
       "      <td>0</td>\n",
       "    </tr>\n",
       "    <tr>\n",
       "      <th>1</th>\n",
       "      <td>A</td>\n",
       "      <td>19</td>\n",
       "      <td>16500</td>\n",
       "      <td>Automatic</td>\n",
       "      <td>36203</td>\n",
       "      <td>Diesel</td>\n",
       "      <td>20</td>\n",
       "      <td>64.2</td>\n",
       "      <td>2.0</td>\n",
       "      <td>1</td>\n",
       "      <td>0</td>\n",
       "      <td>0</td>\n",
       "      <td>0</td>\n",
       "      <td>0</td>\n",
       "    </tr>\n",
       "    <tr>\n",
       "      <th>2</th>\n",
       "      <td>A</td>\n",
       "      <td>19</td>\n",
       "      <td>11000</td>\n",
       "      <td>Manual</td>\n",
       "      <td>29946</td>\n",
       "      <td>Petrol</td>\n",
       "      <td>30</td>\n",
       "      <td>55.4</td>\n",
       "      <td>1.4</td>\n",
       "      <td>1</td>\n",
       "      <td>0</td>\n",
       "      <td>0</td>\n",
       "      <td>0</td>\n",
       "      <td>0</td>\n",
       "    </tr>\n",
       "    <tr>\n",
       "      <th>3</th>\n",
       "      <td>A</td>\n",
       "      <td>20</td>\n",
       "      <td>16800</td>\n",
       "      <td>Automatic</td>\n",
       "      <td>25952</td>\n",
       "      <td>Diesel</td>\n",
       "      <td>145</td>\n",
       "      <td>67.3</td>\n",
       "      <td>2.0</td>\n",
       "      <td>1</td>\n",
       "      <td>0</td>\n",
       "      <td>0</td>\n",
       "      <td>0</td>\n",
       "      <td>0</td>\n",
       "    </tr>\n",
       "    <tr>\n",
       "      <th>4</th>\n",
       "      <td>A</td>\n",
       "      <td>22</td>\n",
       "      <td>17300</td>\n",
       "      <td>Manual</td>\n",
       "      <td>1998</td>\n",
       "      <td>Petrol</td>\n",
       "      <td>145</td>\n",
       "      <td>49.6</td>\n",
       "      <td>1.0</td>\n",
       "      <td>1</td>\n",
       "      <td>0</td>\n",
       "      <td>0</td>\n",
       "      <td>0</td>\n",
       "      <td>0</td>\n",
       "    </tr>\n",
       "  </tbody>\n",
       "</table>\n",
       "</div>"
      ],
      "text/plain": [
       "  model  year  price transmission  mileage fuelType  tax   mpg  engineSize  A  \\\n",
       "0     A    20  12500       Manual    15735   Petrol  150  55.4         1.4  1   \n",
       "1     A    19  16500    Automatic    36203   Diesel   20  64.2         2.0  1   \n",
       "2     A    19  11000       Manual    29946   Petrol   30  55.4         1.4  1   \n",
       "3     A    20  16800    Automatic    25952   Diesel  145  67.3         2.0  1   \n",
       "4     A    22  17300       Manual     1998   Petrol  145  49.6         1.0  1   \n",
       "\n",
       "   Q  R  S  T  \n",
       "0  0  0  0  0  \n",
       "1  0  0  0  0  \n",
       "2  0  0  0  0  \n",
       "3  0  0  0  0  \n",
       "4  0  0  0  0  "
      ]
     },
     "execution_count": 445,
     "metadata": {},
     "output_type": "execute_result"
    }
   ],
   "source": [
    "area_dummies = pd.get_dummies(df.model)\n",
    "df = pd.concat([df, area_dummies], axis=1)\n",
    "df.head()"
   ]
  },
  {
   "cell_type": "code",
   "execution_count": 446,
   "id": "c7680a5c",
   "metadata": {},
   "outputs": [
    {
     "data": {
      "text/html": [
       "<div>\n",
       "<style scoped>\n",
       "    .dataframe tbody tr th:only-of-type {\n",
       "        vertical-align: middle;\n",
       "    }\n",
       "\n",
       "    .dataframe tbody tr th {\n",
       "        vertical-align: top;\n",
       "    }\n",
       "\n",
       "    .dataframe thead th {\n",
       "        text-align: right;\n",
       "    }\n",
       "</style>\n",
       "<table border=\"1\" class=\"dataframe\">\n",
       "  <thead>\n",
       "    <tr style=\"text-align: right;\">\n",
       "      <th></th>\n",
       "      <th>model</th>\n",
       "      <th>year</th>\n",
       "      <th>price</th>\n",
       "      <th>transmission</th>\n",
       "      <th>mileage</th>\n",
       "      <th>fuelType</th>\n",
       "      <th>tax</th>\n",
       "      <th>mpg</th>\n",
       "      <th>engineSize</th>\n",
       "      <th>A</th>\n",
       "      <th>Q</th>\n",
       "      <th>R</th>\n",
       "      <th>S</th>\n",
       "      <th>T</th>\n",
       "      <th>Automatic</th>\n",
       "      <th>Manual</th>\n",
       "      <th>Semi-Auto</th>\n",
       "    </tr>\n",
       "  </thead>\n",
       "  <tbody>\n",
       "    <tr>\n",
       "      <th>0</th>\n",
       "      <td>A</td>\n",
       "      <td>20</td>\n",
       "      <td>12500</td>\n",
       "      <td>Manual</td>\n",
       "      <td>15735</td>\n",
       "      <td>Petrol</td>\n",
       "      <td>150</td>\n",
       "      <td>55.4</td>\n",
       "      <td>1.4</td>\n",
       "      <td>1</td>\n",
       "      <td>0</td>\n",
       "      <td>0</td>\n",
       "      <td>0</td>\n",
       "      <td>0</td>\n",
       "      <td>0</td>\n",
       "      <td>1</td>\n",
       "      <td>0</td>\n",
       "    </tr>\n",
       "    <tr>\n",
       "      <th>1</th>\n",
       "      <td>A</td>\n",
       "      <td>19</td>\n",
       "      <td>16500</td>\n",
       "      <td>Automatic</td>\n",
       "      <td>36203</td>\n",
       "      <td>Diesel</td>\n",
       "      <td>20</td>\n",
       "      <td>64.2</td>\n",
       "      <td>2.0</td>\n",
       "      <td>1</td>\n",
       "      <td>0</td>\n",
       "      <td>0</td>\n",
       "      <td>0</td>\n",
       "      <td>0</td>\n",
       "      <td>1</td>\n",
       "      <td>0</td>\n",
       "      <td>0</td>\n",
       "    </tr>\n",
       "    <tr>\n",
       "      <th>2</th>\n",
       "      <td>A</td>\n",
       "      <td>19</td>\n",
       "      <td>11000</td>\n",
       "      <td>Manual</td>\n",
       "      <td>29946</td>\n",
       "      <td>Petrol</td>\n",
       "      <td>30</td>\n",
       "      <td>55.4</td>\n",
       "      <td>1.4</td>\n",
       "      <td>1</td>\n",
       "      <td>0</td>\n",
       "      <td>0</td>\n",
       "      <td>0</td>\n",
       "      <td>0</td>\n",
       "      <td>0</td>\n",
       "      <td>1</td>\n",
       "      <td>0</td>\n",
       "    </tr>\n",
       "    <tr>\n",
       "      <th>3</th>\n",
       "      <td>A</td>\n",
       "      <td>20</td>\n",
       "      <td>16800</td>\n",
       "      <td>Automatic</td>\n",
       "      <td>25952</td>\n",
       "      <td>Diesel</td>\n",
       "      <td>145</td>\n",
       "      <td>67.3</td>\n",
       "      <td>2.0</td>\n",
       "      <td>1</td>\n",
       "      <td>0</td>\n",
       "      <td>0</td>\n",
       "      <td>0</td>\n",
       "      <td>0</td>\n",
       "      <td>1</td>\n",
       "      <td>0</td>\n",
       "      <td>0</td>\n",
       "    </tr>\n",
       "    <tr>\n",
       "      <th>4</th>\n",
       "      <td>A</td>\n",
       "      <td>22</td>\n",
       "      <td>17300</td>\n",
       "      <td>Manual</td>\n",
       "      <td>1998</td>\n",
       "      <td>Petrol</td>\n",
       "      <td>145</td>\n",
       "      <td>49.6</td>\n",
       "      <td>1.0</td>\n",
       "      <td>1</td>\n",
       "      <td>0</td>\n",
       "      <td>0</td>\n",
       "      <td>0</td>\n",
       "      <td>0</td>\n",
       "      <td>0</td>\n",
       "      <td>1</td>\n",
       "      <td>0</td>\n",
       "    </tr>\n",
       "  </tbody>\n",
       "</table>\n",
       "</div>"
      ],
      "text/plain": [
       "  model  year  price transmission  mileage fuelType  tax   mpg  engineSize  A  \\\n",
       "0     A    20  12500       Manual    15735   Petrol  150  55.4         1.4  1   \n",
       "1     A    19  16500    Automatic    36203   Diesel   20  64.2         2.0  1   \n",
       "2     A    19  11000       Manual    29946   Petrol   30  55.4         1.4  1   \n",
       "3     A    20  16800    Automatic    25952   Diesel  145  67.3         2.0  1   \n",
       "4     A    22  17300       Manual     1998   Petrol  145  49.6         1.0  1   \n",
       "\n",
       "   Q  R  S  T  Automatic  Manual  Semi-Auto  \n",
       "0  0  0  0  0          0       1          0  \n",
       "1  0  0  0  0          1       0          0  \n",
       "2  0  0  0  0          0       1          0  \n",
       "3  0  0  0  0          1       0          0  \n",
       "4  0  0  0  0          0       1          0  "
      ]
     },
     "execution_count": 446,
     "metadata": {},
     "output_type": "execute_result"
    }
   ],
   "source": [
    "area_dummies = pd.get_dummies(df.transmission)\n",
    "df = pd.concat([df, area_dummies], axis=1)\n",
    "df.head()"
   ]
  },
  {
   "cell_type": "code",
   "execution_count": 447,
   "id": "43083a1c",
   "metadata": {},
   "outputs": [
    {
     "data": {
      "text/html": [
       "<div>\n",
       "<style scoped>\n",
       "    .dataframe tbody tr th:only-of-type {\n",
       "        vertical-align: middle;\n",
       "    }\n",
       "\n",
       "    .dataframe tbody tr th {\n",
       "        vertical-align: top;\n",
       "    }\n",
       "\n",
       "    .dataframe thead th {\n",
       "        text-align: right;\n",
       "    }\n",
       "</style>\n",
       "<table border=\"1\" class=\"dataframe\">\n",
       "  <thead>\n",
       "    <tr style=\"text-align: right;\">\n",
       "      <th></th>\n",
       "      <th>model</th>\n",
       "      <th>year</th>\n",
       "      <th>price</th>\n",
       "      <th>transmission</th>\n",
       "      <th>mileage</th>\n",
       "      <th>fuelType</th>\n",
       "      <th>tax</th>\n",
       "      <th>mpg</th>\n",
       "      <th>engineSize</th>\n",
       "      <th>A</th>\n",
       "      <th>Q</th>\n",
       "      <th>R</th>\n",
       "      <th>S</th>\n",
       "      <th>T</th>\n",
       "      <th>Automatic</th>\n",
       "      <th>Manual</th>\n",
       "      <th>SemiAuto</th>\n",
       "    </tr>\n",
       "  </thead>\n",
       "  <tbody>\n",
       "    <tr>\n",
       "      <th>0</th>\n",
       "      <td>A</td>\n",
       "      <td>20</td>\n",
       "      <td>12500</td>\n",
       "      <td>Manual</td>\n",
       "      <td>15735</td>\n",
       "      <td>Petrol</td>\n",
       "      <td>150</td>\n",
       "      <td>55.4</td>\n",
       "      <td>1.4</td>\n",
       "      <td>1</td>\n",
       "      <td>0</td>\n",
       "      <td>0</td>\n",
       "      <td>0</td>\n",
       "      <td>0</td>\n",
       "      <td>0</td>\n",
       "      <td>1</td>\n",
       "      <td>0</td>\n",
       "    </tr>\n",
       "    <tr>\n",
       "      <th>1</th>\n",
       "      <td>A</td>\n",
       "      <td>19</td>\n",
       "      <td>16500</td>\n",
       "      <td>Automatic</td>\n",
       "      <td>36203</td>\n",
       "      <td>Diesel</td>\n",
       "      <td>20</td>\n",
       "      <td>64.2</td>\n",
       "      <td>2.0</td>\n",
       "      <td>1</td>\n",
       "      <td>0</td>\n",
       "      <td>0</td>\n",
       "      <td>0</td>\n",
       "      <td>0</td>\n",
       "      <td>1</td>\n",
       "      <td>0</td>\n",
       "      <td>0</td>\n",
       "    </tr>\n",
       "    <tr>\n",
       "      <th>2</th>\n",
       "      <td>A</td>\n",
       "      <td>19</td>\n",
       "      <td>11000</td>\n",
       "      <td>Manual</td>\n",
       "      <td>29946</td>\n",
       "      <td>Petrol</td>\n",
       "      <td>30</td>\n",
       "      <td>55.4</td>\n",
       "      <td>1.4</td>\n",
       "      <td>1</td>\n",
       "      <td>0</td>\n",
       "      <td>0</td>\n",
       "      <td>0</td>\n",
       "      <td>0</td>\n",
       "      <td>0</td>\n",
       "      <td>1</td>\n",
       "      <td>0</td>\n",
       "    </tr>\n",
       "    <tr>\n",
       "      <th>3</th>\n",
       "      <td>A</td>\n",
       "      <td>20</td>\n",
       "      <td>16800</td>\n",
       "      <td>Automatic</td>\n",
       "      <td>25952</td>\n",
       "      <td>Diesel</td>\n",
       "      <td>145</td>\n",
       "      <td>67.3</td>\n",
       "      <td>2.0</td>\n",
       "      <td>1</td>\n",
       "      <td>0</td>\n",
       "      <td>0</td>\n",
       "      <td>0</td>\n",
       "      <td>0</td>\n",
       "      <td>1</td>\n",
       "      <td>0</td>\n",
       "      <td>0</td>\n",
       "    </tr>\n",
       "    <tr>\n",
       "      <th>4</th>\n",
       "      <td>A</td>\n",
       "      <td>22</td>\n",
       "      <td>17300</td>\n",
       "      <td>Manual</td>\n",
       "      <td>1998</td>\n",
       "      <td>Petrol</td>\n",
       "      <td>145</td>\n",
       "      <td>49.6</td>\n",
       "      <td>1.0</td>\n",
       "      <td>1</td>\n",
       "      <td>0</td>\n",
       "      <td>0</td>\n",
       "      <td>0</td>\n",
       "      <td>0</td>\n",
       "      <td>0</td>\n",
       "      <td>1</td>\n",
       "      <td>0</td>\n",
       "    </tr>\n",
       "  </tbody>\n",
       "</table>\n",
       "</div>"
      ],
      "text/plain": [
       "  model  year  price transmission  mileage fuelType  tax   mpg  engineSize  A  \\\n",
       "0     A    20  12500       Manual    15735   Petrol  150  55.4         1.4  1   \n",
       "1     A    19  16500    Automatic    36203   Diesel   20  64.2         2.0  1   \n",
       "2     A    19  11000       Manual    29946   Petrol   30  55.4         1.4  1   \n",
       "3     A    20  16800    Automatic    25952   Diesel  145  67.3         2.0  1   \n",
       "4     A    22  17300       Manual     1998   Petrol  145  49.6         1.0  1   \n",
       "\n",
       "   Q  R  S  T  Automatic  Manual  SemiAuto  \n",
       "0  0  0  0  0          0       1         0  \n",
       "1  0  0  0  0          1       0         0  \n",
       "2  0  0  0  0          0       1         0  \n",
       "3  0  0  0  0          1       0         0  \n",
       "4  0  0  0  0          0       1         0  "
      ]
     },
     "execution_count": 447,
     "metadata": {},
     "output_type": "execute_result"
    }
   ],
   "source": [
    "df = df.rename(columns={\"Semi-Auto\": 'SemiAuto'})\n",
    "df.head()"
   ]
  },
  {
   "cell_type": "markdown",
   "id": "e9758f52",
   "metadata": {},
   "source": [
    "Так как в датасете очень мало набблюдений с гибридным fuelType, создадим искусственно бинарную колнку, заменив гибрид на дизель"
   ]
  },
  {
   "cell_type": "code",
   "execution_count": 448,
   "id": "d04b96ec",
   "metadata": {},
   "outputs": [
    {
     "data": {
      "text/html": [
       "<div>\n",
       "<style scoped>\n",
       "    .dataframe tbody tr th:only-of-type {\n",
       "        vertical-align: middle;\n",
       "    }\n",
       "\n",
       "    .dataframe tbody tr th {\n",
       "        vertical-align: top;\n",
       "    }\n",
       "\n",
       "    .dataframe thead th {\n",
       "        text-align: right;\n",
       "    }\n",
       "</style>\n",
       "<table border=\"1\" class=\"dataframe\">\n",
       "  <thead>\n",
       "    <tr style=\"text-align: right;\">\n",
       "      <th></th>\n",
       "      <th>model</th>\n",
       "      <th>year</th>\n",
       "      <th>price</th>\n",
       "      <th>transmission</th>\n",
       "      <th>mileage</th>\n",
       "      <th>fuelType</th>\n",
       "      <th>tax</th>\n",
       "      <th>mpg</th>\n",
       "      <th>engineSize</th>\n",
       "      <th>A</th>\n",
       "      <th>Q</th>\n",
       "      <th>R</th>\n",
       "      <th>S</th>\n",
       "      <th>T</th>\n",
       "      <th>Automatic</th>\n",
       "      <th>Manual</th>\n",
       "      <th>SemiAuto</th>\n",
       "    </tr>\n",
       "  </thead>\n",
       "  <tbody>\n",
       "    <tr>\n",
       "      <th>0</th>\n",
       "      <td>A</td>\n",
       "      <td>20</td>\n",
       "      <td>12500</td>\n",
       "      <td>Manual</td>\n",
       "      <td>15735</td>\n",
       "      <td>Petrol</td>\n",
       "      <td>150</td>\n",
       "      <td>55.4</td>\n",
       "      <td>1.4</td>\n",
       "      <td>1</td>\n",
       "      <td>0</td>\n",
       "      <td>0</td>\n",
       "      <td>0</td>\n",
       "      <td>0</td>\n",
       "      <td>0</td>\n",
       "      <td>1</td>\n",
       "      <td>0</td>\n",
       "    </tr>\n",
       "    <tr>\n",
       "      <th>1</th>\n",
       "      <td>A</td>\n",
       "      <td>19</td>\n",
       "      <td>16500</td>\n",
       "      <td>Automatic</td>\n",
       "      <td>36203</td>\n",
       "      <td>Diesel</td>\n",
       "      <td>20</td>\n",
       "      <td>64.2</td>\n",
       "      <td>2.0</td>\n",
       "      <td>1</td>\n",
       "      <td>0</td>\n",
       "      <td>0</td>\n",
       "      <td>0</td>\n",
       "      <td>0</td>\n",
       "      <td>1</td>\n",
       "      <td>0</td>\n",
       "      <td>0</td>\n",
       "    </tr>\n",
       "    <tr>\n",
       "      <th>2</th>\n",
       "      <td>A</td>\n",
       "      <td>19</td>\n",
       "      <td>11000</td>\n",
       "      <td>Manual</td>\n",
       "      <td>29946</td>\n",
       "      <td>Petrol</td>\n",
       "      <td>30</td>\n",
       "      <td>55.4</td>\n",
       "      <td>1.4</td>\n",
       "      <td>1</td>\n",
       "      <td>0</td>\n",
       "      <td>0</td>\n",
       "      <td>0</td>\n",
       "      <td>0</td>\n",
       "      <td>0</td>\n",
       "      <td>1</td>\n",
       "      <td>0</td>\n",
       "    </tr>\n",
       "    <tr>\n",
       "      <th>3</th>\n",
       "      <td>A</td>\n",
       "      <td>20</td>\n",
       "      <td>16800</td>\n",
       "      <td>Automatic</td>\n",
       "      <td>25952</td>\n",
       "      <td>Diesel</td>\n",
       "      <td>145</td>\n",
       "      <td>67.3</td>\n",
       "      <td>2.0</td>\n",
       "      <td>1</td>\n",
       "      <td>0</td>\n",
       "      <td>0</td>\n",
       "      <td>0</td>\n",
       "      <td>0</td>\n",
       "      <td>1</td>\n",
       "      <td>0</td>\n",
       "      <td>0</td>\n",
       "    </tr>\n",
       "    <tr>\n",
       "      <th>4</th>\n",
       "      <td>A</td>\n",
       "      <td>22</td>\n",
       "      <td>17300</td>\n",
       "      <td>Manual</td>\n",
       "      <td>1998</td>\n",
       "      <td>Petrol</td>\n",
       "      <td>145</td>\n",
       "      <td>49.6</td>\n",
       "      <td>1.0</td>\n",
       "      <td>1</td>\n",
       "      <td>0</td>\n",
       "      <td>0</td>\n",
       "      <td>0</td>\n",
       "      <td>0</td>\n",
       "      <td>0</td>\n",
       "      <td>1</td>\n",
       "      <td>0</td>\n",
       "    </tr>\n",
       "  </tbody>\n",
       "</table>\n",
       "</div>"
      ],
      "text/plain": [
       "  model  year  price transmission  mileage fuelType  tax   mpg  engineSize  A  \\\n",
       "0     A    20  12500       Manual    15735   Petrol  150  55.4         1.4  1   \n",
       "1     A    19  16500    Automatic    36203   Diesel   20  64.2         2.0  1   \n",
       "2     A    19  11000       Manual    29946   Petrol   30  55.4         1.4  1   \n",
       "3     A    20  16800    Automatic    25952   Diesel  145  67.3         2.0  1   \n",
       "4     A    22  17300       Manual     1998   Petrol  145  49.6         1.0  1   \n",
       "\n",
       "   Q  R  S  T  Automatic  Manual  SemiAuto  \n",
       "0  0  0  0  0          0       1         0  \n",
       "1  0  0  0  0          1       0         0  \n",
       "2  0  0  0  0          0       1         0  \n",
       "3  0  0  0  0          1       0         0  \n",
       "4  0  0  0  0          0       1         0  "
      ]
     },
     "execution_count": 448,
     "metadata": {},
     "output_type": "execute_result"
    }
   ],
   "source": [
    "cleanup_nums = {\"fuelType\": {'Hybrid': 'Diesel'}}\n",
    "df = df.replace(cleanup_nums)\n",
    "df.head()"
   ]
  },
  {
   "cell_type": "code",
   "execution_count": 449,
   "id": "c361a83d",
   "metadata": {},
   "outputs": [
    {
     "data": {
      "text/html": [
       "<div>\n",
       "<style scoped>\n",
       "    .dataframe tbody tr th:only-of-type {\n",
       "        vertical-align: middle;\n",
       "    }\n",
       "\n",
       "    .dataframe tbody tr th {\n",
       "        vertical-align: top;\n",
       "    }\n",
       "\n",
       "    .dataframe thead th {\n",
       "        text-align: right;\n",
       "    }\n",
       "</style>\n",
       "<table border=\"1\" class=\"dataframe\">\n",
       "  <thead>\n",
       "    <tr style=\"text-align: right;\">\n",
       "      <th></th>\n",
       "      <th>model</th>\n",
       "      <th>year</th>\n",
       "      <th>price</th>\n",
       "      <th>transmission</th>\n",
       "      <th>mileage</th>\n",
       "      <th>fuelType</th>\n",
       "      <th>tax</th>\n",
       "      <th>mpg</th>\n",
       "      <th>engineSize</th>\n",
       "      <th>A</th>\n",
       "      <th>Q</th>\n",
       "      <th>R</th>\n",
       "      <th>S</th>\n",
       "      <th>T</th>\n",
       "      <th>Automatic</th>\n",
       "      <th>Manual</th>\n",
       "      <th>SemiAuto</th>\n",
       "    </tr>\n",
       "  </thead>\n",
       "  <tbody>\n",
       "    <tr>\n",
       "      <th>0</th>\n",
       "      <td>A</td>\n",
       "      <td>20</td>\n",
       "      <td>12500</td>\n",
       "      <td>Manual</td>\n",
       "      <td>15735</td>\n",
       "      <td>1</td>\n",
       "      <td>150</td>\n",
       "      <td>55.4</td>\n",
       "      <td>1.4</td>\n",
       "      <td>1</td>\n",
       "      <td>0</td>\n",
       "      <td>0</td>\n",
       "      <td>0</td>\n",
       "      <td>0</td>\n",
       "      <td>0</td>\n",
       "      <td>1</td>\n",
       "      <td>0</td>\n",
       "    </tr>\n",
       "    <tr>\n",
       "      <th>1</th>\n",
       "      <td>A</td>\n",
       "      <td>19</td>\n",
       "      <td>16500</td>\n",
       "      <td>Automatic</td>\n",
       "      <td>36203</td>\n",
       "      <td>0</td>\n",
       "      <td>20</td>\n",
       "      <td>64.2</td>\n",
       "      <td>2.0</td>\n",
       "      <td>1</td>\n",
       "      <td>0</td>\n",
       "      <td>0</td>\n",
       "      <td>0</td>\n",
       "      <td>0</td>\n",
       "      <td>1</td>\n",
       "      <td>0</td>\n",
       "      <td>0</td>\n",
       "    </tr>\n",
       "    <tr>\n",
       "      <th>2</th>\n",
       "      <td>A</td>\n",
       "      <td>19</td>\n",
       "      <td>11000</td>\n",
       "      <td>Manual</td>\n",
       "      <td>29946</td>\n",
       "      <td>1</td>\n",
       "      <td>30</td>\n",
       "      <td>55.4</td>\n",
       "      <td>1.4</td>\n",
       "      <td>1</td>\n",
       "      <td>0</td>\n",
       "      <td>0</td>\n",
       "      <td>0</td>\n",
       "      <td>0</td>\n",
       "      <td>0</td>\n",
       "      <td>1</td>\n",
       "      <td>0</td>\n",
       "    </tr>\n",
       "    <tr>\n",
       "      <th>3</th>\n",
       "      <td>A</td>\n",
       "      <td>20</td>\n",
       "      <td>16800</td>\n",
       "      <td>Automatic</td>\n",
       "      <td>25952</td>\n",
       "      <td>0</td>\n",
       "      <td>145</td>\n",
       "      <td>67.3</td>\n",
       "      <td>2.0</td>\n",
       "      <td>1</td>\n",
       "      <td>0</td>\n",
       "      <td>0</td>\n",
       "      <td>0</td>\n",
       "      <td>0</td>\n",
       "      <td>1</td>\n",
       "      <td>0</td>\n",
       "      <td>0</td>\n",
       "    </tr>\n",
       "    <tr>\n",
       "      <th>4</th>\n",
       "      <td>A</td>\n",
       "      <td>22</td>\n",
       "      <td>17300</td>\n",
       "      <td>Manual</td>\n",
       "      <td>1998</td>\n",
       "      <td>1</td>\n",
       "      <td>145</td>\n",
       "      <td>49.6</td>\n",
       "      <td>1.0</td>\n",
       "      <td>1</td>\n",
       "      <td>0</td>\n",
       "      <td>0</td>\n",
       "      <td>0</td>\n",
       "      <td>0</td>\n",
       "      <td>0</td>\n",
       "      <td>1</td>\n",
       "      <td>0</td>\n",
       "    </tr>\n",
       "  </tbody>\n",
       "</table>\n",
       "</div>"
      ],
      "text/plain": [
       "  model  year  price transmission  mileage  fuelType  tax   mpg  engineSize  \\\n",
       "0     A    20  12500       Manual    15735         1  150  55.4         1.4   \n",
       "1     A    19  16500    Automatic    36203         0   20  64.2         2.0   \n",
       "2     A    19  11000       Manual    29946         1   30  55.4         1.4   \n",
       "3     A    20  16800    Automatic    25952         0  145  67.3         2.0   \n",
       "4     A    22  17300       Manual     1998         1  145  49.6         1.0   \n",
       "\n",
       "   A  Q  R  S  T  Automatic  Manual  SemiAuto  \n",
       "0  1  0  0  0  0          0       1         0  \n",
       "1  1  0  0  0  0          1       0         0  \n",
       "2  1  0  0  0  0          0       1         0  \n",
       "3  1  0  0  0  0          1       0         0  \n",
       "4  1  0  0  0  0          0       1         0  "
      ]
     },
     "execution_count": 449,
     "metadata": {},
     "output_type": "execute_result"
    }
   ],
   "source": [
    "cleanup_nums = {\"fuelType\": {'Diesel': 0, 'Petrol': 1}}\n",
    "df = df.replace(cleanup_nums)\n",
    "df.head()"
   ]
  },
  {
   "cell_type": "markdown",
   "id": "36312a3e",
   "metadata": {},
   "source": [
    "Данные готовы к применению моделей!"
   ]
  },
  {
   "cell_type": "markdown",
   "id": "5eb57e5b",
   "metadata": {},
   "source": [
    "###  Визуализация данных"
   ]
  },
  {
   "cell_type": "markdown",
   "id": "978a2fd3",
   "metadata": {},
   "source": [
    "**Числовые признаки**"
   ]
  },
  {
   "cell_type": "code",
   "execution_count": 450,
   "id": "73968e65",
   "metadata": {},
   "outputs": [
    {
     "data": {
      "text/plain": [
       "<Axes: xlabel='price', ylabel='Count'>"
      ]
     },
     "execution_count": 450,
     "metadata": {},
     "output_type": "execute_result"
    },
    {
     "data": {
      "image/png": "[encoded data removed]",
      "text/plain": [
       "<Figure size 640x480 with 1 Axes>"
      ]
     },
     "metadata": {},
     "output_type": "display_data"
    }
   ],
   "source": [
    "sns.histplot(data=df, x='price', log_scale=True)"
   ]
  },
  {
   "cell_type": "code",
   "execution_count": 451,
   "id": "478017b8",
   "metadata": {},
   "outputs": [
    {
     "data": {
      "text/plain": [
       "<Axes: xlabel='mileage', ylabel='Count'>"
      ]
     },
     "execution_count": 451,
     "metadata": {},
     "output_type": "execute_result"
    },
    {
     "data": {
      "image/png": "[encoded data removed]",
      "text/plain": [
       "<Figure size 640x480 with 1 Axes>"
      ]
     },
     "metadata": {},
     "output_type": "display_data"
    }
   ],
   "source": [
    "sns.histplot(data=df, x='mileage', log_scale=True)"
   ]
  },
  {
   "cell_type": "code",
   "execution_count": 452,
   "id": "31c292e1",
   "metadata": {},
   "outputs": [
    {
     "data": {
      "text/plain": [
       "<Axes: xlabel='tax', ylabel='Count'>"
      ]
     },
     "execution_count": 452,
     "metadata": {},
     "output_type": "execute_result"
    },
    {
     "data": {
      "image/png": "[encoded data removed]",
      "text/plain": [
       "<Figure size 640x480 with 1 Axes>"
      ]
     },
     "metadata": {},
     "output_type": "display_data"
    }
   ],
   "source": [
    "sns.histplot(data=df.sample(300), x='tax')"
   ]
  },
  {
   "cell_type": "code",
   "execution_count": 453,
   "id": "6e00f733",
   "metadata": {},
   "outputs": [
    {
     "data": {
      "text/plain": [
       "<Axes: xlabel='mpg', ylabel='Count'>"
      ]
     },
     "execution_count": 453,
     "metadata": {},
     "output_type": "execute_result"
    },
    {
     "data": {
      "image/png": "[encoded data removed]",
      "text/plain": [
       "<Figure size 640x480 with 1 Axes>"
      ]
     },
     "metadata": {},
     "output_type": "display_data"
    }
   ],
   "source": [
    "sns.histplot(data=df, x='mpg', log_scale=True)"
   ]
  },
  {
   "cell_type": "markdown",
   "id": "b195b66f",
   "metadata": {},
   "source": [
    "**Вывод:** в каждом из случаев имеем что-то близкое к нормальному распределению"
   ]
  },
  {
   "cell_type": "markdown",
   "id": "67389bec",
   "metadata": {},
   "source": [
    "**Визуализация категориальных признаков**"
   ]
  },
  {
   "cell_type": "code",
   "execution_count": 454,
   "id": "1c5391e5",
   "metadata": {},
   "outputs": [
    {
     "data": {
      "text/plain": [
       "<Axes: xlabel='model', ylabel='count'>"
      ]
     },
     "execution_count": 454,
     "metadata": {},
     "output_type": "execute_result"
    },
    {
     "data": {
      "image/png": "[encoded data removed]",
      "text/plain": [
       "<Figure size 640x480 with 1 Axes>"
      ]
     },
     "metadata": {},
     "output_type": "display_data"
    }
   ],
   "source": [
    "sns.countplot(data=df, x='model')"
   ]
  },
  {
   "cell_type": "markdown",
   "id": "fc7d100c",
   "metadata": {},
   "source": [
    "**Вывод:** серия A сильно выделятся "
   ]
  },
  {
   "cell_type": "code",
   "execution_count": 455,
   "id": "df483957",
   "metadata": {},
   "outputs": [
    {
     "data": {
      "text/plain": [
       "<Axes: xlabel='transmission', ylabel='count'>"
      ]
     },
     "execution_count": 455,
     "metadata": {},
     "output_type": "execute_result"
    },
    {
     "data": {
      "image/png": "[encoded data removed]",
      "text/plain": [
       "<Figure size 640x480 with 1 Axes>"
      ]
     },
     "metadata": {},
     "output_type": "display_data"
    }
   ],
   "source": [
    "sns.countplot(data=df, x='transmission')"
   ]
  },
  {
   "cell_type": "markdown",
   "id": "c7f2704f",
   "metadata": {},
   "source": [
    "**Вывод:** Видно что значения Manual на процентов 10-15 больше"
   ]
  },
  {
   "cell_type": "code",
   "execution_count": 456,
   "id": "ad0feb73",
   "metadata": {},
   "outputs": [
    {
     "data": {
      "text/plain": [
       "<Axes: xlabel='fuelType', ylabel='count'>"
      ]
     },
     "execution_count": 456,
     "metadata": {},
     "output_type": "execute_result"
    },
    {
     "data": {
      "image/png": "[encoded data removed]",
      "text/plain": [
       "<Figure size 640x480 with 1 Axes>"
      ]
     },
     "metadata": {},
     "output_type": "display_data"
    }
   ],
   "source": [
    "sns.countplot(data=df, x='fuelType')"
   ]
  },
  {
   "cell_type": "markdown",
   "id": "5ec00f12",
   "metadata": {},
   "source": [
    "**Вывод:** Сильный дизбаланс не наблюдается"
   ]
  },
  {
   "cell_type": "markdown",
   "id": "402a38a7",
   "metadata": {},
   "source": [
    "**Построим несколько графиков для 300 случайных наблюденйи**"
   ]
  },
  {
   "cell_type": "code",
   "execution_count": 457,
   "id": "ca3bc0ca",
   "metadata": {},
   "outputs": [
    {
     "data": {
      "text/plain": [
       "<Axes: xlabel='price', ylabel='mileage'>"
      ]
     },
     "execution_count": 457,
     "metadata": {},
     "output_type": "execute_result"
    },
    {
     "data": {
      "image/png": "[encoded data removed]",
      "text/plain": [
       "<Figure size 640x480 with 1 Axes>"
      ]
     },
     "metadata": {},
     "output_type": "display_data"
    }
   ],
   "source": [
    "sns.scatterplot(data=df.sample(n = 300), x='price', y='mileage', style='model', hue='fuelType')"
   ]
  },
  {
   "cell_type": "code",
   "execution_count": 458,
   "id": "8ed0f9e4",
   "metadata": {},
   "outputs": [
    {
     "data": {
      "text/plain": [
       "<Axes: xlabel='price', ylabel='mileage'>"
      ]
     },
     "execution_count": 458,
     "metadata": {},
     "output_type": "execute_result"
    },
    {
     "data": {
      "image/png": "[encoded data removed]",
      "text/plain": [
       "<Figure size 640x480 with 1 Axes>"
      ]
     },
     "metadata": {},
     "output_type": "display_data"
    }
   ],
   "source": [
    "sns.scatterplot(data=df.sample(n = 300), x='price', y='mileage', style='model', hue='fuelType')"
   ]
  },
  {
   "cell_type": "code",
   "execution_count": 459,
   "id": "b1b8a6b6",
   "metadata": {},
   "outputs": [
    {
     "data": {
      "text/plain": [
       "<Axes: xlabel='price', ylabel='mileage'>"
      ]
     },
     "execution_count": 459,
     "metadata": {},
     "output_type": "execute_result"
    },
    {
     "data": {
      "image/png": "[encoded data removed]",
      "text/plain": [
       "<Figure size 640x480 with 1 Axes>"
      ]
     },
     "metadata": {},
     "output_type": "display_data"
    }
   ],
   "source": [
    "sns.scatterplot(data=df.sample(n = 300), x='price', y='mileage', style='model', hue='fuelType')"
   ]
  },
  {
   "cell_type": "markdown",
   "id": "122b2b0b",
   "metadata": {},
   "source": [
    "**Диаграммы рассеения**"
   ]
  },
  {
   "cell_type": "code",
   "execution_count": 460,
   "id": "5a17d46e",
   "metadata": {},
   "outputs": [
    {
     "data": {
      "text/plain": [
       "<Axes: xlabel='mileage', ylabel='price'>"
      ]
     },
     "execution_count": 460,
     "metadata": {},
     "output_type": "execute_result"
    },
    {
     "data": {
      "image/png": "[encoded data removed]",
      "text/plain": [
       "<Figure size 640x480 with 1 Axes>"
      ]
     },
     "metadata": {},
     "output_type": "display_data"
    }
   ],
   "source": [
    "sns.regplot(data=df.sample(n = 300), x='mileage', y='price', ci=None, line_kws={\"color\": \"r\"})"
   ]
  },
  {
   "cell_type": "markdown",
   "id": "55cb62ed",
   "metadata": {},
   "source": [
    "**Вывод:** с увелечением пробега цена падает"
   ]
  },
  {
   "cell_type": "code",
   "execution_count": 461,
   "id": "19ef35bb",
   "metadata": {},
   "outputs": [
    {
     "data": {
      "text/plain": [
       "<Axes: xlabel='tax', ylabel='price'>"
      ]
     },
     "execution_count": 461,
     "metadata": {},
     "output_type": "execute_result"
    },
    {
     "data": {
      "image/png": "[encoded data removed]",
      "text/plain": [
       "<Figure size 640x480 with 1 Axes>"
      ]
     },
     "metadata": {},
     "output_type": "display_data"
    }
   ],
   "source": [
    "sns.regplot(data=df, x='tax', y=np.log(df['price']), ci=None, line_kws={\"color\": \"r\"})"
   ]
  },
  {
   "cell_type": "markdown",
   "id": "912596f6",
   "metadata": {},
   "source": [
    "**Вывод:** цена прямопропорциональна налогу"
   ]
  },
  {
   "cell_type": "code",
   "execution_count": 462,
   "id": "499cf0f6",
   "metadata": {},
   "outputs": [
    {
     "data": {
      "text/plain": [
       "<Axes: xlabel='year', ylabel='price'>"
      ]
     },
     "execution_count": 462,
     "metadata": {},
     "output_type": "execute_result"
    },
    {
     "data": {
      "image/png": "[encoded data removed]",
      "text/plain": [
       "<Figure size 640x480 with 1 Axes>"
      ]
     },
     "metadata": {},
     "output_type": "display_data"
    }
   ],
   "source": [
    "sns.regplot(data=df, x='year', y=np.log(df['price']), ci=None, line_kws={\"color\": \"r\"})"
   ]
  },
  {
   "cell_type": "markdown",
   "id": "a2bc932a",
   "metadata": {},
   "source": [
    "**Вывод:** чем новее машина тем она дороже"
   ]
  },
  {
   "cell_type": "markdown",
   "id": "226db1aa",
   "metadata": {},
   "source": [
    "###  Подгонка модели и спецификация"
   ]
  },
  {
   "cell_type": "markdown",
   "id": "11b75b75",
   "metadata": {},
   "source": [
    "За целевую переменную берем log(price) чтобы числовие признаки не так сильно расходились между собой,\n",
    "\n",
    "с такой же логикой возьмем log(mileage)"
   ]
  },
  {
   "cell_type": "code",
   "execution_count": 463,
   "id": "62d08f97",
   "metadata": {},
   "outputs": [
    {
     "data": {
      "text/plain": [
       "Intercept          4.66\n",
       "year               0.13\n",
       "np.log(mileage)   -0.03\n",
       "fuelType           0.03\n",
       "tax                0.00\n",
       "mpg               -0.00\n",
       "engineSize         0.30\n",
       "A                  0.78\n",
       "Q                  0.93\n",
       "R                  1.11\n",
       "S                  0.97\n",
       "T                  0.88\n",
       "Automatic          1.60\n",
       "Manual             1.47\n",
       "SemiAuto           1.60\n",
       "dtype: float64"
      ]
     },
     "execution_count": 463,
     "metadata": {},
     "output_type": "execute_result"
    }
   ],
   "source": [
    "# специфицируем модель через формулу\n",
    "mod = smf.ols(formula='np.log(price)~year+np.log(mileage)+fuelType+tax+mpg+engineSize+A+Q+R+S+T+Automatic+Manual+SemiAuto', data=df).fit()\n",
    "# Коэфициенты модели с округление\n",
    "mod.params.round(2)"
   ]
  },
  {
   "cell_type": "markdown",
   "id": "4a005149",
   "metadata": {},
   "source": [
    "Спецификация:\n",
    "    \n",
    "$log(price)=\\beta_0+\\beta_1year+\\beta_2log(mileage)+\\beta_3tax+\\beta_4mpg+\\beta_5engineSize+\\beta_6A+\\beta_7Q+\\beta_8R+\\beta_9S+\\beta_{10}T+\\beta_{11}Automatic+\\beta_{12}Manual+\\beta_{13}SemiAuto+\\beta_{14}fuelType+u$\n",
    "\n",
    "C подставленными $\\beta$:\n",
    "\n",
    "    \n",
    "$log(price)=4.66+0.13*year+-0.03*log(mileage)+0*tax+-0*mpg+0.30*engineSize+0.78*A+0.93*Q+1.11*R+0.97*S+0.88*T+1.60*Automatic+1.47*Manual+1.60*SemiAuto$"
   ]
  },
  {
   "cell_type": "markdown",
   "id": "a576d95f",
   "metadata": {},
   "source": [
    "Интерпретация:\n",
    "1) Audi с автоматической коробкой передач в среднем дороже на 1.60% \n",
    "2) Бензиновые audi дороже в среднем на 0.03%\n",
    "3) При увелечение пробега на 1% цена падает на 0.03%"
   ]
  },
  {
   "cell_type": "markdown",
   "id": "d7553129",
   "metadata": {},
   "source": [
    "###  Вычислим коэффиценты детерминации"
   ]
  },
  {
   "cell_type": "code",
   "execution_count": 464,
   "id": "e595acc2",
   "metadata": {},
   "outputs": [
    {
     "name": "stdout",
     "output_type": "stream",
     "text": [
      "R^2 = 0.89\n",
      "R^2_adj = 0.89\n"
     ]
    }
   ],
   "source": [
    "# R^2\n",
    "R2 = mod.rsquared.round(2)\n",
    "# adj R^2\n",
    "R2_adj = mod.rsquared_adj.round(2)\n",
    "print(\"R^2 =\", R2)\n",
    "print(\"R^2_adj =\", R2_adj)"
   ]
  },
  {
   "cell_type": "markdown",
   "id": "7b1ef9c8",
   "metadata": {},
   "source": [
    "**Вывод:** целевая переменная хороршо объясняется предикторными"
   ]
  },
  {
   "cell_type": "markdown",
   "id": "013cdf65",
   "metadata": {},
   "source": [
    "###  TSS ESS RSS"
   ]
  },
  {
   "cell_type": "code",
   "execution_count": 465,
   "id": "0816c762",
   "metadata": {},
   "outputs": [
    {
     "name": "stdout",
     "output_type": "stream",
     "text": [
      "TSS = 2365.341\n",
      "ESS = 2114.017\n",
      "RSS = 251.324\n"
     ]
    }
   ],
   "source": [
    "TSS = mod.centered_tss\n",
    "ESS = mod.ess\n",
    "RSS = mod.ssr\n",
    "print(\"TSS =\", TSS.round(3))\n",
    "print(\"ESS =\", ESS.round(3))\n",
    "print(\"RSS =\", RSS.round(3))"
   ]
  },
  {
   "cell_type": "markdown",
   "id": "a636fbdb",
   "metadata": {},
   "source": [
    "###  Предсказанное значение и остаток для нескольких наблюдений"
   ]
  },
  {
   "cell_type": "code",
   "execution_count": 466,
   "id": "d789091b",
   "metadata": {},
   "outputs": [
    {
     "data": {
      "text/html": [
       "<div>\n",
       "<style scoped>\n",
       "    .dataframe tbody tr th:only-of-type {\n",
       "        vertical-align: middle;\n",
       "    }\n",
       "\n",
       "    .dataframe tbody tr th {\n",
       "        vertical-align: top;\n",
       "    }\n",
       "\n",
       "    .dataframe thead th {\n",
       "        text-align: right;\n",
       "    }\n",
       "</style>\n",
       "<table border=\"1\" class=\"dataframe\">\n",
       "  <thead>\n",
       "    <tr style=\"text-align: right;\">\n",
       "      <th></th>\n",
       "      <th>i</th>\n",
       "      <th>Факт</th>\n",
       "      <th>Fitted</th>\n",
       "      <th>Остаток</th>\n",
       "    </tr>\n",
       "  </thead>\n",
       "  <tbody>\n",
       "    <tr>\n",
       "      <th>100</th>\n",
       "      <td>100</td>\n",
       "      <td>25000</td>\n",
       "      <td>25340.606422</td>\n",
       "      <td>24989.859837</td>\n",
       "    </tr>\n",
       "    <tr>\n",
       "      <th>101</th>\n",
       "      <td>101</td>\n",
       "      <td>31000</td>\n",
       "      <td>34247.960441</td>\n",
       "      <td>30989.558618</td>\n",
       "    </tr>\n",
       "    <tr>\n",
       "      <th>102</th>\n",
       "      <td>102</td>\n",
       "      <td>28000</td>\n",
       "      <td>28309.141444</td>\n",
       "      <td>27989.749060</td>\n",
       "    </tr>\n",
       "    <tr>\n",
       "      <th>103</th>\n",
       "      <td>103</td>\n",
       "      <td>28000</td>\n",
       "      <td>25237.296706</td>\n",
       "      <td>27989.863922</td>\n",
       "    </tr>\n",
       "    <tr>\n",
       "      <th>104</th>\n",
       "      <td>104</td>\n",
       "      <td>21499</td>\n",
       "      <td>24889.521631</td>\n",
       "      <td>21488.877798</td>\n",
       "    </tr>\n",
       "    <tr>\n",
       "      <th>105</th>\n",
       "      <td>105</td>\n",
       "      <td>26000</td>\n",
       "      <td>28802.017327</td>\n",
       "      <td>25989.731799</td>\n",
       "    </tr>\n",
       "    <tr>\n",
       "      <th>106</th>\n",
       "      <td>106</td>\n",
       "      <td>30000</td>\n",
       "      <td>27734.979108</td>\n",
       "      <td>29989.769550</td>\n",
       "    </tr>\n",
       "    <tr>\n",
       "      <th>107</th>\n",
       "      <td>107</td>\n",
       "      <td>17000</td>\n",
       "      <td>15258.897188</td>\n",
       "      <td>16990.367082</td>\n",
       "    </tr>\n",
       "    <tr>\n",
       "      <th>108</th>\n",
       "      <td>108</td>\n",
       "      <td>14500</td>\n",
       "      <td>15025.715097</td>\n",
       "      <td>14490.382482</td>\n",
       "    </tr>\n",
       "    <tr>\n",
       "      <th>109</th>\n",
       "      <td>109</td>\n",
       "      <td>17500</td>\n",
       "      <td>23129.444589</td>\n",
       "      <td>17489.951138</td>\n",
       "    </tr>\n",
       "  </tbody>\n",
       "</table>\n",
       "</div>"
      ],
      "text/plain": [
       "       i   Факт        Fitted       Остаток\n",
       "100  100  25000  25340.606422  24989.859837\n",
       "101  101  31000  34247.960441  30989.558618\n",
       "102  102  28000  28309.141444  27989.749060\n",
       "103  103  28000  25237.296706  27989.863922\n",
       "104  104  21499  24889.521631  21488.877798\n",
       "105  105  26000  28802.017327  25989.731799\n",
       "106  106  30000  27734.979108  29989.769550\n",
       "107  107  17000  15258.897188  16990.367082\n",
       "108  108  14500  15025.715097  14490.382482\n",
       "109  109  17500  23129.444589  17489.951138"
      ]
     },
     "execution_count": 466,
     "metadata": {},
     "output_type": "execute_result"
    }
   ],
   "source": [
    "ind = np.arange(100, 110)\n",
    "data = pd.DataFrame({'i': ind, 'Факт': df[\"price\"][ind], 'Fitted': np.exp(mod.predict()[ind]), 'Остаток': df[\"price\"][ind] - mod.predict()[ind]})\n",
    "data"
   ]
  },
  {
   "cell_type": "markdown",
   "id": "59a9d1d6",
   "metadata": {},
   "source": [
    "###  Cтандартная ошибка регрессии"
   ]
  },
  {
   "cell_type": "code",
   "execution_count": 467,
   "id": "21a92c24",
   "metadata": {},
   "outputs": [
    {
     "name": "stdout",
     "output_type": "stream",
     "text": [
      "s = 0.1536\n"
     ]
    }
   ],
   "source": [
    "n = len(df[\"price\"])\n",
    "k = 15\n",
    "s = np.sqrt(RSS / (n - k - 1))\n",
    "print(\"s =\", s.round(4))"
   ]
  },
  {
   "cell_type": "markdown",
   "id": "f2f9672c",
   "metadata": {},
   "source": [
    "###  Значимсть коэффицентов регрессии"
   ]
  },
  {
   "cell_type": "code",
   "execution_count": 468,
   "id": "094dfdf7",
   "metadata": {},
   "outputs": [
    {
     "data": {
      "text/html": [
       "<div>\n",
       "<style scoped>\n",
       "    .dataframe tbody tr th:only-of-type {\n",
       "        vertical-align: middle;\n",
       "    }\n",
       "\n",
       "    .dataframe tbody tr th {\n",
       "        vertical-align: top;\n",
       "    }\n",
       "\n",
       "    .dataframe thead th {\n",
       "        text-align: right;\n",
       "    }\n",
       "</style>\n",
       "<table border=\"1\" class=\"dataframe\">\n",
       "  <thead>\n",
       "    <tr style=\"text-align: right;\">\n",
       "      <th></th>\n",
       "      <th>coef</th>\n",
       "      <th>std err</th>\n",
       "      <th>t</th>\n",
       "      <th>P&gt;|t|</th>\n",
       "      <th>[0.025</th>\n",
       "      <th>0.975]</th>\n",
       "    </tr>\n",
       "  </thead>\n",
       "  <tbody>\n",
       "    <tr>\n",
       "      <th>Intercept</th>\n",
       "      <td>4.6635</td>\n",
       "      <td>0.023000</td>\n",
       "      <td>202.652</td>\n",
       "      <td>0.000</td>\n",
       "      <td>4.618000</td>\n",
       "      <td>4.709</td>\n",
       "    </tr>\n",
       "    <tr>\n",
       "      <th>year</th>\n",
       "      <td>0.1326</td>\n",
       "      <td>0.001000</td>\n",
       "      <td>135.623</td>\n",
       "      <td>0.000</td>\n",
       "      <td>0.131000</td>\n",
       "      <td>0.135</td>\n",
       "    </tr>\n",
       "    <tr>\n",
       "      <th>np.log(mileage)</th>\n",
       "      <td>-0.0260</td>\n",
       "      <td>0.001000</td>\n",
       "      <td>-18.170</td>\n",
       "      <td>0.000</td>\n",
       "      <td>-0.029000</td>\n",
       "      <td>-0.023</td>\n",
       "    </tr>\n",
       "    <tr>\n",
       "      <th>fuelType</th>\n",
       "      <td>0.0332</td>\n",
       "      <td>0.004000</td>\n",
       "      <td>8.040</td>\n",
       "      <td>0.000</td>\n",
       "      <td>0.025000</td>\n",
       "      <td>0.041</td>\n",
       "    </tr>\n",
       "    <tr>\n",
       "      <th>tax</th>\n",
       "      <td>0.0001</td>\n",
       "      <td>0.000031</td>\n",
       "      <td>3.470</td>\n",
       "      <td>0.001</td>\n",
       "      <td>0.000046</td>\n",
       "      <td>0.000</td>\n",
       "    </tr>\n",
       "    <tr>\n",
       "      <th>mpg</th>\n",
       "      <td>-0.0028</td>\n",
       "      <td>0.000000</td>\n",
       "      <td>-13.814</td>\n",
       "      <td>0.000</td>\n",
       "      <td>-0.003000</td>\n",
       "      <td>-0.002</td>\n",
       "    </tr>\n",
       "    <tr>\n",
       "      <th>engineSize</th>\n",
       "      <td>0.2995</td>\n",
       "      <td>0.004000</td>\n",
       "      <td>80.115</td>\n",
       "      <td>0.000</td>\n",
       "      <td>0.292000</td>\n",
       "      <td>0.307</td>\n",
       "    </tr>\n",
       "    <tr>\n",
       "      <th>A</th>\n",
       "      <td>0.7757</td>\n",
       "      <td>0.007000</td>\n",
       "      <td>117.312</td>\n",
       "      <td>0.000</td>\n",
       "      <td>0.763000</td>\n",
       "      <td>0.789</td>\n",
       "    </tr>\n",
       "    <tr>\n",
       "      <th>Q</th>\n",
       "      <td>0.9254</td>\n",
       "      <td>0.007000</td>\n",
       "      <td>140.446</td>\n",
       "      <td>0.000</td>\n",
       "      <td>0.912000</td>\n",
       "      <td>0.938</td>\n",
       "    </tr>\n",
       "    <tr>\n",
       "      <th>R</th>\n",
       "      <td>1.1110</td>\n",
       "      <td>0.013000</td>\n",
       "      <td>86.073</td>\n",
       "      <td>0.000</td>\n",
       "      <td>1.086000</td>\n",
       "      <td>1.136</td>\n",
       "    </tr>\n",
       "    <tr>\n",
       "      <th>S</th>\n",
       "      <td>0.9696</td>\n",
       "      <td>0.017000</td>\n",
       "      <td>56.560</td>\n",
       "      <td>0.000</td>\n",
       "      <td>0.936000</td>\n",
       "      <td>1.003</td>\n",
       "    </tr>\n",
       "    <tr>\n",
       "      <th>T</th>\n",
       "      <td>0.8818</td>\n",
       "      <td>0.009000</td>\n",
       "      <td>97.459</td>\n",
       "      <td>0.000</td>\n",
       "      <td>0.864000</td>\n",
       "      <td>0.900</td>\n",
       "    </tr>\n",
       "    <tr>\n",
       "      <th>Automatic</th>\n",
       "      <td>1.6009</td>\n",
       "      <td>0.008000</td>\n",
       "      <td>198.096</td>\n",
       "      <td>0.000</td>\n",
       "      <td>1.585000</td>\n",
       "      <td>1.617</td>\n",
       "    </tr>\n",
       "    <tr>\n",
       "      <th>Manual</th>\n",
       "      <td>1.4652</td>\n",
       "      <td>0.008000</td>\n",
       "      <td>191.859</td>\n",
       "      <td>0.000</td>\n",
       "      <td>1.450000</td>\n",
       "      <td>1.480</td>\n",
       "    </tr>\n",
       "    <tr>\n",
       "      <th>SemiAuto</th>\n",
       "      <td>1.5973</td>\n",
       "      <td>0.008000</td>\n",
       "      <td>191.618</td>\n",
       "      <td>0.000</td>\n",
       "      <td>1.581000</td>\n",
       "      <td>1.614</td>\n",
       "    </tr>\n",
       "  </tbody>\n",
       "</table>\n",
       "</div>"
      ],
      "text/plain": [
       "                   coef   std err        t  P>|t|    [0.025  0.975]\n",
       "Intercept        4.6635  0.023000  202.652  0.000  4.618000   4.709\n",
       "year             0.1326  0.001000  135.623  0.000  0.131000   0.135\n",
       "np.log(mileage) -0.0260  0.001000  -18.170  0.000 -0.029000  -0.023\n",
       "fuelType         0.0332  0.004000    8.040  0.000  0.025000   0.041\n",
       "tax              0.0001  0.000031    3.470  0.001  0.000046   0.000\n",
       "mpg             -0.0028  0.000000  -13.814  0.000 -0.003000  -0.002\n",
       "engineSize       0.2995  0.004000   80.115  0.000  0.292000   0.307\n",
       "A                0.7757  0.007000  117.312  0.000  0.763000   0.789\n",
       "Q                0.9254  0.007000  140.446  0.000  0.912000   0.938\n",
       "R                1.1110  0.013000   86.073  0.000  1.086000   1.136\n",
       "S                0.9696  0.017000   56.560  0.000  0.936000   1.003\n",
       "T                0.8818  0.009000   97.459  0.000  0.864000   0.900\n",
       "Automatic        1.6009  0.008000  198.096  0.000  1.585000   1.617\n",
       "Manual           1.4652  0.008000  191.859  0.000  1.450000   1.480\n",
       "SemiAuto         1.5973  0.008000  191.618  0.000  1.581000   1.614"
      ]
     },
     "execution_count": 468,
     "metadata": {},
     "output_type": "execute_result"
    }
   ],
   "source": [
    "table = mod.summary().tables[1]\n",
    "df_t = pd.read_html(table.as_html(), header=0, index_col=0)[0] # Эту строку запоминать не нужно\n",
    "df_t"
   ]
  },
  {
   "cell_type": "markdown",
   "id": "66f0c818",
   "metadata": {},
   "source": [
    "Вычислим критическое значение для t-теста c уровнем значимости 10%."
   ]
  },
  {
   "cell_type": "code",
   "execution_count": 469,
   "id": "087405d3",
   "metadata": {},
   "outputs": [
    {
     "name": "stdout",
     "output_type": "stream",
     "text": [
      "Уровень значимости alpha:  0.1\n",
      "Критическое значение t_crit:  1.645\n"
     ]
    }
   ],
   "source": [
    "alpha = 0.1 # уровень значимости\n",
    "print('Уровень значимости alpha: ', alpha)\n",
    "DF = int(mod.df_resid) # число степеней свободы \n",
    "t_crit = scipy.stats.t.ppf(1-alpha/2, DF)\n",
    "print('Критическое значение t_crit: ', t_crit.round(3))"
   ]
  },
  {
   "cell_type": "code",
   "execution_count": 470,
   "id": "56f8d582",
   "metadata": {},
   "outputs": [
    {
     "data": {
      "text/html": [
       "<div>\n",
       "<style scoped>\n",
       "    .dataframe tbody tr th:only-of-type {\n",
       "        vertical-align: middle;\n",
       "    }\n",
       "\n",
       "    .dataframe tbody tr th {\n",
       "        vertical-align: top;\n",
       "    }\n",
       "\n",
       "    .dataframe thead th {\n",
       "        text-align: right;\n",
       "    }\n",
       "</style>\n",
       "<table border=\"1\" class=\"dataframe\">\n",
       "  <thead>\n",
       "    <tr style=\"text-align: right;\">\n",
       "      <th></th>\n",
       "      <th>coef</th>\n",
       "      <th>std err</th>\n",
       "      <th>t</th>\n",
       "      <th>P&gt;|t|</th>\n",
       "      <th>[0.025</th>\n",
       "      <th>0.975]</th>\n",
       "      <th>znachimosty</th>\n",
       "    </tr>\n",
       "  </thead>\n",
       "  <tbody>\n",
       "    <tr>\n",
       "      <th>Intercept</th>\n",
       "      <td>4.6635</td>\n",
       "      <td>0.023000</td>\n",
       "      <td>202.652</td>\n",
       "      <td>0.000</td>\n",
       "      <td>4.618000</td>\n",
       "      <td>4.709</td>\n",
       "      <td>znachim</td>\n",
       "    </tr>\n",
       "    <tr>\n",
       "      <th>year</th>\n",
       "      <td>0.1326</td>\n",
       "      <td>0.001000</td>\n",
       "      <td>135.623</td>\n",
       "      <td>0.000</td>\n",
       "      <td>0.131000</td>\n",
       "      <td>0.135</td>\n",
       "      <td>znachim</td>\n",
       "    </tr>\n",
       "    <tr>\n",
       "      <th>np.log(mileage)</th>\n",
       "      <td>-0.0260</td>\n",
       "      <td>0.001000</td>\n",
       "      <td>-18.170</td>\n",
       "      <td>0.000</td>\n",
       "      <td>-0.029000</td>\n",
       "      <td>-0.023</td>\n",
       "      <td>znachim</td>\n",
       "    </tr>\n",
       "    <tr>\n",
       "      <th>fuelType</th>\n",
       "      <td>0.0332</td>\n",
       "      <td>0.004000</td>\n",
       "      <td>8.040</td>\n",
       "      <td>0.000</td>\n",
       "      <td>0.025000</td>\n",
       "      <td>0.041</td>\n",
       "      <td>znachim</td>\n",
       "    </tr>\n",
       "    <tr>\n",
       "      <th>tax</th>\n",
       "      <td>0.0001</td>\n",
       "      <td>0.000031</td>\n",
       "      <td>3.470</td>\n",
       "      <td>0.001</td>\n",
       "      <td>0.000046</td>\n",
       "      <td>0.000</td>\n",
       "      <td>znachim</td>\n",
       "    </tr>\n",
       "    <tr>\n",
       "      <th>mpg</th>\n",
       "      <td>-0.0028</td>\n",
       "      <td>0.000000</td>\n",
       "      <td>-13.814</td>\n",
       "      <td>0.000</td>\n",
       "      <td>-0.003000</td>\n",
       "      <td>-0.002</td>\n",
       "      <td>znachim</td>\n",
       "    </tr>\n",
       "    <tr>\n",
       "      <th>engineSize</th>\n",
       "      <td>0.2995</td>\n",
       "      <td>0.004000</td>\n",
       "      <td>80.115</td>\n",
       "      <td>0.000</td>\n",
       "      <td>0.292000</td>\n",
       "      <td>0.307</td>\n",
       "      <td>znachim</td>\n",
       "    </tr>\n",
       "    <tr>\n",
       "      <th>A</th>\n",
       "      <td>0.7757</td>\n",
       "      <td>0.007000</td>\n",
       "      <td>117.312</td>\n",
       "      <td>0.000</td>\n",
       "      <td>0.763000</td>\n",
       "      <td>0.789</td>\n",
       "      <td>znachim</td>\n",
       "    </tr>\n",
       "    <tr>\n",
       "      <th>Q</th>\n",
       "      <td>0.9254</td>\n",
       "      <td>0.007000</td>\n",
       "      <td>140.446</td>\n",
       "      <td>0.000</td>\n",
       "      <td>0.912000</td>\n",
       "      <td>0.938</td>\n",
       "      <td>znachim</td>\n",
       "    </tr>\n",
       "    <tr>\n",
       "      <th>R</th>\n",
       "      <td>1.1110</td>\n",
       "      <td>0.013000</td>\n",
       "      <td>86.073</td>\n",
       "      <td>0.000</td>\n",
       "      <td>1.086000</td>\n",
       "      <td>1.136</td>\n",
       "      <td>znachim</td>\n",
       "    </tr>\n",
       "    <tr>\n",
       "      <th>S</th>\n",
       "      <td>0.9696</td>\n",
       "      <td>0.017000</td>\n",
       "      <td>56.560</td>\n",
       "      <td>0.000</td>\n",
       "      <td>0.936000</td>\n",
       "      <td>1.003</td>\n",
       "      <td>znachim</td>\n",
       "    </tr>\n",
       "    <tr>\n",
       "      <th>T</th>\n",
       "      <td>0.8818</td>\n",
       "      <td>0.009000</td>\n",
       "      <td>97.459</td>\n",
       "      <td>0.000</td>\n",
       "      <td>0.864000</td>\n",
       "      <td>0.900</td>\n",
       "      <td>znachim</td>\n",
       "    </tr>\n",
       "    <tr>\n",
       "      <th>Automatic</th>\n",
       "      <td>1.6009</td>\n",
       "      <td>0.008000</td>\n",
       "      <td>198.096</td>\n",
       "      <td>0.000</td>\n",
       "      <td>1.585000</td>\n",
       "      <td>1.617</td>\n",
       "      <td>znachim</td>\n",
       "    </tr>\n",
       "    <tr>\n",
       "      <th>Manual</th>\n",
       "      <td>1.4652</td>\n",
       "      <td>0.008000</td>\n",
       "      <td>191.859</td>\n",
       "      <td>0.000</td>\n",
       "      <td>1.450000</td>\n",
       "      <td>1.480</td>\n",
       "      <td>znachim</td>\n",
       "    </tr>\n",
       "    <tr>\n",
       "      <th>SemiAuto</th>\n",
       "      <td>1.5973</td>\n",
       "      <td>0.008000</td>\n",
       "      <td>191.618</td>\n",
       "      <td>0.000</td>\n",
       "      <td>1.581000</td>\n",
       "      <td>1.614</td>\n",
       "      <td>znachim</td>\n",
       "    </tr>\n",
       "  </tbody>\n",
       "</table>\n",
       "</div>"
      ],
      "text/plain": [
       "                   coef   std err        t  P>|t|    [0.025  0.975]  \\\n",
       "Intercept        4.6635  0.023000  202.652  0.000  4.618000   4.709   \n",
       "year             0.1326  0.001000  135.623  0.000  0.131000   0.135   \n",
       "np.log(mileage) -0.0260  0.001000  -18.170  0.000 -0.029000  -0.023   \n",
       "fuelType         0.0332  0.004000    8.040  0.000  0.025000   0.041   \n",
       "tax              0.0001  0.000031    3.470  0.001  0.000046   0.000   \n",
       "mpg             -0.0028  0.000000  -13.814  0.000 -0.003000  -0.002   \n",
       "engineSize       0.2995  0.004000   80.115  0.000  0.292000   0.307   \n",
       "A                0.7757  0.007000  117.312  0.000  0.763000   0.789   \n",
       "Q                0.9254  0.007000  140.446  0.000  0.912000   0.938   \n",
       "R                1.1110  0.013000   86.073  0.000  1.086000   1.136   \n",
       "S                0.9696  0.017000   56.560  0.000  0.936000   1.003   \n",
       "T                0.8818  0.009000   97.459  0.000  0.864000   0.900   \n",
       "Automatic        1.6009  0.008000  198.096  0.000  1.585000   1.617   \n",
       "Manual           1.4652  0.008000  191.859  0.000  1.450000   1.480   \n",
       "SemiAuto         1.5973  0.008000  191.618  0.000  1.581000   1.614   \n",
       "\n",
       "                znachimosty  \n",
       "Intercept           znachim  \n",
       "year                znachim  \n",
       "np.log(mileage)     znachim  \n",
       "fuelType            znachim  \n",
       "tax                 znachim  \n",
       "mpg                 znachim  \n",
       "engineSize          znachim  \n",
       "A                   znachim  \n",
       "Q                   znachim  \n",
       "R                   znachim  \n",
       "S                   znachim  \n",
       "T                   znachim  \n",
       "Automatic           znachim  \n",
       "Manual              znachim  \n",
       "SemiAuto            znachim  "
      ]
     },
     "execution_count": 470,
     "metadata": {},
     "output_type": "execute_result"
    }
   ],
   "source": [
    "df_t['znachimosty'] = df_t.apply(lambda x : 'znachim' if np.abs(x['t']) > t_crit else 'ne znachim', axis = 1 )\n",
    "df_t"
   ]
  },
  {
   "cell_type": "markdown",
   "id": "286f7f4a",
   "metadata": {},
   "source": [
    "Построим 95% довирительные интервалы для каждого коэффицента"
   ]
  },
  {
   "cell_type": "code",
   "execution_count": 471,
   "id": "0f8d4593",
   "metadata": {},
   "outputs": [
    {
     "data": {
      "text/html": [
       "<div>\n",
       "<style scoped>\n",
       "    .dataframe tbody tr th:only-of-type {\n",
       "        vertical-align: middle;\n",
       "    }\n",
       "\n",
       "    .dataframe tbody tr th {\n",
       "        vertical-align: top;\n",
       "    }\n",
       "\n",
       "    .dataframe thead th {\n",
       "        text-align: right;\n",
       "    }\n",
       "</style>\n",
       "<table border=\"1\" class=\"dataframe\">\n",
       "  <thead>\n",
       "    <tr style=\"text-align: right;\">\n",
       "      <th></th>\n",
       "      <th>0</th>\n",
       "      <th>1</th>\n",
       "    </tr>\n",
       "  </thead>\n",
       "  <tbody>\n",
       "    <tr>\n",
       "      <th>Intercept</th>\n",
       "      <td>4.066337</td>\n",
       "      <td>4.152300</td>\n",
       "    </tr>\n",
       "    <tr>\n",
       "      <th>year</th>\n",
       "      <td>0.128743</td>\n",
       "      <td>0.132505</td>\n",
       "    </tr>\n",
       "    <tr>\n",
       "      <th>np.log(mileage)</th>\n",
       "      <td>-0.022418</td>\n",
       "      <td>-0.016820</td>\n",
       "    </tr>\n",
       "    <tr>\n",
       "      <th>tax</th>\n",
       "      <td>-0.000157</td>\n",
       "      <td>-0.000035</td>\n",
       "    </tr>\n",
       "    <tr>\n",
       "      <th>mpg</th>\n",
       "      <td>-0.006937</td>\n",
       "      <td>-0.005935</td>\n",
       "    </tr>\n",
       "    <tr>\n",
       "      <th>engineSize</th>\n",
       "      <td>0.269560</td>\n",
       "      <td>0.284415</td>\n",
       "    </tr>\n",
       "    <tr>\n",
       "      <th>A</th>\n",
       "      <td>0.662240</td>\n",
       "      <td>0.688577</td>\n",
       "    </tr>\n",
       "    <tr>\n",
       "      <th>Q</th>\n",
       "      <td>0.790799</td>\n",
       "      <td>0.815774</td>\n",
       "    </tr>\n",
       "    <tr>\n",
       "      <th>R</th>\n",
       "      <td>0.985951</td>\n",
       "      <td>1.035107</td>\n",
       "    </tr>\n",
       "    <tr>\n",
       "      <th>S</th>\n",
       "      <td>0.820278</td>\n",
       "      <td>0.885436</td>\n",
       "    </tr>\n",
       "    <tr>\n",
       "      <th>T</th>\n",
       "      <td>0.749951</td>\n",
       "      <td>0.784524</td>\n",
       "    </tr>\n",
       "    <tr>\n",
       "      <th>Automatic</th>\n",
       "      <td>1.395480</td>\n",
       "      <td>1.425224</td>\n",
       "    </tr>\n",
       "    <tr>\n",
       "      <th>Manual</th>\n",
       "      <td>1.274334</td>\n",
       "      <td>1.304000</td>\n",
       "    </tr>\n",
       "    <tr>\n",
       "      <th>SemiAuto</th>\n",
       "      <td>1.394423</td>\n",
       "      <td>1.425176</td>\n",
       "    </tr>\n",
       "    <tr>\n",
       "      <th>Diesel</th>\n",
       "      <td>1.072543</td>\n",
       "      <td>1.112621</td>\n",
       "    </tr>\n",
       "    <tr>\n",
       "      <th>Hybrid</th>\n",
       "      <td>1.864324</td>\n",
       "      <td>1.981682</td>\n",
       "    </tr>\n",
       "    <tr>\n",
       "      <th>Petrol</th>\n",
       "      <td>1.072244</td>\n",
       "      <td>1.115223</td>\n",
       "    </tr>\n",
       "  </tbody>\n",
       "</table>\n",
       "</div>"
      ],
      "text/plain": [
       "                        0         1\n",
       "Intercept        4.066337  4.152300\n",
       "year             0.128743  0.132505\n",
       "np.log(mileage) -0.022418 -0.016820\n",
       "tax             -0.000157 -0.000035\n",
       "mpg             -0.006937 -0.005935\n",
       "engineSize       0.269560  0.284415\n",
       "A                0.662240  0.688577\n",
       "Q                0.790799  0.815774\n",
       "R                0.985951  1.035107\n",
       "S                0.820278  0.885436\n",
       "T                0.749951  0.784524\n",
       "Automatic        1.395480  1.425224\n",
       "Manual           1.274334  1.304000\n",
       "SemiAuto         1.394423  1.425176\n",
       "Diesel           1.072543  1.112621\n",
       "Hybrid           1.864324  1.981682\n",
       "Petrol           1.072244  1.115223"
      ]
     },
     "execution_count": 471,
     "metadata": {},
     "output_type": "execute_result"
    }
   ],
   "source": [
    "math_eq.conf_int(alpha=0.05)"
   ]
  },
  {
   "cell_type": "markdown",
   "id": "14c43e08",
   "metadata": {},
   "source": [
    "### Значимость регрессии"
   ]
  },
  {
   "cell_type": "code",
   "execution_count": 472,
   "id": "1194326f",
   "metadata": {},
   "outputs": [
    {
     "data": {
      "text/plain": [
       "(7468.74, 0.0)"
      ]
     },
     "execution_count": 472,
     "metadata": {},
     "output_type": "execute_result"
    }
   ],
   "source": [
    "# Результаты F-теста на значимость регрессии (тестовая статистика и P-значение)\n",
    "mod.fvalue.round(3), mod.f_pvalue"
   ]
  },
  {
   "cell_type": "code",
   "execution_count": 473,
   "id": "36b22c3c",
   "metadata": {},
   "outputs": [
    {
     "data": {
      "text/plain": [
       "1.753"
      ]
     },
     "execution_count": 473,
     "metadata": {},
     "output_type": "execute_result"
    }
   ],
   "source": [
    "# 5%-критическое значение F-распределения\n",
    "f.ppf(q=1-0.05, dfn=mod.df_model, dfd=mod.df_resid).round(3)"
   ]
  },
  {
   "cell_type": "markdown",
   "id": "d71a3bd8",
   "metadata": {},
   "source": [
    "**Вывод: ререссия значима**"
   ]
  },
  {
   "cell_type": "markdown",
   "id": "fe876606",
   "metadata": {},
   "source": [
    "###  Cовместная значимость tax, year и mileage т.е. гипотеза $H_0:\\beta_{tax}=\\beta_{year}=\\beta_{mileage}=0$"
   ]
  },
  {
   "cell_type": "code",
   "execution_count": 474,
   "id": "2edb5e6f",
   "metadata": {},
   "outputs": [
    {
     "name": "stdout",
     "output_type": "stream",
     "text": [
      "<F test: F=10816.3874503085, p=0.0, df_denom=1.07e+04, df_num=3>\n"
     ]
    }
   ],
   "source": [
    "print(math_eq.f_test('tax=year=np.log(mileage)=0'))"
   ]
  },
  {
   "cell_type": "code",
   "execution_count": 475,
   "id": "bf19ddb7",
   "metadata": {},
   "outputs": [
    {
     "data": {
      "text/plain": [
       "2.60574248730106"
      ]
     },
     "execution_count": 475,
     "metadata": {},
     "output_type": "execute_result"
    }
   ],
   "source": [
    "f.ppf(q=1-0.05, dfn=3, dfd=mod.df_resid)"
   ]
  },
  {
   "cell_type": "markdown",
   "id": "ab18f535",
   "metadata": {},
   "source": [
    "**Вывод: коэффиценты совместно значимы**"
   ]
  },
  {
   "cell_type": "markdown",
   "id": "658947e8",
   "metadata": {},
   "source": [
    "###  Протестируем гипотезу о линейных ограничениях $H_0:\\beta_{A}+\\beta_{Q}+\\beta_{R}+\\beta_{S}+\\beta_{T}=3$"
   ]
  },
  {
   "cell_type": "code",
   "execution_count": 476,
   "id": "03d6a274",
   "metadata": {},
   "outputs": [
    {
     "name": "stdout",
     "output_type": "stream",
     "text": [
      "<F test: F=24.854877251465968, p=6.278560912071521e-07, df_denom=1.07e+04, df_num=1>\n"
     ]
    }
   ],
   "source": [
    "print(math_eq.f_test('A+Q+R+S+T=4'))"
   ]
  },
  {
   "cell_type": "code",
   "execution_count": 477,
   "id": "6a885d82",
   "metadata": {},
   "outputs": [
    {
     "data": {
      "text/plain": [
       "3.842331715973178"
      ]
     },
     "execution_count": 477,
     "metadata": {},
     "output_type": "execute_result"
    }
   ],
   "source": [
    "# критическое значение\n",
    "f.ppf(q=1-0.05, dfn=1, dfd=mod.df_resid)"
   ]
  },
  {
   "cell_type": "markdown",
   "id": "3df9849f",
   "metadata": {},
   "source": [
    "Вывод: гипотеза отвергается"
   ]
  },
  {
   "cell_type": "markdown",
   "id": "9ad0c620",
   "metadata": {},
   "source": [
    "###  Стрктурные сдвиги"
   ]
  },
  {
   "cell_type": "markdown",
   "id": "f5384dba",
   "metadata": {},
   "source": [
    "Рассмотрим нашу регресси отдельно для Дизельных $(\\beta)$  и Бензиновых $(\\gamma)$ audi\n",
    "\n",
    "Будем тестировать $H_0:\\beta_j=\\gamma_j$\n",
    "\n",
    "Уровеь значимости 1%"
   ]
  },
  {
   "cell_type": "code",
   "execution_count": 478,
   "id": "3ce5e4b7",
   "metadata": {},
   "outputs": [
    {
     "data": {
      "text/html": [
       "<table class=\"simpletable\">\n",
       "<tr>\n",
       "         <td></td>            <th>бенз</th>        <th>диз</th>       <th>Общая</th>  \n",
       "</tr>\n",
       "<tr>\n",
       "  <th>A</th>               <td>-0.4156***</td> <td>-1.9548***</td>  <td>0.7757***</td>\n",
       "</tr>\n",
       "<tr>\n",
       "  <th></th>                 <td>(0.1333)</td>   <td>(0.1358)</td>   <td>(0.0066)</td> \n",
       "</tr>\n",
       "<tr>\n",
       "  <th>Assoc</th>            <td>0.8781***</td> <td>-0.7087***</td>      <td></td>     \n",
       "</tr>\n",
       "<tr>\n",
       "  <th></th>                 <td>(0.0931)</td>   <td>(0.0984)</td>       <td></td>     \n",
       "</tr>\n",
       "<tr>\n",
       "  <th>Automatic</th>            <td></td>           <td></td>       <td>1.6009***</td>\n",
       "</tr>\n",
       "<tr>\n",
       "  <th></th>                     <td></td>           <td></td>       <td>(0.0081)</td> \n",
       "</tr>\n",
       "<tr>\n",
       "  <th>B</th>               <td>-0.3066***</td> <td>-1.8877***</td>      <td></td>     \n",
       "</tr>\n",
       "<tr>\n",
       "  <th></th>                 <td>(0.0904)</td>   <td>(0.0927)</td>       <td></td>     \n",
       "</tr>\n",
       "<tr>\n",
       "  <th>Bach</th>             <td>0.3423***</td> <td>-1.1104***</td>      <td></td>     \n",
       "</tr>\n",
       "<tr>\n",
       "  <th></th>                 <td>(0.1146)</td>   <td>(0.1198)</td>       <td></td>     \n",
       "</tr>\n",
       "<tr>\n",
       "  <th>C</th>               <td>-0.2881***</td> <td>-1.7903***</td>      <td></td>     \n",
       "</tr>\n",
       "<tr>\n",
       "  <th></th>                 <td>(0.0774)</td>   <td>(0.0811)</td>       <td></td>     \n",
       "</tr>\n",
       "<tr>\n",
       "  <th>College</th>          <td>0.8491***</td> <td>-0.9312***</td>      <td></td>     \n",
       "</tr>\n",
       "<tr>\n",
       "  <th></th>                 <td>(0.0876)</td>   <td>(0.0894)</td>       <td></td>     \n",
       "</tr>\n",
       "<tr>\n",
       "  <th>D</th>               <td>-0.3816***</td> <td>-2.0973***</td>      <td></td>     \n",
       "</tr>\n",
       "<tr>\n",
       "  <th></th>                 <td>(0.0860)</td>   <td>(0.0920)</td>       <td></td>     \n",
       "</tr>\n",
       "<tr>\n",
       "  <th>E</th>                <td>4.9068***</td>  <td>3.6192***</td>      <td></td>     \n",
       "</tr>\n",
       "<tr>\n",
       "  <th></th>                 <td>(0.1087)</td>   <td>(0.1140)</td>       <td></td>     \n",
       "</tr>\n",
       "<tr>\n",
       "  <th>Gender</th>           <td>3.5149***</td> <td>-0.0000***</td>      <td></td>     \n",
       "</tr>\n",
       "<tr>\n",
       "  <th></th>                 <td>(0.0925)</td>   <td>(0.0000)</td>       <td></td>     \n",
       "</tr>\n",
       "<tr>\n",
       "  <th>Intercept</th>        <td>3.5149***</td> <td>-4.1110***</td>  <td>4.6635***</td>\n",
       "</tr>\n",
       "<tr>\n",
       "  <th></th>                 <td>(0.0925)</td>   <td>(0.1761)</td>   <td>(0.0230)</td> \n",
       "</tr>\n",
       "<tr>\n",
       "  <th>LunchType</th>        <td>3.8230***</td>  <td>3.7628***</td>      <td></td>     \n",
       "</tr>\n",
       "<tr>\n",
       "  <th></th>                 <td>(0.0966)</td>   <td>(0.0963)</td>       <td></td>     \n",
       "</tr>\n",
       "<tr>\n",
       "  <th>Manual</th>               <td></td>           <td></td>       <td>1.4652***</td>\n",
       "</tr>\n",
       "<tr>\n",
       "  <th></th>                     <td></td>           <td></td>       <td>(0.0076)</td> \n",
       "</tr>\n",
       "<tr>\n",
       "  <th>Master</th>            <td>0.2339</td>   <td>-1.0576***</td>      <td></td>     \n",
       "</tr>\n",
       "<tr>\n",
       "  <th></th>                 <td>(0.1434)</td>   <td>(0.1483)</td>       <td></td>     \n",
       "</tr>\n",
       "<tr>\n",
       "  <th>Q</th>                    <td></td>           <td></td>       <td>0.9254***</td>\n",
       "</tr>\n",
       "<tr>\n",
       "  <th></th>                     <td></td>           <td></td>       <td>(0.0066)</td> \n",
       "</tr>\n",
       "<tr>\n",
       "  <th>R</th>                    <td></td>           <td></td>       <td>1.1110***</td>\n",
       "</tr>\n",
       "<tr>\n",
       "  <th></th>                     <td></td>           <td></td>       <td>(0.0129)</td> \n",
       "</tr>\n",
       "<tr>\n",
       "  <th>R-squared</th>         <td>0.8713</td>     <td>0.8722</td>     <td>0.8937</td>  \n",
       "</tr>\n",
       "<tr>\n",
       "  <th>R-squared Adj.</th>    <td>0.8712</td>     <td>0.8721</td>     <td>0.8936</td>  \n",
       "</tr>\n",
       "<tr>\n",
       "  <th>ReadingScore</th>     <td>0.2459***</td>  <td>0.2484***</td>      <td></td>     \n",
       "</tr>\n",
       "<tr>\n",
       "  <th></th>                 <td>(0.0106)</td>   <td>(0.0105)</td>       <td></td>     \n",
       "</tr>\n",
       "<tr>\n",
       "  <th>S</th>                    <td></td>           <td></td>       <td>0.9696***</td>\n",
       "</tr>\n",
       "<tr>\n",
       "  <th></th>                     <td></td>           <td></td>       <td>(0.0171)</td> \n",
       "</tr>\n",
       "<tr>\n",
       "  <th>School</th>           <td>1.2115***</td> <td>-0.3030***</td>      <td></td>     \n",
       "</tr>\n",
       "<tr>\n",
       "  <th></th>                 <td>(0.0748)</td>   <td>(0.0752)</td>       <td></td>     \n",
       "</tr>\n",
       "<tr>\n",
       "  <th>SemiAuto</th>             <td></td>           <td></td>       <td>1.5973***</td>\n",
       "</tr>\n",
       "<tr>\n",
       "  <th></th>                     <td></td>           <td></td>       <td>(0.0083)</td> \n",
       "</tr>\n",
       "<tr>\n",
       "  <th>T</th>                    <td></td>           <td></td>       <td>0.8818***</td>\n",
       "</tr>\n",
       "<tr>\n",
       "  <th></th>                     <td></td>           <td></td>       <td>(0.0090)</td> \n",
       "</tr>\n",
       "<tr>\n",
       "  <th>TestPrep</th>        <td>-3.5515***</td> <td>-3.5396***</td>      <td></td>     \n",
       "</tr>\n",
       "<tr>\n",
       "  <th></th>                 <td>(0.1019)</td>   <td>(0.1005)</td>       <td></td>     \n",
       "</tr>\n",
       "<tr>\n",
       "  <th>WritingScore</th>     <td>0.6788***</td>  <td>0.6971***</td>      <td></td>     \n",
       "</tr>\n",
       "<tr>\n",
       "  <th></th>                 <td>(0.0108)</td>   <td>(0.0108)</td>       <td></td>     \n",
       "</tr>\n",
       "<tr>\n",
       "  <th>engineSize</th>           <td></td>           <td></td>       <td>0.2995***</td>\n",
       "</tr>\n",
       "<tr>\n",
       "  <th></th>                     <td></td>           <td></td>       <td>(0.0037)</td> \n",
       "</tr>\n",
       "<tr>\n",
       "  <th>fuelType</th>             <td></td>           <td></td>       <td>0.0332***</td>\n",
       "</tr>\n",
       "<tr>\n",
       "  <th></th>                     <td></td>           <td></td>       <td>(0.0041)</td> \n",
       "</tr>\n",
       "<tr>\n",
       "  <th>mpg</th>                  <td></td>           <td></td>      <td>-0.0028***</td>\n",
       "</tr>\n",
       "<tr>\n",
       "  <th></th>                     <td></td>           <td></td>       <td>(0.0002)</td> \n",
       "</tr>\n",
       "<tr>\n",
       "  <th>np.log(mileage)</th>      <td></td>           <td></td>      <td>-0.0260***</td>\n",
       "</tr>\n",
       "<tr>\n",
       "  <th></th>                     <td></td>           <td></td>       <td>(0.0014)</td> \n",
       "</tr>\n",
       "<tr>\n",
       "  <th>tax</th>                  <td></td>           <td></td>       <td>0.0001***</td>\n",
       "</tr>\n",
       "<tr>\n",
       "  <th></th>                     <td></td>           <td></td>       <td>(0.0000)</td> \n",
       "</tr>\n",
       "<tr>\n",
       "  <th>year</th>                 <td></td>           <td></td>       <td>0.1326***</td>\n",
       "</tr>\n",
       "<tr>\n",
       "  <th></th>                     <td></td>           <td></td>       <td>(0.0010)</td> \n",
       "</tr>\n",
       "<tr>\n",
       "  <th>N</th>               <td>15217.0000</td> <td>15424.0000</td> <td>10668.0000</td>\n",
       "</tr>\n",
       "<tr>\n",
       "  <th>F-stat</th>           <td>8574.3964</td>  <td>8763.8763</td>  <td>7468.7402</td>\n",
       "</tr>\n",
       "</table>"
      ],
      "text/plain": [
       "<class 'statsmodels.iolib.summary2.Summary'>\n",
       "\"\"\"\n",
       "\n",
       "================================================\n",
       "                   бенз       диз       Общая   \n",
       "------------------------------------------------\n",
       "A               -0.4156*** -1.9548*** 0.7757*** \n",
       "                (0.1333)   (0.1358)   (0.0066)  \n",
       "Assoc           0.8781***  -0.7087***           \n",
       "                (0.0931)   (0.0984)             \n",
       "Automatic                             1.6009*** \n",
       "                                      (0.0081)  \n",
       "B               -0.3066*** -1.8877***           \n",
       "                (0.0904)   (0.0927)             \n",
       "Bach            0.3423***  -1.1104***           \n",
       "                (0.1146)   (0.1198)             \n",
       "C               -0.2881*** -1.7903***           \n",
       "                (0.0774)   (0.0811)             \n",
       "College         0.8491***  -0.9312***           \n",
       "                (0.0876)   (0.0894)             \n",
       "D               -0.3816*** -2.0973***           \n",
       "                (0.0860)   (0.0920)             \n",
       "E               4.9068***  3.6192***            \n",
       "                (0.1087)   (0.1140)             \n",
       "Gender          3.5149***  -0.0000***           \n",
       "                (0.0925)   (0.0000)             \n",
       "Intercept       3.5149***  -4.1110*** 4.6635*** \n",
       "                (0.0925)   (0.1761)   (0.0230)  \n",
       "LunchType       3.8230***  3.7628***            \n",
       "                (0.0966)   (0.0963)             \n",
       "Manual                                1.4652*** \n",
       "                                      (0.0076)  \n",
       "Master          0.2339     -1.0576***           \n",
       "                (0.1434)   (0.1483)             \n",
       "Q                                     0.9254*** \n",
       "                                      (0.0066)  \n",
       "R                                     1.1110*** \n",
       "                                      (0.0129)  \n",
       "R-squared       0.8713     0.8722     0.8937    \n",
       "R-squared Adj.  0.8712     0.8721     0.8936    \n",
       "ReadingScore    0.2459***  0.2484***            \n",
       "                (0.0106)   (0.0105)             \n",
       "S                                     0.9696*** \n",
       "                                      (0.0171)  \n",
       "School          1.2115***  -0.3030***           \n",
       "                (0.0748)   (0.0752)             \n",
       "SemiAuto                              1.5973*** \n",
       "                                      (0.0083)  \n",
       "T                                     0.8818*** \n",
       "                                      (0.0090)  \n",
       "TestPrep        -3.5515*** -3.5396***           \n",
       "                (0.1019)   (0.1005)             \n",
       "WritingScore    0.6788***  0.6971***            \n",
       "                (0.0108)   (0.0108)             \n",
       "engineSize                            0.2995*** \n",
       "                                      (0.0037)  \n",
       "fuelType                              0.0332*** \n",
       "                                      (0.0041)  \n",
       "mpg                                   -0.0028***\n",
       "                                      (0.0002)  \n",
       "np.log(mileage)                       -0.0260***\n",
       "                                      (0.0014)  \n",
       "tax                                   0.0001*** \n",
       "                                      (0.0000)  \n",
       "year                                  0.1326*** \n",
       "                                      (0.0010)  \n",
       "N               15217.0000 15424.0000 10668.0000\n",
       "F-stat          8574.3964  8763.8763  7468.7402 \n",
       "================================================\n",
       "Standard errors in parentheses.\n",
       "* p<.1, ** p<.05, ***p<.01\n",
       "\"\"\""
      ]
     },
     "execution_count": 478,
     "metadata": {},
     "output_type": "execute_result"
    }
   ],
   "source": [
    "specification = 'np.log(price)~year+np.log(mileage)+fuelType+tax+mpg+engineSize+A+Q+R+S+T+Automatic+Manual+SemiAuto'\n",
    "# подгонка по полному датасету\n",
    "mod_overall = smf.ols(formula=specification, data=df).fit()\n",
    "# подгонка только по D\n",
    "mod_pet_only = smf.ols(formula=specification, data=df[df['fuelType']==1]).fit()\n",
    "# подгонка только по P\n",
    "mod_dis_only = smf.ols(formula=specification, data=df[df['fuelType']==0 ]).fit()\n",
    "# Вывод трёх регрессий в одной таблице\n",
    "summary_col(results=[mod_men_only, mod_women_only, mod_overall], stars=True, model_names=['бенз', 'диз', 'Общая'],\n",
    "           info_dict={'N': lambda x: x.nobs, 'F-stat': lambda x: x.fvalue})"
   ]
  },
  {
   "cell_type": "code",
   "execution_count": 479,
   "id": "6f267b73",
   "metadata": {},
   "outputs": [
    {
     "name": "stdout",
     "output_type": "stream",
     "text": [
      "RSS (overall)= 251.32364020880416\n",
      "RSS (pet_only)= 99.04686504056028\n",
      "RSS (dis_only)= 136.23001175768275\n",
      "n= 10668.0\n",
      "k= 12.0\n"
     ]
    }
   ],
   "source": [
    "# Ингредиенты тестовой статистики\n",
    "print('RSS (overall)=', mod_overall.ssr)\n",
    "print('RSS (pet_only)=', mod_pet_only.ssr)\n",
    "print('RSS (dis_only)=', mod_dis_only.ssr)\n",
    "print('n=', mod_overall.nobs)\n",
    "print('k=', mod_overall.df_model)"
   ]
  },
  {
   "cell_type": "code",
   "execution_count": 480,
   "id": "50d5f5d8",
   "metadata": {},
   "outputs": [
    {
     "data": {
      "text/plain": [
       "(55.833, 2.132)"
      ]
     },
     "execution_count": 480,
     "metadata": {},
     "output_type": "execute_result"
    }
   ],
   "source": [
    "F = (mod_overall.ssr-mod_pet_only.ssr-mod_dis_only.ssr)/(mod_pet_only.ssr+mod_dis_only.ssr)*(mod_overall.nobs-2*(mod_overall.df_model+1))/(mod_overall.df_model+1)\n",
    "F_cr = f.ppf(q=1-0.01, dfn=mod_overall.df_model+1, dfd=mod_overall.nobs-2*(mod_overall.df_model+1))\n",
    "F.round(3), F_cr.round(3)"
   ]
  },
  {
   "cell_type": "markdown",
   "id": "da11b308",
   "metadata": {},
   "source": [
    "**Вывод: струтурные сдвиги значимы**"
   ]
  },
  {
   "cell_type": "markdown",
   "id": "e96c4a9a",
   "metadata": {},
   "source": [
    "Грифики"
   ]
  },
  {
   "cell_type": "code",
   "execution_count": 481,
   "id": "9435f658",
   "metadata": {},
   "outputs": [
    {
     "data": {
      "text/plain": [
       "<seaborn.axisgrid.FacetGrid at 0x7fc6409e3eb0>"
      ]
     },
     "execution_count": 481,
     "metadata": {},
     "output_type": "execute_result"
    },
    {
     "data": {
      "image/png": "[encoded data removed]",
      "text/plain": [
       "<Figure size 569.236x500 with 1 Axes>"
      ]
     },
     "metadata": {},
     "output_type": "display_data"
    }
   ],
   "source": [
    "sns.lmplot(data=df.sample(n = 300), x='mileage', y='price', hue='fuelType', ci=False, markers='.')"
   ]
  },
  {
   "cell_type": "code",
   "execution_count": 482,
   "id": "f6f75741",
   "metadata": {},
   "outputs": [
    {
     "data": {
      "text/plain": [
       "<seaborn.axisgrid.FacetGrid at 0x7fc66618ef10>"
      ]
     },
     "execution_count": 482,
     "metadata": {},
     "output_type": "execute_result"
    },
    {
     "data": {
      "image/png": "[encoded data removed]",
      "text/plain": [
       "<Figure size 569.236x500 with 1 Axes>"
      ]
     },
     "metadata": {},
     "output_type": "display_data"
    }
   ],
   "source": [
    "sns.lmplot(data=df.sample(n = 300), x='tax', y='price', hue='fuelType', ci=False, markers='.')"
   ]
  },
  {
   "cell_type": "markdown",
   "id": "d4a1a767",
   "metadata": {},
   "source": [
    "###  Прогнозирование для модели регрессии"
   ]
  },
  {
   "cell_type": "markdown",
   "id": "85088630",
   "metadata": {},
   "source": [
    "Рассморим 10 человек"
   ]
  },
  {
   "cell_type": "code",
   "execution_count": 483,
   "id": "10d51b4a",
   "metadata": {},
   "outputs": [
    {
     "data": {
      "text/html": [
       "<div>\n",
       "<style scoped>\n",
       "    .dataframe tbody tr th:only-of-type {\n",
       "        vertical-align: middle;\n",
       "    }\n",
       "\n",
       "    .dataframe tbody tr th {\n",
       "        vertical-align: top;\n",
       "    }\n",
       "\n",
       "    .dataframe thead th {\n",
       "        text-align: right;\n",
       "    }\n",
       "</style>\n",
       "<table border=\"1\" class=\"dataframe\">\n",
       "  <thead>\n",
       "    <tr style=\"text-align: right;\">\n",
       "      <th></th>\n",
       "      <th>year</th>\n",
       "      <th>mileage</th>\n",
       "      <th>fuelType</th>\n",
       "      <th>tax</th>\n",
       "      <th>mpg</th>\n",
       "      <th>engineSize</th>\n",
       "      <th>A</th>\n",
       "      <th>Q</th>\n",
       "      <th>R</th>\n",
       "      <th>S</th>\n",
       "      <th>T</th>\n",
       "      <th>Automatic</th>\n",
       "      <th>Manual</th>\n",
       "      <th>SemiAuto</th>\n",
       "    </tr>\n",
       "  </thead>\n",
       "  <tbody>\n",
       "    <tr>\n",
       "      <th>5831</th>\n",
       "      <td>22</td>\n",
       "      <td>12697</td>\n",
       "      <td>0</td>\n",
       "      <td>145</td>\n",
       "      <td>32.8</td>\n",
       "      <td>3.0</td>\n",
       "      <td>0</td>\n",
       "      <td>1</td>\n",
       "      <td>0</td>\n",
       "      <td>0</td>\n",
       "      <td>0</td>\n",
       "      <td>1</td>\n",
       "      <td>0</td>\n",
       "      <td>0</td>\n",
       "    </tr>\n",
       "    <tr>\n",
       "      <th>10177</th>\n",
       "      <td>19</td>\n",
       "      <td>35000</td>\n",
       "      <td>0</td>\n",
       "      <td>125</td>\n",
       "      <td>58.9</td>\n",
       "      <td>2.0</td>\n",
       "      <td>1</td>\n",
       "      <td>0</td>\n",
       "      <td>0</td>\n",
       "      <td>0</td>\n",
       "      <td>0</td>\n",
       "      <td>0</td>\n",
       "      <td>1</td>\n",
       "      <td>0</td>\n",
       "    </tr>\n",
       "    <tr>\n",
       "      <th>9142</th>\n",
       "      <td>19</td>\n",
       "      <td>39255</td>\n",
       "      <td>0</td>\n",
       "      <td>20</td>\n",
       "      <td>70.6</td>\n",
       "      <td>1.6</td>\n",
       "      <td>1</td>\n",
       "      <td>0</td>\n",
       "      <td>0</td>\n",
       "      <td>0</td>\n",
       "      <td>0</td>\n",
       "      <td>1</td>\n",
       "      <td>0</td>\n",
       "      <td>0</td>\n",
       "    </tr>\n",
       "    <tr>\n",
       "      <th>5205</th>\n",
       "      <td>19</td>\n",
       "      <td>28894</td>\n",
       "      <td>1</td>\n",
       "      <td>30</td>\n",
       "      <td>58.9</td>\n",
       "      <td>1.4</td>\n",
       "      <td>1</td>\n",
       "      <td>0</td>\n",
       "      <td>0</td>\n",
       "      <td>0</td>\n",
       "      <td>0</td>\n",
       "      <td>0</td>\n",
       "      <td>1</td>\n",
       "      <td>0</td>\n",
       "    </tr>\n",
       "    <tr>\n",
       "      <th>925</th>\n",
       "      <td>19</td>\n",
       "      <td>36399</td>\n",
       "      <td>0</td>\n",
       "      <td>125</td>\n",
       "      <td>60.1</td>\n",
       "      <td>3.0</td>\n",
       "      <td>1</td>\n",
       "      <td>0</td>\n",
       "      <td>0</td>\n",
       "      <td>0</td>\n",
       "      <td>0</td>\n",
       "      <td>1</td>\n",
       "      <td>0</td>\n",
       "      <td>0</td>\n",
       "    </tr>\n",
       "    <tr>\n",
       "      <th>652</th>\n",
       "      <td>22</td>\n",
       "      <td>10434</td>\n",
       "      <td>1</td>\n",
       "      <td>145</td>\n",
       "      <td>42.2</td>\n",
       "      <td>1.5</td>\n",
       "      <td>1</td>\n",
       "      <td>0</td>\n",
       "      <td>0</td>\n",
       "      <td>0</td>\n",
       "      <td>0</td>\n",
       "      <td>1</td>\n",
       "      <td>0</td>\n",
       "      <td>0</td>\n",
       "    </tr>\n",
       "    <tr>\n",
       "      <th>10481</th>\n",
       "      <td>22</td>\n",
       "      <td>3215</td>\n",
       "      <td>1</td>\n",
       "      <td>150</td>\n",
       "      <td>44.8</td>\n",
       "      <td>1.5</td>\n",
       "      <td>1</td>\n",
       "      <td>0</td>\n",
       "      <td>0</td>\n",
       "      <td>0</td>\n",
       "      <td>0</td>\n",
       "      <td>1</td>\n",
       "      <td>0</td>\n",
       "      <td>0</td>\n",
       "    </tr>\n",
       "    <tr>\n",
       "      <th>8813</th>\n",
       "      <td>20</td>\n",
       "      <td>27626</td>\n",
       "      <td>1</td>\n",
       "      <td>150</td>\n",
       "      <td>67.3</td>\n",
       "      <td>1.0</td>\n",
       "      <td>1</td>\n",
       "      <td>0</td>\n",
       "      <td>0</td>\n",
       "      <td>0</td>\n",
       "      <td>0</td>\n",
       "      <td>0</td>\n",
       "      <td>1</td>\n",
       "      <td>0</td>\n",
       "    </tr>\n",
       "    <tr>\n",
       "      <th>8459</th>\n",
       "      <td>22</td>\n",
       "      <td>9999</td>\n",
       "      <td>0</td>\n",
       "      <td>145</td>\n",
       "      <td>38.2</td>\n",
       "      <td>2.0</td>\n",
       "      <td>0</td>\n",
       "      <td>1</td>\n",
       "      <td>0</td>\n",
       "      <td>0</td>\n",
       "      <td>0</td>\n",
       "      <td>1</td>\n",
       "      <td>0</td>\n",
       "      <td>0</td>\n",
       "    </tr>\n",
       "    <tr>\n",
       "      <th>2616</th>\n",
       "      <td>20</td>\n",
       "      <td>15751</td>\n",
       "      <td>0</td>\n",
       "      <td>145</td>\n",
       "      <td>65.7</td>\n",
       "      <td>2.0</td>\n",
       "      <td>1</td>\n",
       "      <td>0</td>\n",
       "      <td>0</td>\n",
       "      <td>0</td>\n",
       "      <td>0</td>\n",
       "      <td>0</td>\n",
       "      <td>0</td>\n",
       "      <td>1</td>\n",
       "    </tr>\n",
       "  </tbody>\n",
       "</table>\n",
       "</div>"
      ],
      "text/plain": [
       "       year  mileage  fuelType  tax   mpg  engineSize  A  Q  R  S  T  \\\n",
       "5831     22    12697         0  145  32.8         3.0  0  1  0  0  0   \n",
       "10177    19    35000         0  125  58.9         2.0  1  0  0  0  0   \n",
       "9142     19    39255         0   20  70.6         1.6  1  0  0  0  0   \n",
       "5205     19    28894         1   30  58.9         1.4  1  0  0  0  0   \n",
       "925      19    36399         0  125  60.1         3.0  1  0  0  0  0   \n",
       "652      22    10434         1  145  42.2         1.5  1  0  0  0  0   \n",
       "10481    22     3215         1  150  44.8         1.5  1  0  0  0  0   \n",
       "8813     20    27626         1  150  67.3         1.0  1  0  0  0  0   \n",
       "8459     22     9999         0  145  38.2         2.0  0  1  0  0  0   \n",
       "2616     20    15751         0  145  65.7         2.0  1  0  0  0  0   \n",
       "\n",
       "       Automatic  Manual  SemiAuto  \n",
       "5831           1       0         0  \n",
       "10177          0       1         0  \n",
       "9142           1       0         0  \n",
       "5205           0       1         0  \n",
       "925            1       0         0  \n",
       "652            1       0         0  \n",
       "10481          1       0         0  \n",
       "8813           0       1         0  \n",
       "8459           1       0         0  \n",
       "2616           0       0         1  "
      ]
     },
     "execution_count": 483,
     "metadata": {},
     "output_type": "execute_result"
    }
   ],
   "source": [
    "new_df = df.sample(10)\n",
    "new_df = new_df.drop(labels={'transmission', 'model', 'price'}, axis=1)\n",
    "new_df"
   ]
  },
  {
   "cell_type": "code",
   "execution_count": 484,
   "id": "d0f5d82f",
   "metadata": {},
   "outputs": [
    {
     "data": {
      "text/plain": [
       "5831     10.684025\n",
       "10177     9.600063\n",
       "9142      9.569265\n",
       "5205      9.448489\n",
       "925      10.030969\n",
       "652      10.097243\n",
       "10481    10.121153\n",
       "8813      9.451776\n",
       "8459     10.375659\n",
       "2616      9.868743\n",
       "dtype: float64"
      ]
     },
     "execution_count": 484,
     "metadata": {},
     "output_type": "execute_result"
    }
   ],
   "source": [
    "mod.predict(exog=new_df, transform=True)"
   ]
  },
  {
   "cell_type": "markdown",
   "id": "7484f844",
   "metadata": {},
   "source": [
    "Непосредственное вычисление $\\hat{\\beta}_0+\\hat{\\beta}_1x_1+\\cdots+\\hat{\\beta}_kx_k$ для каждого наблюдения.\n",
    "\n",
    "В матричном виде $X\\hat{\\beta}$, где $X$ состоит из значений переменных по столбцам + первый столбец из единиц для учёта $\\beta_0$"
   ]
  },
  {
   "cell_type": "markdown",
   "id": "711bd03f",
   "metadata": {},
   "source": [
    "###  Мультиколлинеарность"
   ]
  },
  {
   "cell_type": "markdown",
   "id": "122caa9d",
   "metadata": {},
   "source": [
    "Какие регрессии нужно рассматривать для вычисления показателей VIF для коэффициентов mpg, tax, fuelType?\n",
    "\n",
    "\n",
    "Ответ:\n",
    "\n",
    "\n",
    "**mpg~year+np.log(mileage)+fuelType+tax+engineSize+A+Q+R+S+T+Automatic+Manual+SemiAuto**\n",
    "\n",
    "\n",
    "**tax~year+np.log(mileage)+fuelType+mpg+engineSize+A+Q+R+S+T+Automatic+Manual+SemiAuto**\n",
    "\n",
    "\n",
    "**fuelType~year+np.log(mileage)+tax+mpg+engineSize+A+Q+R+S+T+Automatic+Manual+SemiAuto**"
   ]
  },
  {
   "cell_type": "code",
   "execution_count": 485,
   "id": "31bfb726",
   "metadata": {},
   "outputs": [
    {
     "name": "stdout",
     "output_type": "stream",
     "text": [
      "\n",
      "===============================================\n",
      "                   mpg        tax      fuelType\n",
      "-----------------------------------------------\n",
      "A               11.437***  25.148***  0.172*** \n",
      "                (0.298)    (2.082)    (0.015)  \n",
      "Automatic       15.062***  88.696***  0.542*** \n",
      "                (0.360)    (2.414)    (0.018)  \n",
      "Intercept       48.152***  245.666*** 1.799*** \n",
      "                (1.002)    (6.897)    (0.051)  \n",
      "Manual          17.156***  70.082***  0.616*** \n",
      "                (0.327)    (2.324)    (0.017)  \n",
      "Q               6.104***   43.277***  -0.039** \n",
      "                (0.311)    (2.046)    (0.015)  \n",
      "R               14.408***  75.867***  0.991*** \n",
      "                (0.604)    (4.026)    (0.029)  \n",
      "R-squared       0.676      0.475      0.481    \n",
      "R-squared Adj.  0.676      0.475      0.480    \n",
      "S               8.003***   62.806***  0.357*** \n",
      "                (0.820)    (5.401)    (0.040)  \n",
      "SemiAuto        15.935***  86.888***  0.641*** \n",
      "                (0.369)    (2.505)    (0.019)  \n",
      "T               8.199***   38.568***  0.318*** \n",
      "                (0.427)    (2.844)    (0.021)  \n",
      "engineSize      -7.516***  9.432***   -0.528***\n",
      "                (0.164)    (1.182)    (0.007)  \n",
      "fuelType        -10.331*** -2.403*             \n",
      "                (0.171)    (1.310)             \n",
      "mpg                        -2.798***  -0.025***\n",
      "                           (0.058)    (0.000)  \n",
      "np.log(mileage) 1.725***   -0.901**   0.031*** \n",
      "                (0.067)    (0.454)    (0.003)  \n",
      "tax             -0.064***             -0.000*  \n",
      "                (0.001)               (0.000)  \n",
      "year            -0.597***  -4.938***  -0.003   \n",
      "                (0.047)    (0.306)    (0.002)  \n",
      "===============================================\n",
      "Standard errors in parentheses.\n",
      "* p<.1, ** p<.05, ***p<.01\n"
     ]
    }
   ],
   "source": [
    "mod1 = smf.ols(formula='mpg~year+np.log(mileage)+fuelType+tax+engineSize+A+Q+R+S+T+Automatic+Manual+SemiAuto', data=df).fit()\n",
    "mod2 = smf.ols(formula='tax~year+np.log(mileage)+fuelType+mpg+engineSize+A+Q+R+S+T+Automatic+Manual+SemiAuto', data=df).fit()\n",
    "mod3 = smf.ols(formula='fuelType~year+np.log(mileage)+tax+mpg+engineSize+A+Q+R+S+T+Automatic+Manual+SemiAuto', data=df).fit()\n",
    "#Результаты подгонки\n",
    "# info_dict = {'No. Observations': lambda x: '{0:d}'.format(int(x.nobs)), \n",
    "#              'R-squared': lambda x: \"%#8.3f\" % x.rsquared,\n",
    "#              'Adj. R-squared': lambda x: \"%#8.3f\" % x.rsquared_adj,\n",
    "#              'Residual Std. Error': lambda x: \"%#8.3f\" % x.mse_resid**0.5,\n",
    "#              'F-statistic': lambda x: '{:.3f}'.format(x.fvalue), \n",
    "#              'Prob (F-statistic)': lambda x: '{:.3f}'.format(x.f_pvalue)\n",
    "#              }\n",
    "\n",
    "print(summary_col([mod1, mod2, mod3], stars=True, float_format='%.3f'))"
   ]
  },
  {
   "cell_type": "code",
   "execution_count": 486,
   "id": "20d36445",
   "metadata": {},
   "outputs": [
    {
     "data": {
      "text/plain": [
       "3.09"
      ]
     },
     "execution_count": 486,
     "metadata": {},
     "output_type": "execute_result"
    }
   ],
   "source": [
    "VIF_1 = 1/(1 - mod1.rsquared)\n",
    "VIF_1.round(2)"
   ]
  },
  {
   "cell_type": "code",
   "execution_count": 487,
   "id": "71b519d1",
   "metadata": {},
   "outputs": [
    {
     "data": {
      "text/plain": [
       "1.91"
      ]
     },
     "execution_count": 487,
     "metadata": {},
     "output_type": "execute_result"
    }
   ],
   "source": [
    "VIF_2 = 1/(1 - mod2.rsquared)\n",
    "VIF_2.round(2)"
   ]
  },
  {
   "cell_type": "code",
   "execution_count": 488,
   "id": "6b7fa54f",
   "metadata": {},
   "outputs": [
    {
     "data": {
      "text/plain": [
       "1.93"
      ]
     },
     "execution_count": 488,
     "metadata": {},
     "output_type": "execute_result"
    }
   ],
   "source": [
    "VIF_1 = 1/(1 - mod3.rsquared)\n",
    "VIF_1.round(2)"
   ]
  },
  {
   "cell_type": "markdown",
   "id": "84e85c09",
   "metadata": {},
   "source": [
    "Корреляции между регрессорами"
   ]
  },
  {
   "cell_type": "code",
   "execution_count": 489,
   "id": "a8f631b6",
   "metadata": {},
   "outputs": [
    {
     "data": {
      "text/html": [
       "<div>\n",
       "<style scoped>\n",
       "    .dataframe tbody tr th:only-of-type {\n",
       "        vertical-align: middle;\n",
       "    }\n",
       "\n",
       "    .dataframe tbody tr th {\n",
       "        vertical-align: top;\n",
       "    }\n",
       "\n",
       "    .dataframe thead th {\n",
       "        text-align: right;\n",
       "    }\n",
       "</style>\n",
       "<table border=\"1\" class=\"dataframe\">\n",
       "  <thead>\n",
       "    <tr style=\"text-align: right;\">\n",
       "      <th></th>\n",
       "      <th>Coef.</th>\n",
       "      <th>Std.Err.</th>\n",
       "      <th>t</th>\n",
       "      <th>P&gt;|t|</th>\n",
       "      <th>[0.025</th>\n",
       "      <th>0.975]</th>\n",
       "    </tr>\n",
       "  </thead>\n",
       "  <tbody>\n",
       "    <tr>\n",
       "      <th>Intercept</th>\n",
       "      <td>4.663451</td>\n",
       "      <td>0.023012</td>\n",
       "      <td>202.652149</td>\n",
       "      <td>0.000000e+00</td>\n",
       "      <td>4.618343</td>\n",
       "      <td>4.708559</td>\n",
       "    </tr>\n",
       "    <tr>\n",
       "      <th>year</th>\n",
       "      <td>0.132614</td>\n",
       "      <td>0.000978</td>\n",
       "      <td>135.622877</td>\n",
       "      <td>0.000000e+00</td>\n",
       "      <td>0.130697</td>\n",
       "      <td>0.134531</td>\n",
       "    </tr>\n",
       "    <tr>\n",
       "      <th>np.log(mileage)</th>\n",
       "      <td>-0.026014</td>\n",
       "      <td>0.001432</td>\n",
       "      <td>-18.169648</td>\n",
       "      <td>1.116710e-72</td>\n",
       "      <td>-0.028820</td>\n",
       "      <td>-0.023207</td>\n",
       "    </tr>\n",
       "    <tr>\n",
       "      <th>fuelType</th>\n",
       "      <td>0.033233</td>\n",
       "      <td>0.004133</td>\n",
       "      <td>8.040302</td>\n",
       "      <td>9.910834e-16</td>\n",
       "      <td>0.025131</td>\n",
       "      <td>0.041336</td>\n",
       "    </tr>\n",
       "    <tr>\n",
       "      <th>tax</th>\n",
       "      <td>0.000106</td>\n",
       "      <td>0.000031</td>\n",
       "      <td>3.470295</td>\n",
       "      <td>5.219446e-04</td>\n",
       "      <td>0.000046</td>\n",
       "      <td>0.000166</td>\n",
       "    </tr>\n",
       "    <tr>\n",
       "      <th>mpg</th>\n",
       "      <td>-0.002786</td>\n",
       "      <td>0.000202</td>\n",
       "      <td>-13.814161</td>\n",
       "      <td>4.914607e-43</td>\n",
       "      <td>-0.003182</td>\n",
       "      <td>-0.002391</td>\n",
       "    </tr>\n",
       "    <tr>\n",
       "      <th>engineSize</th>\n",
       "      <td>0.299534</td>\n",
       "      <td>0.003739</td>\n",
       "      <td>80.115122</td>\n",
       "      <td>0.000000e+00</td>\n",
       "      <td>0.292205</td>\n",
       "      <td>0.306863</td>\n",
       "    </tr>\n",
       "    <tr>\n",
       "      <th>A</th>\n",
       "      <td>0.775725</td>\n",
       "      <td>0.006612</td>\n",
       "      <td>117.312201</td>\n",
       "      <td>0.000000e+00</td>\n",
       "      <td>0.762763</td>\n",
       "      <td>0.788687</td>\n",
       "    </tr>\n",
       "    <tr>\n",
       "      <th>Q</th>\n",
       "      <td>0.925354</td>\n",
       "      <td>0.006589</td>\n",
       "      <td>140.445801</td>\n",
       "      <td>0.000000e+00</td>\n",
       "      <td>0.912439</td>\n",
       "      <td>0.938269</td>\n",
       "    </tr>\n",
       "    <tr>\n",
       "      <th>R</th>\n",
       "      <td>1.111001</td>\n",
       "      <td>0.012908</td>\n",
       "      <td>86.072586</td>\n",
       "      <td>0.000000e+00</td>\n",
       "      <td>1.085699</td>\n",
       "      <td>1.136302</td>\n",
       "    </tr>\n",
       "    <tr>\n",
       "      <th>S</th>\n",
       "      <td>0.969601</td>\n",
       "      <td>0.017143</td>\n",
       "      <td>56.559953</td>\n",
       "      <td>0.000000e+00</td>\n",
       "      <td>0.935997</td>\n",
       "      <td>1.003204</td>\n",
       "    </tr>\n",
       "    <tr>\n",
       "      <th>T</th>\n",
       "      <td>0.881771</td>\n",
       "      <td>0.009048</td>\n",
       "      <td>97.458964</td>\n",
       "      <td>0.000000e+00</td>\n",
       "      <td>0.864036</td>\n",
       "      <td>0.899506</td>\n",
       "    </tr>\n",
       "    <tr>\n",
       "      <th>Automatic</th>\n",
       "      <td>1.600933</td>\n",
       "      <td>0.008082</td>\n",
       "      <td>198.095704</td>\n",
       "      <td>0.000000e+00</td>\n",
       "      <td>1.585092</td>\n",
       "      <td>1.616775</td>\n",
       "    </tr>\n",
       "    <tr>\n",
       "      <th>Manual</th>\n",
       "      <td>1.465198</td>\n",
       "      <td>0.007637</td>\n",
       "      <td>191.859190</td>\n",
       "      <td>0.000000e+00</td>\n",
       "      <td>1.450228</td>\n",
       "      <td>1.480168</td>\n",
       "    </tr>\n",
       "    <tr>\n",
       "      <th>SemiAuto</th>\n",
       "      <td>1.597320</td>\n",
       "      <td>0.008336</td>\n",
       "      <td>191.617767</td>\n",
       "      <td>0.000000e+00</td>\n",
       "      <td>1.580980</td>\n",
       "      <td>1.613660</td>\n",
       "    </tr>\n",
       "  </tbody>\n",
       "</table>\n",
       "</div>"
      ],
      "text/plain": [
       "                    Coef.  Std.Err.           t         P>|t|    [0.025  \\\n",
       "Intercept        4.663451  0.023012  202.652149  0.000000e+00  4.618343   \n",
       "year             0.132614  0.000978  135.622877  0.000000e+00  0.130697   \n",
       "np.log(mileage) -0.026014  0.001432  -18.169648  1.116710e-72 -0.028820   \n",
       "fuelType         0.033233  0.004133    8.040302  9.910834e-16  0.025131   \n",
       "tax              0.000106  0.000031    3.470295  5.219446e-04  0.000046   \n",
       "mpg             -0.002786  0.000202  -13.814161  4.914607e-43 -0.003182   \n",
       "engineSize       0.299534  0.003739   80.115122  0.000000e+00  0.292205   \n",
       "A                0.775725  0.006612  117.312201  0.000000e+00  0.762763   \n",
       "Q                0.925354  0.006589  140.445801  0.000000e+00  0.912439   \n",
       "R                1.111001  0.012908   86.072586  0.000000e+00  1.085699   \n",
       "S                0.969601  0.017143   56.559953  0.000000e+00  0.935997   \n",
       "T                0.881771  0.009048   97.458964  0.000000e+00  0.864036   \n",
       "Automatic        1.600933  0.008082  198.095704  0.000000e+00  1.585092   \n",
       "Manual           1.465198  0.007637  191.859190  0.000000e+00  1.450228   \n",
       "SemiAuto         1.597320  0.008336  191.617767  0.000000e+00  1.580980   \n",
       "\n",
       "                   0.975]  \n",
       "Intercept        4.708559  \n",
       "year             0.134531  \n",
       "np.log(mileage) -0.023207  \n",
       "fuelType         0.041336  \n",
       "tax              0.000166  \n",
       "mpg             -0.002391  \n",
       "engineSize       0.306863  \n",
       "A                0.788687  \n",
       "Q                0.938269  \n",
       "R                1.136302  \n",
       "S                1.003204  \n",
       "T                0.899506  \n",
       "Automatic        1.616775  \n",
       "Manual           1.480168  \n",
       "SemiAuto         1.613660  "
      ]
     },
     "execution_count": 489,
     "metadata": {},
     "output_type": "execute_result"
    }
   ],
   "source": [
    "summary_params(mod)"
   ]
  },
  {
   "cell_type": "code",
   "execution_count": 490,
   "id": "b574bfa0",
   "metadata": {},
   "outputs": [
    {
     "data": {
      "text/html": [
       "<div>\n",
       "<style scoped>\n",
       "    .dataframe tbody tr th:only-of-type {\n",
       "        vertical-align: middle;\n",
       "    }\n",
       "\n",
       "    .dataframe tbody tr th {\n",
       "        vertical-align: top;\n",
       "    }\n",
       "\n",
       "    .dataframe thead th {\n",
       "        text-align: right;\n",
       "    }\n",
       "</style>\n",
       "<table border=\"1\" class=\"dataframe\">\n",
       "  <thead>\n",
       "    <tr style=\"text-align: right;\">\n",
       "      <th></th>\n",
       "      <th>Intercept</th>\n",
       "      <th>year</th>\n",
       "      <th>np.log(mileage)</th>\n",
       "      <th>fuelType</th>\n",
       "      <th>tax</th>\n",
       "      <th>mpg</th>\n",
       "      <th>engineSize</th>\n",
       "      <th>A</th>\n",
       "      <th>Q</th>\n",
       "      <th>R</th>\n",
       "      <th>S</th>\n",
       "      <th>T</th>\n",
       "      <th>Automatic</th>\n",
       "      <th>Manual</th>\n",
       "      <th>SemiAuto</th>\n",
       "    </tr>\n",
       "  </thead>\n",
       "  <tbody>\n",
       "    <tr>\n",
       "      <th>0</th>\n",
       "      <td>1.0</td>\n",
       "      <td>20.0</td>\n",
       "      <td>9.663643</td>\n",
       "      <td>1.0</td>\n",
       "      <td>150.0</td>\n",
       "      <td>55.4</td>\n",
       "      <td>1.4</td>\n",
       "      <td>1.0</td>\n",
       "      <td>0.0</td>\n",
       "      <td>0.0</td>\n",
       "      <td>0.0</td>\n",
       "      <td>0.0</td>\n",
       "      <td>0.0</td>\n",
       "      <td>1.0</td>\n",
       "      <td>0.0</td>\n",
       "    </tr>\n",
       "    <tr>\n",
       "      <th>1</th>\n",
       "      <td>1.0</td>\n",
       "      <td>19.0</td>\n",
       "      <td>10.496897</td>\n",
       "      <td>0.0</td>\n",
       "      <td>20.0</td>\n",
       "      <td>64.2</td>\n",
       "      <td>2.0</td>\n",
       "      <td>1.0</td>\n",
       "      <td>0.0</td>\n",
       "      <td>0.0</td>\n",
       "      <td>0.0</td>\n",
       "      <td>0.0</td>\n",
       "      <td>1.0</td>\n",
       "      <td>0.0</td>\n",
       "      <td>0.0</td>\n",
       "    </tr>\n",
       "    <tr>\n",
       "      <th>2</th>\n",
       "      <td>1.0</td>\n",
       "      <td>19.0</td>\n",
       "      <td>10.307151</td>\n",
       "      <td>1.0</td>\n",
       "      <td>30.0</td>\n",
       "      <td>55.4</td>\n",
       "      <td>1.4</td>\n",
       "      <td>1.0</td>\n",
       "      <td>0.0</td>\n",
       "      <td>0.0</td>\n",
       "      <td>0.0</td>\n",
       "      <td>0.0</td>\n",
       "      <td>0.0</td>\n",
       "      <td>1.0</td>\n",
       "      <td>0.0</td>\n",
       "    </tr>\n",
       "    <tr>\n",
       "      <th>3</th>\n",
       "      <td>1.0</td>\n",
       "      <td>20.0</td>\n",
       "      <td>10.164004</td>\n",
       "      <td>0.0</td>\n",
       "      <td>145.0</td>\n",
       "      <td>67.3</td>\n",
       "      <td>2.0</td>\n",
       "      <td>1.0</td>\n",
       "      <td>0.0</td>\n",
       "      <td>0.0</td>\n",
       "      <td>0.0</td>\n",
       "      <td>0.0</td>\n",
       "      <td>1.0</td>\n",
       "      <td>0.0</td>\n",
       "      <td>0.0</td>\n",
       "    </tr>\n",
       "    <tr>\n",
       "      <th>4</th>\n",
       "      <td>1.0</td>\n",
       "      <td>22.0</td>\n",
       "      <td>7.599902</td>\n",
       "      <td>1.0</td>\n",
       "      <td>145.0</td>\n",
       "      <td>49.6</td>\n",
       "      <td>1.0</td>\n",
       "      <td>1.0</td>\n",
       "      <td>0.0</td>\n",
       "      <td>0.0</td>\n",
       "      <td>0.0</td>\n",
       "      <td>0.0</td>\n",
       "      <td>0.0</td>\n",
       "      <td>1.0</td>\n",
       "      <td>0.0</td>\n",
       "    </tr>\n",
       "  </tbody>\n",
       "</table>\n",
       "</div>"
      ],
      "text/plain": [
       "   Intercept  year  np.log(mileage)  fuelType    tax   mpg  engineSize    A  \\\n",
       "0        1.0  20.0         9.663643       1.0  150.0  55.4         1.4  1.0   \n",
       "1        1.0  19.0        10.496897       0.0   20.0  64.2         2.0  1.0   \n",
       "2        1.0  19.0        10.307151       1.0   30.0  55.4         1.4  1.0   \n",
       "3        1.0  20.0        10.164004       0.0  145.0  67.3         2.0  1.0   \n",
       "4        1.0  22.0         7.599902       1.0  145.0  49.6         1.0  1.0   \n",
       "\n",
       "     Q    R    S    T  Automatic  Manual  SemiAuto  \n",
       "0  0.0  0.0  0.0  0.0        0.0     1.0       0.0  \n",
       "1  0.0  0.0  0.0  0.0        1.0     0.0       0.0  \n",
       "2  0.0  0.0  0.0  0.0        0.0     1.0       0.0  \n",
       "3  0.0  0.0  0.0  0.0        1.0     0.0       0.0  \n",
       "4  0.0  0.0  0.0  0.0        0.0     1.0       0.0  "
      ]
     },
     "execution_count": 490,
     "metadata": {},
     "output_type": "execute_result"
    }
   ],
   "source": [
    "# Матрицы регрессионного дизайна\n",
    "y, X = patsy.dmatrices(specification, df, return_type='dataframe')\n",
    "X.head()"
   ]
  },
  {
   "cell_type": "code",
   "execution_count": 491,
   "id": "c6691bc9",
   "metadata": {},
   "outputs": [
    {
     "data": {
      "text/html": [
       "<div>\n",
       "<style scoped>\n",
       "    .dataframe tbody tr th:only-of-type {\n",
       "        vertical-align: middle;\n",
       "    }\n",
       "\n",
       "    .dataframe tbody tr th {\n",
       "        vertical-align: top;\n",
       "    }\n",
       "\n",
       "    .dataframe thead th {\n",
       "        text-align: right;\n",
       "    }\n",
       "</style>\n",
       "<table border=\"1\" class=\"dataframe\">\n",
       "  <thead>\n",
       "    <tr style=\"text-align: right;\">\n",
       "      <th></th>\n",
       "      <th>year</th>\n",
       "      <th>np.log(mileage)</th>\n",
       "      <th>fuelType</th>\n",
       "      <th>tax</th>\n",
       "      <th>mpg</th>\n",
       "      <th>engineSize</th>\n",
       "      <th>A</th>\n",
       "      <th>Q</th>\n",
       "      <th>R</th>\n",
       "      <th>S</th>\n",
       "      <th>T</th>\n",
       "      <th>Automatic</th>\n",
       "      <th>Manual</th>\n",
       "      <th>SemiAuto</th>\n",
       "    </tr>\n",
       "  </thead>\n",
       "  <tbody>\n",
       "    <tr>\n",
       "      <th>year</th>\n",
       "      <td>1.000</td>\n",
       "      <td>-0.678</td>\n",
       "      <td>0.122</td>\n",
       "      <td>0.093</td>\n",
       "      <td>-0.351</td>\n",
       "      <td>-0.032</td>\n",
       "      <td>-0.150</td>\n",
       "      <td>0.189</td>\n",
       "      <td>0.001</td>\n",
       "      <td>-0.051</td>\n",
       "      <td>-0.071</td>\n",
       "      <td>0.110</td>\n",
       "      <td>-0.272</td>\n",
       "      <td>0.181</td>\n",
       "    </tr>\n",
       "    <tr>\n",
       "      <th>np.log(mileage)</th>\n",
       "      <td>-0.678</td>\n",
       "      <td>1.000</td>\n",
       "      <td>-0.134</td>\n",
       "      <td>-0.185</td>\n",
       "      <td>0.421</td>\n",
       "      <td>0.011</td>\n",
       "      <td>0.154</td>\n",
       "      <td>-0.168</td>\n",
       "      <td>-0.026</td>\n",
       "      <td>0.032</td>\n",
       "      <td>0.030</td>\n",
       "      <td>-0.141</td>\n",
       "      <td>0.213</td>\n",
       "      <td>-0.091</td>\n",
       "    </tr>\n",
       "    <tr>\n",
       "      <th>fuelType</th>\n",
       "      <td>0.122</td>\n",
       "      <td>-0.134</td>\n",
       "      <td>1.000</td>\n",
       "      <td>0.103</td>\n",
       "      <td>-0.321</td>\n",
       "      <td>-0.369</td>\n",
       "      <td>0.008</td>\n",
       "      <td>-0.085</td>\n",
       "      <td>0.129</td>\n",
       "      <td>0.018</td>\n",
       "      <td>0.110</td>\n",
       "      <td>-0.110</td>\n",
       "      <td>0.067</td>\n",
       "      <td>0.031</td>\n",
       "    </tr>\n",
       "    <tr>\n",
       "      <th>tax</th>\n",
       "      <td>0.093</td>\n",
       "      <td>-0.185</td>\n",
       "      <td>0.103</td>\n",
       "      <td>1.000</td>\n",
       "      <td>-0.636</td>\n",
       "      <td>0.393</td>\n",
       "      <td>-0.382</td>\n",
       "      <td>0.297</td>\n",
       "      <td>0.232</td>\n",
       "      <td>0.097</td>\n",
       "      <td>0.060</td>\n",
       "      <td>0.203</td>\n",
       "      <td>-0.358</td>\n",
       "      <td>0.186</td>\n",
       "    </tr>\n",
       "    <tr>\n",
       "      <th>mpg</th>\n",
       "      <td>-0.351</td>\n",
       "      <td>0.421</td>\n",
       "      <td>-0.321</td>\n",
       "      <td>-0.636</td>\n",
       "      <td>1.000</td>\n",
       "      <td>-0.366</td>\n",
       "      <td>0.425</td>\n",
       "      <td>-0.345</td>\n",
       "      <td>-0.210</td>\n",
       "      <td>-0.076</td>\n",
       "      <td>-0.074</td>\n",
       "      <td>-0.205</td>\n",
       "      <td>0.385</td>\n",
       "      <td>-0.212</td>\n",
       "    </tr>\n",
       "    <tr>\n",
       "      <th>engineSize</th>\n",
       "      <td>-0.032</td>\n",
       "      <td>0.011</td>\n",
       "      <td>-0.369</td>\n",
       "      <td>0.393</td>\n",
       "      <td>-0.366</td>\n",
       "      <td>1.000</td>\n",
       "      <td>-0.192</td>\n",
       "      <td>0.090</td>\n",
       "      <td>0.331</td>\n",
       "      <td>0.098</td>\n",
       "      <td>0.020</td>\n",
       "      <td>0.248</td>\n",
       "      <td>-0.408</td>\n",
       "      <td>0.196</td>\n",
       "    </tr>\n",
       "    <tr>\n",
       "      <th>A</th>\n",
       "      <td>-0.150</td>\n",
       "      <td>0.154</td>\n",
       "      <td>0.008</td>\n",
       "      <td>-0.382</td>\n",
       "      <td>0.425</td>\n",
       "      <td>-0.192</td>\n",
       "      <td>1.000</td>\n",
       "      <td>-0.893</td>\n",
       "      <td>-0.155</td>\n",
       "      <td>-0.095</td>\n",
       "      <td>-0.226</td>\n",
       "      <td>-0.047</td>\n",
       "      <td>0.134</td>\n",
       "      <td>-0.096</td>\n",
       "    </tr>\n",
       "    <tr>\n",
       "      <th>Q</th>\n",
       "      <td>0.189</td>\n",
       "      <td>-0.168</td>\n",
       "      <td>-0.085</td>\n",
       "      <td>0.297</td>\n",
       "      <td>-0.345</td>\n",
       "      <td>0.090</td>\n",
       "      <td>-0.893</td>\n",
       "      <td>1.000</td>\n",
       "      <td>-0.088</td>\n",
       "      <td>-0.054</td>\n",
       "      <td>-0.128</td>\n",
       "      <td>0.029</td>\n",
       "      <td>-0.124</td>\n",
       "      <td>0.103</td>\n",
       "    </tr>\n",
       "    <tr>\n",
       "      <th>R</th>\n",
       "      <td>0.001</td>\n",
       "      <td>-0.026</td>\n",
       "      <td>0.129</td>\n",
       "      <td>0.232</td>\n",
       "      <td>-0.210</td>\n",
       "      <td>0.331</td>\n",
       "      <td>-0.155</td>\n",
       "      <td>-0.088</td>\n",
       "      <td>1.000</td>\n",
       "      <td>-0.009</td>\n",
       "      <td>-0.022</td>\n",
       "      <td>0.073</td>\n",
       "      <td>-0.098</td>\n",
       "      <td>0.035</td>\n",
       "    </tr>\n",
       "    <tr>\n",
       "      <th>S</th>\n",
       "      <td>-0.051</td>\n",
       "      <td>0.032</td>\n",
       "      <td>0.018</td>\n",
       "      <td>0.097</td>\n",
       "      <td>-0.076</td>\n",
       "      <td>0.098</td>\n",
       "      <td>-0.095</td>\n",
       "      <td>-0.054</td>\n",
       "      <td>-0.009</td>\n",
       "      <td>1.000</td>\n",
       "      <td>-0.014</td>\n",
       "      <td>0.087</td>\n",
       "      <td>-0.045</td>\n",
       "      <td>-0.033</td>\n",
       "    </tr>\n",
       "    <tr>\n",
       "      <th>T</th>\n",
       "      <td>-0.071</td>\n",
       "      <td>0.030</td>\n",
       "      <td>0.110</td>\n",
       "      <td>0.060</td>\n",
       "      <td>-0.074</td>\n",
       "      <td>0.020</td>\n",
       "      <td>-0.226</td>\n",
       "      <td>-0.128</td>\n",
       "      <td>-0.022</td>\n",
       "      <td>-0.014</td>\n",
       "      <td>1.000</td>\n",
       "      <td>-0.034</td>\n",
       "      <td>0.048</td>\n",
       "      <td>-0.019</td>\n",
       "    </tr>\n",
       "    <tr>\n",
       "      <th>Automatic</th>\n",
       "      <td>0.110</td>\n",
       "      <td>-0.141</td>\n",
       "      <td>-0.110</td>\n",
       "      <td>0.203</td>\n",
       "      <td>-0.205</td>\n",
       "      <td>0.248</td>\n",
       "      <td>-0.047</td>\n",
       "      <td>0.029</td>\n",
       "      <td>0.073</td>\n",
       "      <td>0.087</td>\n",
       "      <td>-0.034</td>\n",
       "      <td>1.000</td>\n",
       "      <td>-0.486</td>\n",
       "      <td>-0.415</td>\n",
       "    </tr>\n",
       "    <tr>\n",
       "      <th>Manual</th>\n",
       "      <td>-0.272</td>\n",
       "      <td>0.213</td>\n",
       "      <td>0.067</td>\n",
       "      <td>-0.358</td>\n",
       "      <td>0.385</td>\n",
       "      <td>-0.408</td>\n",
       "      <td>0.134</td>\n",
       "      <td>-0.124</td>\n",
       "      <td>-0.098</td>\n",
       "      <td>-0.045</td>\n",
       "      <td>0.048</td>\n",
       "      <td>-0.486</td>\n",
       "      <td>1.000</td>\n",
       "      <td>-0.593</td>\n",
       "    </tr>\n",
       "    <tr>\n",
       "      <th>SemiAuto</th>\n",
       "      <td>0.181</td>\n",
       "      <td>-0.091</td>\n",
       "      <td>0.031</td>\n",
       "      <td>0.186</td>\n",
       "      <td>-0.212</td>\n",
       "      <td>0.196</td>\n",
       "      <td>-0.096</td>\n",
       "      <td>0.103</td>\n",
       "      <td>0.035</td>\n",
       "      <td>-0.033</td>\n",
       "      <td>-0.019</td>\n",
       "      <td>-0.415</td>\n",
       "      <td>-0.593</td>\n",
       "      <td>1.000</td>\n",
       "    </tr>\n",
       "  </tbody>\n",
       "</table>\n",
       "</div>"
      ],
      "text/plain": [
       "                  year  np.log(mileage)  fuelType    tax    mpg  engineSize  \\\n",
       "year             1.000           -0.678     0.122  0.093 -0.351      -0.032   \n",
       "np.log(mileage) -0.678            1.000    -0.134 -0.185  0.421       0.011   \n",
       "fuelType         0.122           -0.134     1.000  0.103 -0.321      -0.369   \n",
       "tax              0.093           -0.185     0.103  1.000 -0.636       0.393   \n",
       "mpg             -0.351            0.421    -0.321 -0.636  1.000      -0.366   \n",
       "engineSize      -0.032            0.011    -0.369  0.393 -0.366       1.000   \n",
       "A               -0.150            0.154     0.008 -0.382  0.425      -0.192   \n",
       "Q                0.189           -0.168    -0.085  0.297 -0.345       0.090   \n",
       "R                0.001           -0.026     0.129  0.232 -0.210       0.331   \n",
       "S               -0.051            0.032     0.018  0.097 -0.076       0.098   \n",
       "T               -0.071            0.030     0.110  0.060 -0.074       0.020   \n",
       "Automatic        0.110           -0.141    -0.110  0.203 -0.205       0.248   \n",
       "Manual          -0.272            0.213     0.067 -0.358  0.385      -0.408   \n",
       "SemiAuto         0.181           -0.091     0.031  0.186 -0.212       0.196   \n",
       "\n",
       "                     A      Q      R      S      T  Automatic  Manual  \\\n",
       "year            -0.150  0.189  0.001 -0.051 -0.071      0.110  -0.272   \n",
       "np.log(mileage)  0.154 -0.168 -0.026  0.032  0.030     -0.141   0.213   \n",
       "fuelType         0.008 -0.085  0.129  0.018  0.110     -0.110   0.067   \n",
       "tax             -0.382  0.297  0.232  0.097  0.060      0.203  -0.358   \n",
       "mpg              0.425 -0.345 -0.210 -0.076 -0.074     -0.205   0.385   \n",
       "engineSize      -0.192  0.090  0.331  0.098  0.020      0.248  -0.408   \n",
       "A                1.000 -0.893 -0.155 -0.095 -0.226     -0.047   0.134   \n",
       "Q               -0.893  1.000 -0.088 -0.054 -0.128      0.029  -0.124   \n",
       "R               -0.155 -0.088  1.000 -0.009 -0.022      0.073  -0.098   \n",
       "S               -0.095 -0.054 -0.009  1.000 -0.014      0.087  -0.045   \n",
       "T               -0.226 -0.128 -0.022 -0.014  1.000     -0.034   0.048   \n",
       "Automatic       -0.047  0.029  0.073  0.087 -0.034      1.000  -0.486   \n",
       "Manual           0.134 -0.124 -0.098 -0.045  0.048     -0.486   1.000   \n",
       "SemiAuto        -0.096  0.103  0.035 -0.033 -0.019     -0.415  -0.593   \n",
       "\n",
       "                 SemiAuto  \n",
       "year                0.181  \n",
       "np.log(mileage)    -0.091  \n",
       "fuelType            0.031  \n",
       "tax                 0.186  \n",
       "mpg                -0.212  \n",
       "engineSize          0.196  \n",
       "A                  -0.096  \n",
       "Q                   0.103  \n",
       "R                   0.035  \n",
       "S                  -0.033  \n",
       "T                  -0.019  \n",
       "Automatic          -0.415  \n",
       "Manual             -0.593  \n",
       "SemiAuto            1.000  "
      ]
     },
     "execution_count": 491,
     "metadata": {},
     "output_type": "execute_result"
    }
   ],
   "source": [
    "# Удалим первый столбец с единицами\n",
    "# X.drop(labels='Intercept', axis=1)\n",
    "# Корреляционная матрицы для регрессоров\n",
    "X.drop(labels='Intercept', axis=1).corr().round(3)"
   ]
  },
  {
   "cell_type": "code",
   "execution_count": 492,
   "id": "0c80e8e5",
   "metadata": {},
   "outputs": [
    {
     "data": {
      "text/plain": [
       "<Axes: >"
      ]
     },
     "execution_count": 492,
     "metadata": {},
     "output_type": "execute_result"
    },
    {
     "data": {
      "image/png": "[encoded data removed]",
      "text/plain": [
       "<Figure size 1000x1000 with 2 Axes>"
      ]
     },
     "metadata": {},
     "output_type": "display_data"
    }
   ],
   "source": [
    "# Визуализация корреляционной матрицы\n",
    "fig, ax = plt.subplots(1, figsize=(10, 10))\n",
    "sns.heatmap(X.drop(labels='Intercept', axis=1).corr(), annot=True)"
   ]
  },
  {
   "cell_type": "markdown",
   "id": "c1d01c7d",
   "metadata": {},
   "source": [
    "**Вывод:**\n",
    " 1) между Q и A сильная обратная корелляция\n",
    " 2) есть сильная зависимость межлду mpg и mileage, что хорошо поддается логике\n",
    " 3) налог в большенсвте стран напрямую зависит от объема двигателя, поэтому между tax и engineSize прямая корелляция"
   ]
  },
  {
   "cell_type": "markdown",
   "id": "ace8ddb6",
   "metadata": {},
   "source": [
    "### 15. Тесты на спецификацию"
   ]
  },
  {
   "cell_type": "markdown",
   "id": "8c1b72ce",
   "metadata": {},
   "source": [
    "RESET-тест (неробастный!) со степенями главных компонент (до 4й)\n",
    "\n",
    "Гипотеза: $H_0:\\beta_{MathScore^2}=\\beta_{MathScore^3}=\\beta_{MathScore^4}=0$"
   ]
  },
  {
   "cell_type": "code",
   "execution_count": 493,
   "id": "945215e2",
   "metadata": {},
   "outputs": [
    {
     "data": {
      "text/plain": [
       "<class 'statsmodels.stats.contrast.ContrastResults'>\n",
       "<F test: F=7.186667183285677, p=8.133703527544391e-05, df_denom=1.07e+04, df_num=3>"
      ]
     },
     "execution_count": 493,
     "metadata": {},
     "output_type": "execute_result"
    }
   ],
   "source": [
    "linear_reset(mod, power=4, test_type='princomp', use_f=True)"
   ]
  },
  {
   "cell_type": "code",
   "execution_count": 494,
   "id": "a2889aee",
   "metadata": {},
   "outputs": [
    {
     "data": {
      "text/plain": [
       "2.21"
      ]
     },
     "execution_count": 494,
     "metadata": {},
     "output_type": "execute_result"
    }
   ],
   "source": [
    "alpha = 0.05\n",
    "F_cr = stats.f.ppf(1-0.05,5,len(df)-18)\n",
    "F_cr.round(2)"
   ]
  },
  {
   "cell_type": "markdown",
   "id": "bee48832",
   "metadata": {},
   "source": [
    "**Вывод: Гипотеза отвергается, регрессия не согласуется с данными**"
   ]
  },
  {
   "cell_type": "markdown",
   "id": "3cc80307",
   "metadata": {},
   "source": [
    "###  Диагностические тесты на гетероскедастичность\n",
    "**Выбререм уровень значимости 1%**\n",
    "\n",
    "Для тестрования нужна матрица наблюдений регрессоров модели. Её можно получить как `mod.model.exog`\n",
    "\n",
    "**BP-тест** \n",
    "\n",
    "Модель гетероскедастичности $Var(u_i|X)=f(\\gamma_0+\\gamma_1x_1+\\cdots+\\gamma_kx_k)$\n",
    "\n",
    "Тестируем $H_0:\\begin{pmatrix} \\gamma_1 & \\cdots & \\gamma_k \\end{pmatrix}=0$ vs $H_1:\\begin{pmatrix} \\gamma_1 & \\cdots & \\gamma_k \\end{pmatrix}\\ne 0$\n",
    "\n",
    "*Нулевая гипотеза*: гомоскедаастичность ошибки\n",
    "\n",
    "*Альтернатива*: гетероскедастиность ошибки\n",
    "\n",
    "*Промежуточная регрессия*: $e^2$ на регрессоры модели"
   ]
  },
  {
   "cell_type": "code",
   "execution_count": 495,
   "id": "6e28615a",
   "metadata": {},
   "outputs": [
    {
     "data": {
      "text/plain": [
       "(831.2656436862053, 2.260399121791779e-168)"
      ]
     },
     "execution_count": 495,
     "metadata": {},
     "output_type": "execute_result"
    }
   ],
   "source": [
    "BP_stat, p_val, F_stat, p_val_F = sms.het_breuschpagan(resid=mod.resid, exog_het=mod.model.exog)\n",
    "BP_stat, p_val"
   ]
  },
  {
   "cell_type": "markdown",
   "id": "aee580ef",
   "metadata": {},
   "source": [
    "1%-критическое значение распределения $\\chi^2_{df}$"
   ]
  },
  {
   "cell_type": "code",
   "execution_count": 496,
   "id": "4f09446f",
   "metadata": {},
   "outputs": [
    {
     "data": {
      "text/plain": [
       "27.68824961045705"
      ]
     },
     "execution_count": 496,
     "metadata": {},
     "output_type": "execute_result"
    }
   ],
   "source": [
    "chi2.ppf(q=1-0.01, df=math_eq.df_model)"
   ]
  },
  {
   "cell_type": "markdown",
   "id": "52724c6e",
   "metadata": {},
   "source": [
    "**Вывод**: тест указывает на гетероскедастиность (тестируемая гипотеза отвергается)\n",
    "\n",
    "**White-тест** (общий случай)\n",
    "\n",
    "Тестируем $H_0:Var(u_i|X)=\\sigma^2$ vs $H_1:Var(u_i|X)=\\sigma^2_i$\n",
    "\n",
    "*Нулевая гипотеза*: гомоскедаастичность ошибки\n",
    "\n",
    "*Альтернатива*: гетероскедастиность ошибки (общего вида)\n",
    "\n",
    "*Промежуточная регрессия*: $e^2$ на регрессоры модели, их квадраты и попарные произведения"
   ]
  },
  {
   "cell_type": "code",
   "execution_count": 497,
   "id": "723e0f6d",
   "metadata": {},
   "outputs": [
    {
     "data": {
      "text/plain": [
       "(4235.652350427527, 0.0)"
      ]
     },
     "execution_count": 497,
     "metadata": {},
     "output_type": "execute_result"
    }
   ],
   "source": [
    "test_stat, p_val, F_stat, pval_f = sms.het_white(resid=mod.resid, exog=mod.model.exog)\n",
    "test_stat, p_val"
   ]
  },
  {
   "cell_type": "markdown",
   "id": "15c47e0e",
   "metadata": {},
   "source": [
    "**Вывод**: тест указывает на  гетероскедастиность (тестируемая гипотезаотвергается) .т.к. $p\\_val<\\alpha$"
   ]
  },
  {
   "cell_type": "markdown",
   "id": "eb0aeeb1",
   "metadata": {},
   "source": [
    "###  Робастный t-test"
   ]
  },
  {
   "cell_type": "markdown",
   "id": "3bcf2f6b",
   "metadata": {},
   "source": [
    "Подгоним модель с поправкою на гетероскедастичность (робастная HC3-оценка ковариационной матрицы)"
   ]
  },
  {
   "cell_type": "code",
   "execution_count": 498,
   "id": "afda99c4",
   "metadata": {},
   "outputs": [
    {
     "name": "stderr",
     "output_type": "stream",
     "text": [
      "/Users/kirillmirchevskiy/opt/anaconda3/lib/python3.9/site-packages/statsmodels/base/model.py:1871: ValueWarning: covariance of constraints does not have full rank. The number of constraints is 14, but rank is 13\n",
      "  warnings.warn('covariance of constraints does not have full '\n"
     ]
    },
    {
     "data": {
      "text/html": [
       "<table class=\"simpletable\">\n",
       "<caption>OLS Regression Results</caption>\n",
       "<tr>\n",
       "  <th>Dep. Variable:</th>    <td>np.log(price)</td> <th>  R-squared:         </th> <td>   0.894</td> \n",
       "</tr>\n",
       "<tr>\n",
       "  <th>Model:</th>                 <td>OLS</td>      <th>  Adj. R-squared:    </th> <td>   0.894</td> \n",
       "</tr>\n",
       "<tr>\n",
       "  <th>No. Observations:</th>    <td> 10668</td>     <th>  F-statistic:       </th> <td>3.863e+06</td>\n",
       "</tr>\n",
       "<tr>\n",
       "  <th>Covariance Type:</th>       <td>HC3</td>      <th>  Prob (F-statistic):</th>  <td>  0.00</td>  \n",
       "</tr>\n",
       "</table>\n",
       "<table class=\"simpletable\">\n",
       "<tr>\n",
       "         <td></td>            <th>coef</th>     <th>std err</th>      <th>z</th>      <th>P>|z|</th>  <th>[0.025</th>    <th>0.975]</th>  \n",
       "</tr>\n",
       "<tr>\n",
       "  <th>Intercept</th>       <td>    4.6635</td> <td>    0.043</td> <td>  107.380</td> <td> 0.000</td> <td>    4.578</td> <td>    4.749</td>\n",
       "</tr>\n",
       "<tr>\n",
       "  <th>year</th>            <td>    0.1326</td> <td>    0.002</td> <td>   79.113</td> <td> 0.000</td> <td>    0.129</td> <td>    0.136</td>\n",
       "</tr>\n",
       "<tr>\n",
       "  <th>np.log(mileage)</th> <td>   -0.0260</td> <td>    0.002</td> <td>  -13.069</td> <td> 0.000</td> <td>   -0.030</td> <td>   -0.022</td>\n",
       "</tr>\n",
       "<tr>\n",
       "  <th>fuelType</th>        <td>    0.0332</td> <td>    0.007</td> <td>    4.675</td> <td> 0.000</td> <td>    0.019</td> <td>    0.047</td>\n",
       "</tr>\n",
       "<tr>\n",
       "  <th>tax</th>             <td>    0.0001</td> <td> 4.76e-05</td> <td>    2.229</td> <td> 0.026</td> <td> 1.28e-05</td> <td>    0.000</td>\n",
       "</tr>\n",
       "<tr>\n",
       "  <th>mpg</th>             <td>   -0.0028</td> <td>    0.001</td> <td>   -4.965</td> <td> 0.000</td> <td>   -0.004</td> <td>   -0.002</td>\n",
       "</tr>\n",
       "<tr>\n",
       "  <th>engineSize</th>      <td>    0.2995</td> <td>    0.007</td> <td>   41.994</td> <td> 0.000</td> <td>    0.286</td> <td>    0.314</td>\n",
       "</tr>\n",
       "<tr>\n",
       "  <th>A</th>               <td>    0.7757</td> <td>    0.012</td> <td>   64.717</td> <td> 0.000</td> <td>    0.752</td> <td>    0.799</td>\n",
       "</tr>\n",
       "<tr>\n",
       "  <th>Q</th>               <td>    0.9254</td> <td>    0.011</td> <td>   86.313</td> <td> 0.000</td> <td>    0.904</td> <td>    0.946</td>\n",
       "</tr>\n",
       "<tr>\n",
       "  <th>R</th>               <td>    1.1110</td> <td>    0.018</td> <td>   63.369</td> <td> 0.000</td> <td>    1.077</td> <td>    1.145</td>\n",
       "</tr>\n",
       "<tr>\n",
       "  <th>S</th>               <td>    0.9696</td> <td>    0.036</td> <td>   26.709</td> <td> 0.000</td> <td>    0.898</td> <td>    1.041</td>\n",
       "</tr>\n",
       "<tr>\n",
       "  <th>T</th>               <td>    0.8818</td> <td>    0.012</td> <td>   72.281</td> <td> 0.000</td> <td>    0.858</td> <td>    0.906</td>\n",
       "</tr>\n",
       "<tr>\n",
       "  <th>Automatic</th>       <td>    1.6009</td> <td>    0.015</td> <td>  109.193</td> <td> 0.000</td> <td>    1.572</td> <td>    1.630</td>\n",
       "</tr>\n",
       "<tr>\n",
       "  <th>Manual</th>          <td>    1.4652</td> <td>    0.015</td> <td>   99.790</td> <td> 0.000</td> <td>    1.436</td> <td>    1.494</td>\n",
       "</tr>\n",
       "<tr>\n",
       "  <th>SemiAuto</th>        <td>    1.5973</td> <td>    0.015</td> <td>  107.849</td> <td> 0.000</td> <td>    1.568</td> <td>    1.626</td>\n",
       "</tr>\n",
       "</table><br/><br/>Notes:<br/>[1] Standard Errors are heteroscedasticity robust (HC3)<br/>[2] The smallest eigenvalue is 7.11e-28. This might indicate that there are<br/>strong multicollinearity problems or that the design matrix is singular."
      ],
      "text/plain": [
       "<class 'statsmodels.iolib.summary.Summary'>\n",
       "\"\"\"\n",
       "                            OLS Regression Results                            \n",
       "==============================================================================\n",
       "Dep. Variable:          np.log(price)   R-squared:                       0.894\n",
       "Model:                            OLS   Adj. R-squared:                  0.894\n",
       "No. Observations:               10668   F-statistic:                 3.863e+06\n",
       "Covariance Type:                  HC3   Prob (F-statistic):               0.00\n",
       "===================================================================================\n",
       "                      coef    std err          z      P>|z|      [0.025      0.975]\n",
       "-----------------------------------------------------------------------------------\n",
       "Intercept           4.6635      0.043    107.380      0.000       4.578       4.749\n",
       "year                0.1326      0.002     79.113      0.000       0.129       0.136\n",
       "np.log(mileage)    -0.0260      0.002    -13.069      0.000      -0.030      -0.022\n",
       "fuelType            0.0332      0.007      4.675      0.000       0.019       0.047\n",
       "tax                 0.0001   4.76e-05      2.229      0.026    1.28e-05       0.000\n",
       "mpg                -0.0028      0.001     -4.965      0.000      -0.004      -0.002\n",
       "engineSize          0.2995      0.007     41.994      0.000       0.286       0.314\n",
       "A                   0.7757      0.012     64.717      0.000       0.752       0.799\n",
       "Q                   0.9254      0.011     86.313      0.000       0.904       0.946\n",
       "R                   1.1110      0.018     63.369      0.000       1.077       1.145\n",
       "S                   0.9696      0.036     26.709      0.000       0.898       1.041\n",
       "T                   0.8818      0.012     72.281      0.000       0.858       0.906\n",
       "Automatic           1.6009      0.015    109.193      0.000       1.572       1.630\n",
       "Manual              1.4652      0.015     99.790      0.000       1.436       1.494\n",
       "SemiAuto            1.5973      0.015    107.849      0.000       1.568       1.626\n",
       "===================================================================================\n",
       "\n",
       "Notes:\n",
       "[1] Standard Errors are heteroscedasticity robust (HC3)\n",
       "[2] The smallest eigenvalue is 7.11e-28. This might indicate that there are\n",
       "strong multicollinearity problems or that the design matrix is singular.\n",
       "\"\"\""
      ]
     },
     "execution_count": 498,
     "metadata": {},
     "output_type": "execute_result"
    }
   ],
   "source": [
    "mod_hc=smf.ols(formula=specification, data=df).fit(cov_type='HC3')\n",
    "mod_hc.summary(slim=True)"
   ]
  },
  {
   "cell_type": "markdown",
   "id": "b13871bd",
   "metadata": {},
   "source": [
    "Сравним результаты и исходной оценкой модели"
   ]
  },
  {
   "cell_type": "code",
   "execution_count": 499,
   "id": "f5491994",
   "metadata": {},
   "outputs": [
    {
     "data": {
      "text/html": [
       "<table class=\"simpletable\">\n",
       "<tr>\n",
       "         <td></td>          <th>OLS-s.e.</th>   <th>HC3-s.e.</th> \n",
       "</tr>\n",
       "<tr>\n",
       "  <th>Intercept</th>        <td>4.6635***</td>  <td>4.6635***</td>\n",
       "</tr>\n",
       "<tr>\n",
       "  <th></th>                 <td>(0.0230)</td>   <td>(0.0434)</td> \n",
       "</tr>\n",
       "<tr>\n",
       "  <th>year</th>             <td>0.1326***</td>  <td>0.1326***</td>\n",
       "</tr>\n",
       "<tr>\n",
       "  <th></th>                 <td>(0.0010)</td>   <td>(0.0017)</td> \n",
       "</tr>\n",
       "<tr>\n",
       "  <th>np.log(mileage)</th> <td>-0.0260***</td> <td>-0.0260***</td>\n",
       "</tr>\n",
       "<tr>\n",
       "  <th></th>                 <td>(0.0014)</td>   <td>(0.0020)</td> \n",
       "</tr>\n",
       "<tr>\n",
       "  <th>fuelType</th>         <td>0.0332***</td>  <td>0.0332***</td>\n",
       "</tr>\n",
       "<tr>\n",
       "  <th></th>                 <td>(0.0041)</td>   <td>(0.0071)</td> \n",
       "</tr>\n",
       "<tr>\n",
       "  <th>tax</th>              <td>0.0001***</td>  <td>0.0001**</td> \n",
       "</tr>\n",
       "<tr>\n",
       "  <th></th>                 <td>(0.0000)</td>   <td>(0.0000)</td> \n",
       "</tr>\n",
       "<tr>\n",
       "  <th>mpg</th>             <td>-0.0028***</td> <td>-0.0028***</td>\n",
       "</tr>\n",
       "<tr>\n",
       "  <th></th>                 <td>(0.0002)</td>   <td>(0.0006)</td> \n",
       "</tr>\n",
       "<tr>\n",
       "  <th>engineSize</th>       <td>0.2995***</td>  <td>0.2995***</td>\n",
       "</tr>\n",
       "<tr>\n",
       "  <th></th>                 <td>(0.0037)</td>   <td>(0.0071)</td> \n",
       "</tr>\n",
       "<tr>\n",
       "  <th>A</th>                <td>0.7757***</td>  <td>0.7757***</td>\n",
       "</tr>\n",
       "<tr>\n",
       "  <th></th>                 <td>(0.0066)</td>   <td>(0.0120)</td> \n",
       "</tr>\n",
       "<tr>\n",
       "  <th>Q</th>                <td>0.9254***</td>  <td>0.9254***</td>\n",
       "</tr>\n",
       "<tr>\n",
       "  <th></th>                 <td>(0.0066)</td>   <td>(0.0107)</td> \n",
       "</tr>\n",
       "<tr>\n",
       "  <th>R</th>                <td>1.1110***</td>  <td>1.1110***</td>\n",
       "</tr>\n",
       "<tr>\n",
       "  <th></th>                 <td>(0.0129)</td>   <td>(0.0175)</td> \n",
       "</tr>\n",
       "<tr>\n",
       "  <th>S</th>                <td>0.9696***</td>  <td>0.9696***</td>\n",
       "</tr>\n",
       "<tr>\n",
       "  <th></th>                 <td>(0.0171)</td>   <td>(0.0363)</td> \n",
       "</tr>\n",
       "<tr>\n",
       "  <th>T</th>                <td>0.8818***</td>  <td>0.8818***</td>\n",
       "</tr>\n",
       "<tr>\n",
       "  <th></th>                 <td>(0.0090)</td>   <td>(0.0122)</td> \n",
       "</tr>\n",
       "<tr>\n",
       "  <th>Automatic</th>        <td>1.6009***</td>  <td>1.6009***</td>\n",
       "</tr>\n",
       "<tr>\n",
       "  <th></th>                 <td>(0.0081)</td>   <td>(0.0147)</td> \n",
       "</tr>\n",
       "<tr>\n",
       "  <th>Manual</th>           <td>1.4652***</td>  <td>1.4652***</td>\n",
       "</tr>\n",
       "<tr>\n",
       "  <th></th>                 <td>(0.0076)</td>   <td>(0.0147)</td> \n",
       "</tr>\n",
       "<tr>\n",
       "  <th>SemiAuto</th>         <td>1.5973***</td>  <td>1.5973***</td>\n",
       "</tr>\n",
       "<tr>\n",
       "  <th></th>                 <td>(0.0083)</td>   <td>(0.0148)</td> \n",
       "</tr>\n",
       "<tr>\n",
       "  <th>R-squared</th>         <td>0.8937</td>     <td>0.8937</td>  \n",
       "</tr>\n",
       "<tr>\n",
       "  <th>R-squared Adj.</th>    <td>0.8936</td>     <td>0.8936</td>  \n",
       "</tr>\n",
       "</table>"
      ],
      "text/plain": [
       "<class 'statsmodels.iolib.summary2.Summary'>\n",
       "\"\"\"\n",
       "\n",
       "=====================================\n",
       "                 OLS-s.e.   HC3-s.e. \n",
       "-------------------------------------\n",
       "Intercept       4.6635***  4.6635*** \n",
       "                (0.0230)   (0.0434)  \n",
       "year            0.1326***  0.1326*** \n",
       "                (0.0010)   (0.0017)  \n",
       "np.log(mileage) -0.0260*** -0.0260***\n",
       "                (0.0014)   (0.0020)  \n",
       "fuelType        0.0332***  0.0332*** \n",
       "                (0.0041)   (0.0071)  \n",
       "tax             0.0001***  0.0001**  \n",
       "                (0.0000)   (0.0000)  \n",
       "mpg             -0.0028*** -0.0028***\n",
       "                (0.0002)   (0.0006)  \n",
       "engineSize      0.2995***  0.2995*** \n",
       "                (0.0037)   (0.0071)  \n",
       "A               0.7757***  0.7757*** \n",
       "                (0.0066)   (0.0120)  \n",
       "Q               0.9254***  0.9254*** \n",
       "                (0.0066)   (0.0107)  \n",
       "R               1.1110***  1.1110*** \n",
       "                (0.0129)   (0.0175)  \n",
       "S               0.9696***  0.9696*** \n",
       "                (0.0171)   (0.0363)  \n",
       "T               0.8818***  0.8818*** \n",
       "                (0.0090)   (0.0122)  \n",
       "Automatic       1.6009***  1.6009*** \n",
       "                (0.0081)   (0.0147)  \n",
       "Manual          1.4652***  1.4652*** \n",
       "                (0.0076)   (0.0147)  \n",
       "SemiAuto        1.5973***  1.5973*** \n",
       "                (0.0083)   (0.0148)  \n",
       "R-squared       0.8937     0.8937    \n",
       "R-squared Adj.  0.8936     0.8936    \n",
       "=====================================\n",
       "Standard errors in parentheses.\n",
       "* p<.1, ** p<.05, ***p<.01\n",
       "\"\"\""
      ]
     },
     "execution_count": 499,
     "metadata": {},
     "output_type": "execute_result"
    }
   ],
   "source": [
    "summary_col(results=[mod, mod_hc], stars=True, model_names=['OLS-s.e.', 'HC3-s.e.'])"
   ]
  },
  {
   "cell_type": "markdown",
   "id": "cfc70ead",
   "metadata": {},
   "source": [
    "**Вывод:** Неробастная и робастная тестовая статистики почти совпадают, следовательно влияние ошибок моделирования на характеристики регрессионной модели незначимо."
   ]
  },
  {
   "cell_type": "markdown",
   "id": "e884d014",
   "metadata": {},
   "source": [
    "##  Вывод: \n",
    "1) Проведен анализ датасета автомобилей audi с целевой пременной price\n",
    "2) Данные были правильно преобразованы и приведены в удобный для исследования вид\n",
    "3) Использовалась визуализация даных для лучшего понимания внутреннего строения зависимостей\n",
    "4) В ходе работы удолось достичь хорошей точности предсказания целевой переменной\n",
    "5) Проверено множество гипотез как о коэффицентах так и о модели в целом\n",
    "6) Исследовано множество корреляций и зависимостей\n",
    "7) Все шаги анализа подкреплены логичными выводами"
   ]
  }
 ],
 "metadata": {
  "kernelspec": {
   "display_name": "Python 3 (ipykernel)",
   "language": "python",
   "name": "python3"
  },
  "language_info": {
   "codemirror_mode": {
    "name": "ipython",
    "version": 3
   },
   "file_extension": ".py",
   "mimetype": "text/x-python",
   "name": "python",
   "nbconvert_exporter": "python",
   "pygments_lexer": "ipython3",
   "version": "3.9.16"
  }
 },
 "nbformat": 4,
 "nbformat_minor": 5
}
