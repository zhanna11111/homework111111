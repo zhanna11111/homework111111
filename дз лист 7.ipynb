{
 "cells": [
  {
   "cell_type": "markdown",
   "id": "4802604d",
   "metadata": {},
   "source": [
    "# Прогнозирование"
   ]
  },
  {
   "cell_type": "code",
   "execution_count": 330,
   "id": "bb46b27b",
   "metadata": {},
   "outputs": [],
   "source": [
    "import pandas as pd\n",
    "import numpy as np\n",
    "import statsmodels.api as sm \n",
    "import statsmodels.formula.api as smf\n",
    "from statsmodels.iolib.summary2 import summary_params # вывод результатов тестирования\n",
    "from statsmodels.iolib.summary2 import summary_col # вывод результатов тестирования\n",
    "import re\n",
    "import scipy.stats as stats\n",
    "from statsmodels.stats.outliers_influence import variance_inflation_factor # VIF\n",
    "import scipy\n",
    "import matplotlib.pyplot as plt\n",
    "import seaborn as sns"
   ]
  },
  {
   "cell_type": "markdown",
   "id": "02ba22c8",
   "metadata": {},
   "source": [
    "## Задание 1 sleep equation #1"
   ]
  },
  {
   "cell_type": "code",
   "execution_count": 331,
   "id": "ffdffedb",
   "metadata": {},
   "outputs": [
    {
     "data": {
      "text/plain": [
       "(706, 34)"
      ]
     },
     "execution_count": 331,
     "metadata": {},
     "output_type": "execute_result"
    }
   ],
   "source": [
    "data1 = pd.read_csv('https://raw.githubusercontent.com/artamonoff/Econometrica/master/python-notebooks/data-csv/sleep75.csv')\n",
    "data1.shape"
   ]
  },
  {
   "cell_type": "markdown",
   "id": "2f452332",
   "metadata": {},
   "source": [
    "## Модель 1\n",
    "## Создаем спецификацию модели через формулу и подгоняем модель"
   ]
  },
  {
   "cell_type": "code",
   "execution_count": 332,
   "id": "fe5b3225",
   "metadata": {},
   "outputs": [],
   "source": [
    "Sleep_eq1 = smf.ols(formula = 'sleep~totwrk+age+south+male+smsa+yngkid+marr', data = data1).fit()"
   ]
  },
  {
   "cell_type": "code",
   "execution_count": 333,
   "id": "ce281beb",
   "metadata": {},
   "outputs": [
    {
     "data": {
      "text/html": [
       "<table class=\"simpletable\">\n",
       "<caption>OLS Regression Results</caption>\n",
       "<tr>\n",
       "  <th>Dep. Variable:</th>          <td>sleep</td>      <th>  R-squared:         </th> <td>   0.131</td> \n",
       "</tr>\n",
       "<tr>\n",
       "  <th>Model:</th>                   <td>OLS</td>       <th>  Adj. R-squared:    </th> <td>   0.123</td> \n",
       "</tr>\n",
       "<tr>\n",
       "  <th>Method:</th>             <td>Least Squares</td>  <th>  F-statistic:       </th> <td>   15.06</td> \n",
       "</tr>\n",
       "<tr>\n",
       "  <th>Date:</th>             <td>Tue, 18 Apr 2023</td> <th>  Prob (F-statistic):</th> <td>2.14e-18</td> \n",
       "</tr>\n",
       "<tr>\n",
       "  <th>Time:</th>                 <td>23:14:07</td>     <th>  Log-Likelihood:    </th> <td> -5255.9</td> \n",
       "</tr>\n",
       "<tr>\n",
       "  <th>No. Observations:</th>      <td>   706</td>      <th>  AIC:               </th> <td>1.053e+04</td>\n",
       "</tr>\n",
       "<tr>\n",
       "  <th>Df Residuals:</th>          <td>   698</td>      <th>  BIC:               </th> <td>1.056e+04</td>\n",
       "</tr>\n",
       "<tr>\n",
       "  <th>Df Model:</th>              <td>     7</td>      <th>                     </th>     <td> </td>    \n",
       "</tr>\n",
       "<tr>\n",
       "  <th>Covariance Type:</th>      <td>nonrobust</td>    <th>                     </th>     <td> </td>    \n",
       "</tr>\n",
       "</table>\n",
       "<table class=\"simpletable\">\n",
       "<tr>\n",
       "      <td></td>         <th>coef</th>     <th>std err</th>      <th>t</th>      <th>P>|t|</th>  <th>[0.025</th>    <th>0.975]</th>  \n",
       "</tr>\n",
       "<tr>\n",
       "  <th>Intercept</th> <td> 3450.9128</td> <td>   80.726</td> <td>   42.748</td> <td> 0.000</td> <td> 3292.418</td> <td> 3609.408</td>\n",
       "</tr>\n",
       "<tr>\n",
       "  <th>totwrk</th>    <td>   -0.1692</td> <td>    0.018</td> <td>   -9.372</td> <td> 0.000</td> <td>   -0.205</td> <td>   -0.134</td>\n",
       "</tr>\n",
       "<tr>\n",
       "  <th>age</th>       <td>    2.6891</td> <td>    1.469</td> <td>    1.830</td> <td> 0.068</td> <td>   -0.195</td> <td>    5.574</td>\n",
       "</tr>\n",
       "<tr>\n",
       "  <th>south</th>     <td>  101.5685</td> <td>   41.837</td> <td>    2.428</td> <td> 0.015</td> <td>   19.427</td> <td>  183.710</td>\n",
       "</tr>\n",
       "<tr>\n",
       "  <th>male</th>      <td>   87.6690</td> <td>   35.104</td> <td>    2.497</td> <td> 0.013</td> <td>   18.747</td> <td>  156.591</td>\n",
       "</tr>\n",
       "<tr>\n",
       "  <th>smsa</th>      <td>  -54.7476</td> <td>   33.123</td> <td>   -1.653</td> <td> 0.099</td> <td> -119.780</td> <td>   10.285</td>\n",
       "</tr>\n",
       "<tr>\n",
       "  <th>yngkid</th>    <td>  -13.9624</td> <td>   50.341</td> <td>   -0.277</td> <td> 0.782</td> <td> -112.801</td> <td>   84.876</td>\n",
       "</tr>\n",
       "<tr>\n",
       "  <th>marr</th>      <td>   31.2106</td> <td>   42.233</td> <td>    0.739</td> <td> 0.460</td> <td>  -51.709</td> <td>  114.130</td>\n",
       "</tr>\n",
       "</table>\n",
       "<table class=\"simpletable\">\n",
       "<tr>\n",
       "  <th>Omnibus:</th>       <td>62.368</td> <th>  Durbin-Watson:     </th> <td>   1.947</td>\n",
       "</tr>\n",
       "<tr>\n",
       "  <th>Prob(Omnibus):</th> <td> 0.000</td> <th>  Jarque-Bera (JB):  </th> <td> 169.049</td>\n",
       "</tr>\n",
       "<tr>\n",
       "  <th>Skew:</th>          <td>-0.445</td> <th>  Prob(JB):          </th> <td>1.96e-37</td>\n",
       "</tr>\n",
       "<tr>\n",
       "  <th>Kurtosis:</th>      <td> 5.226</td> <th>  Cond. No.          </th> <td>1.26e+04</td>\n",
       "</tr>\n",
       "</table><br/><br/>Notes:<br/>[1] Standard Errors assume that the covariance matrix of the errors is correctly specified.<br/>[2] The condition number is large, 1.26e+04. This might indicate that there are<br/>strong multicollinearity or other numerical problems."
      ],
      "text/plain": [
       "<class 'statsmodels.iolib.summary.Summary'>\n",
       "\"\"\"\n",
       "                            OLS Regression Results                            \n",
       "==============================================================================\n",
       "Dep. Variable:                  sleep   R-squared:                       0.131\n",
       "Model:                            OLS   Adj. R-squared:                  0.123\n",
       "Method:                 Least Squares   F-statistic:                     15.06\n",
       "Date:                Tue, 18 Apr 2023   Prob (F-statistic):           2.14e-18\n",
       "Time:                        23:14:07   Log-Likelihood:                -5255.9\n",
       "No. Observations:                 706   AIC:                         1.053e+04\n",
       "Df Residuals:                     698   BIC:                         1.056e+04\n",
       "Df Model:                           7                                         \n",
       "Covariance Type:            nonrobust                                         \n",
       "==============================================================================\n",
       "                 coef    std err          t      P>|t|      [0.025      0.975]\n",
       "------------------------------------------------------------------------------\n",
       "Intercept   3450.9128     80.726     42.748      0.000    3292.418    3609.408\n",
       "totwrk        -0.1692      0.018     -9.372      0.000      -0.205      -0.134\n",
       "age            2.6891      1.469      1.830      0.068      -0.195       5.574\n",
       "south        101.5685     41.837      2.428      0.015      19.427     183.710\n",
       "male          87.6690     35.104      2.497      0.013      18.747     156.591\n",
       "smsa         -54.7476     33.123     -1.653      0.099    -119.780      10.285\n",
       "yngkid       -13.9624     50.341     -0.277      0.782    -112.801      84.876\n",
       "marr          31.2106     42.233      0.739      0.460     -51.709     114.130\n",
       "==============================================================================\n",
       "Omnibus:                       62.368   Durbin-Watson:                   1.947\n",
       "Prob(Omnibus):                  0.000   Jarque-Bera (JB):              169.049\n",
       "Skew:                          -0.445   Prob(JB):                     1.96e-37\n",
       "Kurtosis:                       5.226   Cond. No.                     1.26e+04\n",
       "==============================================================================\n",
       "\n",
       "Notes:\n",
       "[1] Standard Errors assume that the covariance matrix of the errors is correctly specified.\n",
       "[2] The condition number is large, 1.26e+04. This might indicate that there are\n",
       "strong multicollinearity or other numerical problems.\n",
       "\"\"\""
      ]
     },
     "execution_count": 333,
     "metadata": {},
     "output_type": "execute_result"
    }
   ],
   "source": [
    "Sleep_eq1.summary()"
   ]
  },
  {
   "cell_type": "code",
   "execution_count": 334,
   "id": "1dacad5b",
   "metadata": {},
   "outputs": [
    {
     "data": {
      "text/html": [
       "<table class=\"simpletable\">\n",
       "<tr>\n",
       "         <td></td>          <th>sleep</th>  \n",
       "</tr>\n",
       "<tr>\n",
       "  <th>Intercept</th>      <td>3450.9128</td>\n",
       "</tr>\n",
       "<tr>\n",
       "  <th></th>               <td>(80.7262)</td>\n",
       "</tr>\n",
       "<tr>\n",
       "  <th>totwrk</th>          <td>-0.1692</td> \n",
       "</tr>\n",
       "<tr>\n",
       "  <th></th>               <td>(0.0181)</td> \n",
       "</tr>\n",
       "<tr>\n",
       "  <th>age</th>             <td>2.6891</td>  \n",
       "</tr>\n",
       "<tr>\n",
       "  <th></th>               <td>(1.4692)</td> \n",
       "</tr>\n",
       "<tr>\n",
       "  <th>south</th>          <td>101.5685</td> \n",
       "</tr>\n",
       "<tr>\n",
       "  <th></th>               <td>(41.8368)</td>\n",
       "</tr>\n",
       "<tr>\n",
       "  <th>male</th>            <td>87.6690</td> \n",
       "</tr>\n",
       "<tr>\n",
       "  <th></th>               <td>(35.1041)</td>\n",
       "</tr>\n",
       "<tr>\n",
       "  <th>smsa</th>           <td>-54.7476</td> \n",
       "</tr>\n",
       "<tr>\n",
       "  <th></th>               <td>(33.1230)</td>\n",
       "</tr>\n",
       "<tr>\n",
       "  <th>yngkid</th>         <td>-13.9624</td> \n",
       "</tr>\n",
       "<tr>\n",
       "  <th></th>               <td>(50.3412)</td>\n",
       "</tr>\n",
       "<tr>\n",
       "  <th>marr</th>            <td>31.2106</td> \n",
       "</tr>\n",
       "<tr>\n",
       "  <th></th>               <td>(42.2331)</td>\n",
       "</tr>\n",
       "<tr>\n",
       "  <th>R-squared</th>       <td>0.1312</td>  \n",
       "</tr>\n",
       "<tr>\n",
       "  <th>R-squared Adj.</th>  <td>0.1225</td>  \n",
       "</tr>\n",
       "</table>"
      ],
      "text/plain": [
       "<class 'statsmodels.iolib.summary2.Summary'>\n",
       "\"\"\"\n",
       "\n",
       "========================\n",
       "                 sleep  \n",
       "------------------------\n",
       "Intercept      3450.9128\n",
       "               (80.7262)\n",
       "totwrk         -0.1692  \n",
       "               (0.0181) \n",
       "age            2.6891   \n",
       "               (1.4692) \n",
       "south          101.5685 \n",
       "               (41.8368)\n",
       "male           87.6690  \n",
       "               (35.1041)\n",
       "smsa           -54.7476 \n",
       "               (33.1230)\n",
       "yngkid         -13.9624 \n",
       "               (50.3412)\n",
       "marr           31.2106  \n",
       "               (42.2331)\n",
       "R-squared      0.1312   \n",
       "R-squared Adj. 0.1225   \n",
       "========================\n",
       "Standard errors in\n",
       "parentheses.\n",
       "\"\"\""
      ]
     },
     "execution_count": 334,
     "metadata": {},
     "output_type": "execute_result"
    }
   ],
   "source": [
    "summary_col(Sleep_eq1, stars=None)"
   ]
  },
  {
   "cell_type": "code",
   "execution_count": 335,
   "id": "f9ddb506",
   "metadata": {},
   "outputs": [
    {
     "name": "stdout",
     "output_type": "stream",
     "text": [
      "\n",
      "===========================\n",
      "                  sleep    \n",
      "---------------------------\n",
      "Intercept      3450.9128***\n",
      "               (80.7262)   \n",
      "totwrk         -0.1692***  \n",
      "               (0.0181)    \n",
      "age            2.6891*     \n",
      "               (1.4692)    \n",
      "south          101.5685**  \n",
      "               (41.8368)   \n",
      "male           87.6690**   \n",
      "               (35.1041)   \n",
      "smsa           -54.7476*   \n",
      "               (33.1230)   \n",
      "yngkid         -13.9624    \n",
      "               (50.3412)   \n",
      "marr           31.2106     \n",
      "               (42.2331)   \n",
      "R-squared      0.1312      \n",
      "R-squared Adj. 0.1225      \n",
      "===========================\n",
      "Standard errors in\n",
      "parentheses.\n",
      "* p<.1, ** p<.05, ***p<.01\n"
     ]
    }
   ],
   "source": [
    "print(summary_col(Sleep_eq1, stars=True))"
   ]
  },
  {
   "cell_type": "code",
   "execution_count": 336,
   "id": "64e13df4",
   "metadata": {},
   "outputs": [
    {
     "data": {
      "text/html": [
       "<div>\n",
       "<style scoped>\n",
       "    .dataframe tbody tr th:only-of-type {\n",
       "        vertical-align: middle;\n",
       "    }\n",
       "\n",
       "    .dataframe tbody tr th {\n",
       "        vertical-align: top;\n",
       "    }\n",
       "\n",
       "    .dataframe thead th {\n",
       "        text-align: right;\n",
       "    }\n",
       "</style>\n",
       "<table border=\"1\" class=\"dataframe\">\n",
       "  <thead>\n",
       "    <tr style=\"text-align: right;\">\n",
       "      <th></th>\n",
       "      <th>totwrk</th>\n",
       "      <th>age</th>\n",
       "      <th>south</th>\n",
       "      <th>male</th>\n",
       "      <th>smsa</th>\n",
       "      <th>yngkid</th>\n",
       "      <th>marr</th>\n",
       "    </tr>\n",
       "  </thead>\n",
       "  <tbody>\n",
       "    <tr>\n",
       "      <th>0</th>\n",
       "      <td>2150</td>\n",
       "      <td>37</td>\n",
       "      <td>0</td>\n",
       "      <td>1</td>\n",
       "      <td>1</td>\n",
       "      <td>0</td>\n",
       "      <td>1</td>\n",
       "    </tr>\n",
       "    <tr>\n",
       "      <th>1</th>\n",
       "      <td>1950</td>\n",
       "      <td>28</td>\n",
       "      <td>1</td>\n",
       "      <td>1</td>\n",
       "      <td>0</td>\n",
       "      <td>1</td>\n",
       "      <td>0</td>\n",
       "    </tr>\n",
       "    <tr>\n",
       "      <th>2</th>\n",
       "      <td>2240</td>\n",
       "      <td>26</td>\n",
       "      <td>0</td>\n",
       "      <td>0</td>\n",
       "      <td>1</td>\n",
       "      <td>0</td>\n",
       "      <td>0</td>\n",
       "    </tr>\n",
       "  </tbody>\n",
       "</table>\n",
       "</div>"
      ],
      "text/plain": [
       "   totwrk  age  south  male  smsa  yngkid  marr\n",
       "0    2150   37      0     1     1       0     1\n",
       "1    1950   28      1     1     0       1     0\n",
       "2    2240   26      0     0     1       0     0"
      ]
     },
     "execution_count": 336,
     "metadata": {},
     "output_type": "execute_result"
    }
   ],
   "source": [
    "data_string = '''№  totwrk age south male smsa yngkid marr\n",
    "1  2150  37    0    1    1     0     1  \n",
    "2  1950  28    1    1    0     1     0  \n",
    "3  2240  26    0    0    1     0     0'''\n",
    "wn_df = pd.read_csv(io.StringIO(data_string), sep='\\s+')\n",
    "wn_df.drop(columns='№', inplace=True)\n",
    "wn_df"
   ]
  },
  {
   "cell_type": "code",
   "execution_count": 337,
   "id": "ee3ebef3",
   "metadata": {},
   "outputs": [
    {
     "data": {
      "text/html": [
       "<div>\n",
       "<style scoped>\n",
       "    .dataframe tbody tr th:only-of-type {\n",
       "        vertical-align: middle;\n",
       "    }\n",
       "\n",
       "    .dataframe tbody tr th {\n",
       "        vertical-align: top;\n",
       "    }\n",
       "\n",
       "    .dataframe thead th {\n",
       "        text-align: right;\n",
       "    }\n",
       "</style>\n",
       "<table border=\"1\" class=\"dataframe\">\n",
       "  <thead>\n",
       "    <tr style=\"text-align: right;\">\n",
       "      <th></th>\n",
       "      <th>totwrk</th>\n",
       "      <th>age</th>\n",
       "      <th>south</th>\n",
       "      <th>male</th>\n",
       "      <th>smsa</th>\n",
       "      <th>yngkid</th>\n",
       "      <th>marr</th>\n",
       "    </tr>\n",
       "  </thead>\n",
       "  <tbody>\n",
       "    <tr>\n",
       "      <th>0</th>\n",
       "      <td>2150</td>\n",
       "      <td>37</td>\n",
       "      <td>0</td>\n",
       "      <td>1</td>\n",
       "      <td>1</td>\n",
       "      <td>0</td>\n",
       "      <td>1</td>\n",
       "    </tr>\n",
       "    <tr>\n",
       "      <th>1</th>\n",
       "      <td>1950</td>\n",
       "      <td>28</td>\n",
       "      <td>1</td>\n",
       "      <td>1</td>\n",
       "      <td>0</td>\n",
       "      <td>1</td>\n",
       "      <td>0</td>\n",
       "    </tr>\n",
       "    <tr>\n",
       "      <th>2</th>\n",
       "      <td>2240</td>\n",
       "      <td>26</td>\n",
       "      <td>0</td>\n",
       "      <td>0</td>\n",
       "      <td>1</td>\n",
       "      <td>0</td>\n",
       "      <td>0</td>\n",
       "    </tr>\n",
       "  </tbody>\n",
       "</table>\n",
       "</div>"
      ],
      "text/plain": [
       "   totwrk  age  south  male  smsa  yngkid  marr\n",
       "0    2150   37      0     1     1       0     1\n",
       "1    1950   28      1     1     0       1     0\n",
       "2    2240   26      0     0     1       0     0"
      ]
     },
     "execution_count": 337,
     "metadata": {},
     "output_type": "execute_result"
    }
   ],
   "source": [
    "#create new DataFrame\n",
    "sleep_new = pd.DataFrame({'totwrk': [2150, 1950, 2240],\n",
    "                       'age': [37, 28, 26],\n",
    "                       'south': [0, 1, 0],\n",
    "                       'male': [1, 1, 0],\n",
    "                       'smsa': [1, 0, 1],\n",
    "                       'yngkid': [0, 1, 0],\n",
    "                       'marr': [1, 0, 0]})\n",
    "#view new DataFrame\n",
    "sleep_new"
   ]
  },
  {
   "cell_type": "code",
   "execution_count": 338,
   "id": "90012a2b",
   "metadata": {},
   "outputs": [
    {
     "data": {
      "text/html": [
       "<div>\n",
       "<style scoped>\n",
       "    .dataframe tbody tr th:only-of-type {\n",
       "        vertical-align: middle;\n",
       "    }\n",
       "\n",
       "    .dataframe tbody tr th {\n",
       "        vertical-align: top;\n",
       "    }\n",
       "\n",
       "    .dataframe thead th {\n",
       "        text-align: right;\n",
       "    }\n",
       "</style>\n",
       "<table border=\"1\" class=\"dataframe\">\n",
       "  <thead>\n",
       "    <tr style=\"text-align: right;\">\n",
       "      <th></th>\n",
       "      <th>Прогноз</th>\n",
       "    </tr>\n",
       "  </thead>\n",
       "  <tbody>\n",
       "    <tr>\n",
       "      <th>0</th>\n",
       "      <td>3250.68</td>\n",
       "    </tr>\n",
       "    <tr>\n",
       "      <th>1</th>\n",
       "      <td>3371.46</td>\n",
       "    </tr>\n",
       "    <tr>\n",
       "      <th>2</th>\n",
       "      <td>3086.98</td>\n",
       "    </tr>\n",
       "  </tbody>\n",
       "</table>\n",
       "</div>"
      ],
      "text/plain": [
       "   Прогноз\n",
       "0  3250.68\n",
       "1  3371.46\n",
       "2  3086.98"
      ]
     },
     "execution_count": 338,
     "metadata": {},
     "output_type": "execute_result"
    }
   ],
   "source": [
    "#predict sleep\n",
    "Sleep_eq1.predict(sleep_new).round(2).to_frame(name='Прогноз')"
   ]
  },
  {
   "cell_type": "markdown",
   "id": "497f2c37",
   "metadata": {},
   "source": [
    "## Задание 2 sleep equation #2"
   ]
  },
  {
   "cell_type": "code",
   "execution_count": 339,
   "id": "2a2503c3",
   "metadata": {},
   "outputs": [
    {
     "data": {
      "text/plain": [
       "(706, 34)"
      ]
     },
     "execution_count": 339,
     "metadata": {},
     "output_type": "execute_result"
    }
   ],
   "source": [
    "data2 = pd.read_csv('https://raw.githubusercontent.com/artamonoff/Econometrica/master/python-notebooks/data-csv/sleep75.csv')\n",
    "data2.shape"
   ]
  },
  {
   "cell_type": "code",
   "execution_count": 340,
   "id": "fb97f93f",
   "metadata": {},
   "outputs": [],
   "source": [
    "Sleep_eq2 = smf.ols(formula = 'sleep~totwrk+age+age*age+south+male', data = data2).fit()"
   ]
  },
  {
   "cell_type": "code",
   "execution_count": 341,
   "id": "4f418c78",
   "metadata": {},
   "outputs": [
    {
     "data": {
      "text/html": [
       "<table class=\"simpletable\">\n",
       "<caption>OLS Regression Results</caption>\n",
       "<tr>\n",
       "  <th>Dep. Variable:</th>          <td>sleep</td>      <th>  R-squared:         </th> <td>   0.127</td> \n",
       "</tr>\n",
       "<tr>\n",
       "  <th>Model:</th>                   <td>OLS</td>       <th>  Adj. R-squared:    </th> <td>   0.122</td> \n",
       "</tr>\n",
       "<tr>\n",
       "  <th>Method:</th>             <td>Least Squares</td>  <th>  F-statistic:       </th> <td>   25.46</td> \n",
       "</tr>\n",
       "<tr>\n",
       "  <th>Date:</th>             <td>Tue, 18 Apr 2023</td> <th>  Prob (F-statistic):</th> <td>1.03e-19</td> \n",
       "</tr>\n",
       "<tr>\n",
       "  <th>Time:</th>                 <td>23:14:12</td>     <th>  Log-Likelihood:    </th> <td> -5257.7</td> \n",
       "</tr>\n",
       "<tr>\n",
       "  <th>No. Observations:</th>      <td>   706</td>      <th>  AIC:               </th> <td>1.053e+04</td>\n",
       "</tr>\n",
       "<tr>\n",
       "  <th>Df Residuals:</th>          <td>   701</td>      <th>  BIC:               </th> <td>1.055e+04</td>\n",
       "</tr>\n",
       "<tr>\n",
       "  <th>Df Model:</th>              <td>     4</td>      <th>                     </th>     <td> </td>    \n",
       "</tr>\n",
       "<tr>\n",
       "  <th>Covariance Type:</th>      <td>nonrobust</td>    <th>                     </th>     <td> </td>    \n",
       "</tr>\n",
       "</table>\n",
       "<table class=\"simpletable\">\n",
       "<tr>\n",
       "      <td></td>         <th>coef</th>     <th>std err</th>      <th>t</th>      <th>P>|t|</th>  <th>[0.025</th>    <th>0.975]</th>  \n",
       "</tr>\n",
       "<tr>\n",
       "  <th>Intercept</th> <td> 3444.9975</td> <td>   67.882</td> <td>   50.750</td> <td> 0.000</td> <td> 3311.721</td> <td> 3578.273</td>\n",
       "</tr>\n",
       "<tr>\n",
       "  <th>totwrk</th>    <td>   -0.1694</td> <td>    0.018</td> <td>   -9.437</td> <td> 0.000</td> <td>   -0.205</td> <td>   -0.134</td>\n",
       "</tr>\n",
       "<tr>\n",
       "  <th>age</th>       <td>    2.7848</td> <td>    1.387</td> <td>    2.008</td> <td> 0.045</td> <td>    0.062</td> <td>    5.507</td>\n",
       "</tr>\n",
       "<tr>\n",
       "  <th>south</th>     <td>  116.4434</td> <td>   40.561</td> <td>    2.871</td> <td> 0.004</td> <td>   36.809</td> <td>  196.078</td>\n",
       "</tr>\n",
       "<tr>\n",
       "  <th>male</th>      <td>   90.7432</td> <td>   34.247</td> <td>    2.650</td> <td> 0.008</td> <td>   23.504</td> <td>  157.982</td>\n",
       "</tr>\n",
       "</table>\n",
       "<table class=\"simpletable\">\n",
       "<tr>\n",
       "  <th>Omnibus:</th>       <td>60.057</td> <th>  Durbin-Watson:     </th> <td>   1.948</td>\n",
       "</tr>\n",
       "<tr>\n",
       "  <th>Prob(Omnibus):</th> <td> 0.000</td> <th>  Jarque-Bera (JB):  </th> <td> 160.194</td>\n",
       "</tr>\n",
       "<tr>\n",
       "  <th>Skew:</th>          <td>-0.431</td> <th>  Prob(JB):          </th> <td>1.64e-35</td>\n",
       "</tr>\n",
       "<tr>\n",
       "  <th>Kurtosis:</th>      <td> 5.168</td> <th>  Cond. No.          </th> <td>1.01e+04</td>\n",
       "</tr>\n",
       "</table><br/><br/>Notes:<br/>[1] Standard Errors assume that the covariance matrix of the errors is correctly specified.<br/>[2] The condition number is large, 1.01e+04. This might indicate that there are<br/>strong multicollinearity or other numerical problems."
      ],
      "text/plain": [
       "<class 'statsmodels.iolib.summary.Summary'>\n",
       "\"\"\"\n",
       "                            OLS Regression Results                            \n",
       "==============================================================================\n",
       "Dep. Variable:                  sleep   R-squared:                       0.127\n",
       "Model:                            OLS   Adj. R-squared:                  0.122\n",
       "Method:                 Least Squares   F-statistic:                     25.46\n",
       "Date:                Tue, 18 Apr 2023   Prob (F-statistic):           1.03e-19\n",
       "Time:                        23:14:12   Log-Likelihood:                -5257.7\n",
       "No. Observations:                 706   AIC:                         1.053e+04\n",
       "Df Residuals:                     701   BIC:                         1.055e+04\n",
       "Df Model:                           4                                         \n",
       "Covariance Type:            nonrobust                                         \n",
       "==============================================================================\n",
       "                 coef    std err          t      P>|t|      [0.025      0.975]\n",
       "------------------------------------------------------------------------------\n",
       "Intercept   3444.9975     67.882     50.750      0.000    3311.721    3578.273\n",
       "totwrk        -0.1694      0.018     -9.437      0.000      -0.205      -0.134\n",
       "age            2.7848      1.387      2.008      0.045       0.062       5.507\n",
       "south        116.4434     40.561      2.871      0.004      36.809     196.078\n",
       "male          90.7432     34.247      2.650      0.008      23.504     157.982\n",
       "==============================================================================\n",
       "Omnibus:                       60.057   Durbin-Watson:                   1.948\n",
       "Prob(Omnibus):                  0.000   Jarque-Bera (JB):              160.194\n",
       "Skew:                          -0.431   Prob(JB):                     1.64e-35\n",
       "Kurtosis:                       5.168   Cond. No.                     1.01e+04\n",
       "==============================================================================\n",
       "\n",
       "Notes:\n",
       "[1] Standard Errors assume that the covariance matrix of the errors is correctly specified.\n",
       "[2] The condition number is large, 1.01e+04. This might indicate that there are\n",
       "strong multicollinearity or other numerical problems.\n",
       "\"\"\""
      ]
     },
     "execution_count": 341,
     "metadata": {},
     "output_type": "execute_result"
    }
   ],
   "source": [
    "Sleep_eq2.summary()"
   ]
  },
  {
   "cell_type": "code",
   "execution_count": 342,
   "id": "9a67803d",
   "metadata": {},
   "outputs": [
    {
     "data": {
      "text/html": [
       "<table class=\"simpletable\">\n",
       "<tr>\n",
       "         <td></td>          <th>sleep</th>  \n",
       "</tr>\n",
       "<tr>\n",
       "  <th>Intercept</th>      <td>3444.9975</td>\n",
       "</tr>\n",
       "<tr>\n",
       "  <th></th>               <td>(67.8818)</td>\n",
       "</tr>\n",
       "<tr>\n",
       "  <th>totwrk</th>          <td>-0.1694</td> \n",
       "</tr>\n",
       "<tr>\n",
       "  <th></th>               <td>(0.0179)</td> \n",
       "</tr>\n",
       "<tr>\n",
       "  <th>age</th>             <td>2.7848</td>  \n",
       "</tr>\n",
       "<tr>\n",
       "  <th></th>               <td>(1.3867)</td> \n",
       "</tr>\n",
       "<tr>\n",
       "  <th>south</th>          <td>116.4434</td> \n",
       "</tr>\n",
       "<tr>\n",
       "  <th></th>               <td>(40.5606)</td>\n",
       "</tr>\n",
       "<tr>\n",
       "  <th>male</th>            <td>90.7432</td> \n",
       "</tr>\n",
       "<tr>\n",
       "  <th></th>               <td>(34.2471)</td>\n",
       "</tr>\n",
       "<tr>\n",
       "  <th>R-squared</th>       <td>0.1268</td>  \n",
       "</tr>\n",
       "<tr>\n",
       "  <th>R-squared Adj.</th>  <td>0.1219</td>  \n",
       "</tr>\n",
       "</table>"
      ],
      "text/plain": [
       "<class 'statsmodels.iolib.summary2.Summary'>\n",
       "\"\"\"\n",
       "\n",
       "========================\n",
       "                 sleep  \n",
       "------------------------\n",
       "Intercept      3444.9975\n",
       "               (67.8818)\n",
       "totwrk         -0.1694  \n",
       "               (0.0179) \n",
       "age            2.7848   \n",
       "               (1.3867) \n",
       "south          116.4434 \n",
       "               (40.5606)\n",
       "male           90.7432  \n",
       "               (34.2471)\n",
       "R-squared      0.1268   \n",
       "R-squared Adj. 0.1219   \n",
       "========================\n",
       "Standard errors in\n",
       "parentheses.\n",
       "\"\"\""
      ]
     },
     "execution_count": 342,
     "metadata": {},
     "output_type": "execute_result"
    }
   ],
   "source": [
    "summary_col(Sleep_eq2, stars=None)"
   ]
  },
  {
   "cell_type": "code",
   "execution_count": 343,
   "id": "4fe67032",
   "metadata": {},
   "outputs": [
    {
     "name": "stdout",
     "output_type": "stream",
     "text": [
      "\n",
      "===========================\n",
      "                  sleep    \n",
      "---------------------------\n",
      "Intercept      3444.9975***\n",
      "               (67.8818)   \n",
      "totwrk         -0.1694***  \n",
      "               (0.0179)    \n",
      "age            2.7848**    \n",
      "               (1.3867)    \n",
      "south          116.4434*** \n",
      "               (40.5606)   \n",
      "male           90.7432***  \n",
      "               (34.2471)   \n",
      "R-squared      0.1268      \n",
      "R-squared Adj. 0.1219      \n",
      "===========================\n",
      "Standard errors in\n",
      "parentheses.\n",
      "* p<.1, ** p<.05, ***p<.01\n"
     ]
    }
   ],
   "source": [
    "print(summary_col(Sleep_eq2, stars=True))"
   ]
  },
  {
   "cell_type": "code",
   "execution_count": 344,
   "id": "7c9753d9",
   "metadata": {},
   "outputs": [
    {
     "data": {
      "text/html": [
       "<div>\n",
       "<style scoped>\n",
       "    .dataframe tbody tr th:only-of-type {\n",
       "        vertical-align: middle;\n",
       "    }\n",
       "\n",
       "    .dataframe tbody tr th {\n",
       "        vertical-align: top;\n",
       "    }\n",
       "\n",
       "    .dataframe thead th {\n",
       "        text-align: right;\n",
       "    }\n",
       "</style>\n",
       "<table border=\"1\" class=\"dataframe\">\n",
       "  <thead>\n",
       "    <tr style=\"text-align: right;\">\n",
       "      <th></th>\n",
       "      <th>totwrk</th>\n",
       "      <th>age</th>\n",
       "      <th>south</th>\n",
       "      <th>male</th>\n",
       "    </tr>\n",
       "  </thead>\n",
       "  <tbody>\n",
       "    <tr>\n",
       "      <th>1</th>\n",
       "      <td>2160</td>\n",
       "      <td>32</td>\n",
       "      <td>1</td>\n",
       "      <td>0</td>\n",
       "    </tr>\n",
       "    <tr>\n",
       "      <th>2</th>\n",
       "      <td>1720</td>\n",
       "      <td>24</td>\n",
       "      <td>0</td>\n",
       "      <td>1</td>\n",
       "    </tr>\n",
       "    <tr>\n",
       "      <th>3</th>\n",
       "      <td>2390</td>\n",
       "      <td>44</td>\n",
       "      <td>0</td>\n",
       "      <td>1</td>\n",
       "    </tr>\n",
       "  </tbody>\n",
       "</table>\n",
       "</div>"
      ],
      "text/plain": [
       "   totwrk  age  south  male\n",
       "1    2160   32      1     0\n",
       "2    1720   24      0     1\n",
       "3    2390   44      0     1"
      ]
     },
     "execution_count": 344,
     "metadata": {},
     "output_type": "execute_result"
    }
   ],
   "source": [
    "data_string='''  totwrk age south male\n",
    "1  2160  32    1    0  \n",
    "2  1720  24    0    1  \n",
    "3  2390  44    0    1 '''\n",
    "wn_df = pd.read_csv(io.StringIO(data_string), sep='\\s+')\n",
    "wn_df"
   ]
  },
  {
   "cell_type": "code",
   "execution_count": 345,
   "id": "9f79893b",
   "metadata": {},
   "outputs": [
    {
     "data": {
      "text/html": [
       "<div>\n",
       "<style scoped>\n",
       "    .dataframe tbody tr th:only-of-type {\n",
       "        vertical-align: middle;\n",
       "    }\n",
       "\n",
       "    .dataframe tbody tr th {\n",
       "        vertical-align: top;\n",
       "    }\n",
       "\n",
       "    .dataframe thead th {\n",
       "        text-align: right;\n",
       "    }\n",
       "</style>\n",
       "<table border=\"1\" class=\"dataframe\">\n",
       "  <thead>\n",
       "    <tr style=\"text-align: right;\">\n",
       "      <th></th>\n",
       "      <th>totwrk</th>\n",
       "      <th>age</th>\n",
       "      <th>south</th>\n",
       "      <th>male</th>\n",
       "    </tr>\n",
       "  </thead>\n",
       "  <tbody>\n",
       "    <tr>\n",
       "      <th>0</th>\n",
       "      <td>2160</td>\n",
       "      <td>32</td>\n",
       "      <td>1</td>\n",
       "      <td>0</td>\n",
       "    </tr>\n",
       "    <tr>\n",
       "      <th>1</th>\n",
       "      <td>1720</td>\n",
       "      <td>24</td>\n",
       "      <td>0</td>\n",
       "      <td>1</td>\n",
       "    </tr>\n",
       "    <tr>\n",
       "      <th>2</th>\n",
       "      <td>2390</td>\n",
       "      <td>44</td>\n",
       "      <td>0</td>\n",
       "      <td>1</td>\n",
       "    </tr>\n",
       "  </tbody>\n",
       "</table>\n",
       "</div>"
      ],
      "text/plain": [
       "   totwrk  age  south  male\n",
       "0    2160   32      1     0\n",
       "1    1720   24      0     1\n",
       "2    2390   44      0     1"
      ]
     },
     "execution_count": 345,
     "metadata": {},
     "output_type": "execute_result"
    }
   ],
   "source": [
    "sleep2_new = pd.DataFrame({'totwrk': [2160, 1720, 2390],\n",
    "                       'age': [32, 24, 44],\n",
    "                       'south': [1, 0, 0],\n",
    "                       'male': [0, 1, 1]})\n",
    "sleep2_new"
   ]
  },
  {
   "cell_type": "code",
   "execution_count": 346,
   "id": "f0019168",
   "metadata": {},
   "outputs": [
    {
     "data": {
      "text/html": [
       "<div>\n",
       "<style scoped>\n",
       "    .dataframe tbody tr th:only-of-type {\n",
       "        vertical-align: middle;\n",
       "    }\n",
       "\n",
       "    .dataframe tbody tr th {\n",
       "        vertical-align: top;\n",
       "    }\n",
       "\n",
       "    .dataframe thead th {\n",
       "        text-align: right;\n",
       "    }\n",
       "</style>\n",
       "<table border=\"1\" class=\"dataframe\">\n",
       "  <thead>\n",
       "    <tr style=\"text-align: right;\">\n",
       "      <th></th>\n",
       "      <th>Прогноз</th>\n",
       "    </tr>\n",
       "  </thead>\n",
       "  <tbody>\n",
       "    <tr>\n",
       "      <th>0</th>\n",
       "      <td>3274.60</td>\n",
       "    </tr>\n",
       "    <tr>\n",
       "      <th>1</th>\n",
       "      <td>3399.86</td>\n",
       "    </tr>\n",
       "    <tr>\n",
       "      <th>2</th>\n",
       "      <td>3137.98</td>\n",
       "    </tr>\n",
       "  </tbody>\n",
       "</table>\n",
       "</div>"
      ],
      "text/plain": [
       "   Прогноз\n",
       "0  3274.60\n",
       "1  3399.86\n",
       "2  3137.98"
      ]
     },
     "execution_count": 346,
     "metadata": {},
     "output_type": "execute_result"
    }
   ],
   "source": [
    "Sleep_eq2.predict(sleep_new).round(2).to_frame(name='Прогноз')"
   ]
  },
  {
   "cell_type": "code",
   "execution_count": 347,
   "id": "94ae3b36",
   "metadata": {},
   "outputs": [],
   "source": [
    "# не совпадает с ответами "
   ]
  },
  {
   "cell_type": "markdown",
   "id": "3d9e8ef7",
   "metadata": {},
   "source": [
    "## Задание 3 wage equation #1"
   ]
  },
  {
   "cell_type": "code",
   "execution_count": 348,
   "id": "010c1d1d",
   "metadata": {},
   "outputs": [
    {
     "data": {
      "text/plain": [
       "(935, 17)"
      ]
     },
     "execution_count": 348,
     "metadata": {},
     "output_type": "execute_result"
    }
   ],
   "source": [
    "data3 = pd.read_csv('https://raw.githubusercontent.com/artamonoff/Econometrica/master/python-notebooks/data-csv/wage2.csv')\n",
    "data3.shape"
   ]
  },
  {
   "cell_type": "code",
   "execution_count": 349,
   "id": "2497d635",
   "metadata": {},
   "outputs": [],
   "source": [
    "Wage_eq2=smf.ols(formula='np.log(wage)~age+IQ+south+married+urban', data = data3).fit()"
   ]
  },
  {
   "cell_type": "code",
   "execution_count": 350,
   "id": "79e19511",
   "metadata": {},
   "outputs": [
    {
     "data": {
      "text/html": [
       "<table class=\"simpletable\">\n",
       "<tr>\n",
       "         <td></td>        <th>np.log(wage)</th>\n",
       "</tr>\n",
       "<tr>\n",
       "  <th>Intercept</th>        <td>4.9740***</td> \n",
       "</tr>\n",
       "<tr>\n",
       "  <th></th>                 <td>(0.1654)</td>  \n",
       "</tr>\n",
       "<tr>\n",
       "  <th>age</th>              <td>0.0213***</td> \n",
       "</tr>\n",
       "<tr>\n",
       "  <th></th>                 <td>(0.0040)</td>  \n",
       "</tr>\n",
       "<tr>\n",
       "  <th>IQ</th>               <td>0.0082***</td> \n",
       "</tr>\n",
       "<tr>\n",
       "  <th></th>                 <td>(0.0008)</td>  \n",
       "</tr>\n",
       "<tr>\n",
       "  <th>south</th>           <td>-0.0990***</td> \n",
       "</tr>\n",
       "<tr>\n",
       "  <th></th>                 <td>(0.0268)</td>  \n",
       "</tr>\n",
       "<tr>\n",
       "  <th>married</th>          <td>0.2010***</td> \n",
       "</tr>\n",
       "<tr>\n",
       "  <th></th>                 <td>(0.0402)</td>  \n",
       "</tr>\n",
       "<tr>\n",
       "  <th>urban</th>            <td>0.1750***</td> \n",
       "</tr>\n",
       "<tr>\n",
       "  <th></th>                 <td>(0.0276)</td>  \n",
       "</tr>\n",
       "<tr>\n",
       "  <th>R-squared</th>         <td>0.1996</td>   \n",
       "</tr>\n",
       "<tr>\n",
       "  <th>R-squared Adj.</th>    <td>0.1953</td>   \n",
       "</tr>\n",
       "</table>"
      ],
      "text/plain": [
       "<class 'statsmodels.iolib.summary2.Summary'>\n",
       "\"\"\"\n",
       "\n",
       "===========================\n",
       "               np.log(wage)\n",
       "---------------------------\n",
       "Intercept      4.9740***   \n",
       "               (0.1654)    \n",
       "age            0.0213***   \n",
       "               (0.0040)    \n",
       "IQ             0.0082***   \n",
       "               (0.0008)    \n",
       "south          -0.0990***  \n",
       "               (0.0268)    \n",
       "married        0.2010***   \n",
       "               (0.0402)    \n",
       "urban          0.1750***   \n",
       "               (0.0276)    \n",
       "R-squared      0.1996      \n",
       "R-squared Adj. 0.1953      \n",
       "===========================\n",
       "Standard errors in\n",
       "parentheses.\n",
       "* p<.1, ** p<.05, ***p<.01\n",
       "\"\"\""
      ]
     },
     "execution_count": 350,
     "metadata": {},
     "output_type": "execute_result"
    }
   ],
   "source": [
    "summary_col(Wage_eq2, stars=True)"
   ]
  },
  {
   "cell_type": "code",
   "execution_count": 351,
   "id": "5d748d1b",
   "metadata": {},
   "outputs": [
    {
     "name": "stdout",
     "output_type": "stream",
     "text": [
      "\n",
      "===========================\n",
      "               np.log(wage)\n",
      "---------------------------\n",
      "Intercept      4.9740***   \n",
      "               (0.1654)    \n",
      "age            0.0213***   \n",
      "               (0.0040)    \n",
      "IQ             0.0082***   \n",
      "               (0.0008)    \n",
      "south          -0.0990***  \n",
      "               (0.0268)    \n",
      "married        0.2010***   \n",
      "               (0.0402)    \n",
      "urban          0.1750***   \n",
      "               (0.0276)    \n",
      "R-squared      0.1996      \n",
      "R-squared Adj. 0.1953      \n",
      "===========================\n",
      "Standard errors in\n",
      "parentheses.\n",
      "* p<.1, ** p<.05, ***p<.01\n"
     ]
    }
   ],
   "source": [
    "print(summary_col(Wage_eq2, stars=True))"
   ]
  },
  {
   "cell_type": "code",
   "execution_count": 386,
   "id": "baa0dca9",
   "metadata": {},
   "outputs": [
    {
     "data": {
      "text/html": [
       "<div>\n",
       "<style scoped>\n",
       "    .dataframe tbody tr th:only-of-type {\n",
       "        vertical-align: middle;\n",
       "    }\n",
       "\n",
       "    .dataframe tbody tr th {\n",
       "        vertical-align: top;\n",
       "    }\n",
       "\n",
       "    .dataframe thead th {\n",
       "        text-align: right;\n",
       "    }\n",
       "</style>\n",
       "<table border=\"1\" class=\"dataframe\">\n",
       "  <thead>\n",
       "    <tr style=\"text-align: right;\">\n",
       "      <th></th>\n",
       "      <th>age</th>\n",
       "      <th>IQ</th>\n",
       "      <th>south</th>\n",
       "      <th>married</th>\n",
       "      <th>urban</th>\n",
       "    </tr>\n",
       "  </thead>\n",
       "  <tbody>\n",
       "    <tr>\n",
       "      <th>0</th>\n",
       "      <td>36</td>\n",
       "      <td>105</td>\n",
       "      <td>1</td>\n",
       "      <td>1</td>\n",
       "      <td>1</td>\n",
       "    </tr>\n",
       "    <tr>\n",
       "      <th>1</th>\n",
       "      <td>29</td>\n",
       "      <td>123</td>\n",
       "      <td>0</td>\n",
       "      <td>1</td>\n",
       "      <td>0</td>\n",
       "    </tr>\n",
       "    <tr>\n",
       "      <th>2</th>\n",
       "      <td>25</td>\n",
       "      <td>112</td>\n",
       "      <td>1</td>\n",
       "      <td>0</td>\n",
       "      <td>1</td>\n",
       "    </tr>\n",
       "  </tbody>\n",
       "</table>\n",
       "</div>"
      ],
      "text/plain": [
       "   age   IQ  south  married  urban\n",
       "0   36  105      1        1      1\n",
       "1   29  123      0        1      0\n",
       "2   25  112      1        0      1"
      ]
     },
     "execution_count": 386,
     "metadata": {},
     "output_type": "execute_result"
    }
   ],
   "source": [
    "data_wage= '''№ age IQ  south married urban\n",
    "1 36  105   1      1      1  \n",
    "2 29  123   0      1      0  \n",
    "3 25  112   1      0      1'''\n",
    "wg_nw = pd.read_csv(io.StringIO(data_wage), sep='\\s+')\n",
    "wg_nw.drop(columns='№',inplace=True)\n",
    "wg_nw"
   ]
  },
  {
   "cell_type": "code",
   "execution_count": 387,
   "id": "25709c77",
   "metadata": {},
   "outputs": [
    {
     "data": {
      "text/html": [
       "<div>\n",
       "<style scoped>\n",
       "    .dataframe tbody tr th:only-of-type {\n",
       "        vertical-align: middle;\n",
       "    }\n",
       "\n",
       "    .dataframe tbody tr th {\n",
       "        vertical-align: top;\n",
       "    }\n",
       "\n",
       "    .dataframe thead th {\n",
       "        text-align: right;\n",
       "    }\n",
       "</style>\n",
       "<table border=\"1\" class=\"dataframe\">\n",
       "  <thead>\n",
       "    <tr style=\"text-align: right;\">\n",
       "      <th></th>\n",
       "      <th>age</th>\n",
       "      <th>IQ</th>\n",
       "      <th>south</th>\n",
       "      <th>married</th>\n",
       "      <th>urban</th>\n",
       "    </tr>\n",
       "  </thead>\n",
       "  <tbody>\n",
       "    <tr>\n",
       "      <th>0</th>\n",
       "      <td>36</td>\n",
       "      <td>105</td>\n",
       "      <td>1</td>\n",
       "      <td>1</td>\n",
       "      <td>1</td>\n",
       "    </tr>\n",
       "    <tr>\n",
       "      <th>1</th>\n",
       "      <td>29</td>\n",
       "      <td>123</td>\n",
       "      <td>0</td>\n",
       "      <td>1</td>\n",
       "      <td>0</td>\n",
       "    </tr>\n",
       "    <tr>\n",
       "      <th>2</th>\n",
       "      <td>25</td>\n",
       "      <td>112</td>\n",
       "      <td>1</td>\n",
       "      <td>0</td>\n",
       "      <td>1</td>\n",
       "    </tr>\n",
       "  </tbody>\n",
       "</table>\n",
       "</div>"
      ],
      "text/plain": [
       "   age   IQ  south  married  urban\n",
       "0   36  105      1        1      1\n",
       "1   29  123      0        1      0\n",
       "2   25  112      1        0      1"
      ]
     },
     "execution_count": 387,
     "metadata": {},
     "output_type": "execute_result"
    }
   ],
   "source": [
    "Wage_new = pd.DataFrame({'age': [36,29,25],\n",
    "                        'IQ': [105,123,112],\n",
    "                        'south': [1,0,1],\n",
    "                        'married': [1,1,0],\n",
    "                        'urban': [1,0,1]})\n",
    "Wage_new"
   ]
  },
  {
   "cell_type": "code",
   "execution_count": 388,
   "id": "54c43d6f",
   "metadata": {},
   "outputs": [
    {
     "data": {
      "text/plain": [
       "0    6.877240\n",
       "1    6.800093\n",
       "2    6.499888\n",
       "dtype: float64"
      ]
     },
     "execution_count": 388,
     "metadata": {},
     "output_type": "execute_result"
    }
   ],
   "source": [
    "LOG_wage = Wage_eq2.predict(Wage_new)\n",
    "LOG_wage"
   ]
  },
  {
   "cell_type": "code",
   "execution_count": 389,
   "id": "ceb91914",
   "metadata": {},
   "outputs": [
    {
     "data": {
      "text/plain": [
       "pandas.core.series.Series"
      ]
     },
     "execution_count": 389,
     "metadata": {},
     "output_type": "execute_result"
    }
   ],
   "source": [
    "type(LOG_wage)"
   ]
  },
  {
   "cell_type": "code",
   "execution_count": 390,
   "id": "d15b93b4",
   "metadata": {},
   "outputs": [
    {
     "data": {
      "text/html": [
       "<div>\n",
       "<style scoped>\n",
       "    .dataframe tbody tr th:only-of-type {\n",
       "        vertical-align: middle;\n",
       "    }\n",
       "\n",
       "    .dataframe tbody tr th {\n",
       "        vertical-align: top;\n",
       "    }\n",
       "\n",
       "    .dataframe thead th {\n",
       "        text-align: right;\n",
       "    }\n",
       "</style>\n",
       "<table border=\"1\" class=\"dataframe\">\n",
       "  <thead>\n",
       "    <tr style=\"text-align: right;\">\n",
       "      <th></th>\n",
       "      <th>np.log(wage)</th>\n",
       "    </tr>\n",
       "  </thead>\n",
       "  <tbody>\n",
       "    <tr>\n",
       "      <th>0</th>\n",
       "      <td>6.877240</td>\n",
       "    </tr>\n",
       "    <tr>\n",
       "      <th>1</th>\n",
       "      <td>6.800093</td>\n",
       "    </tr>\n",
       "    <tr>\n",
       "      <th>2</th>\n",
       "      <td>6.499888</td>\n",
       "    </tr>\n",
       "  </tbody>\n",
       "</table>\n",
       "</div>"
      ],
      "text/plain": [
       "   np.log(wage)\n",
       "0      6.877240\n",
       "1      6.800093\n",
       "2      6.499888"
      ]
     },
     "execution_count": 390,
     "metadata": {},
     "output_type": "execute_result"
    }
   ],
   "source": [
    "pd.DataFrame({'np.log(wage)': LOG_wage.values})"
   ]
  },
  {
   "cell_type": "code",
   "execution_count": 391,
   "id": "c65017ce",
   "metadata": {},
   "outputs": [
    {
     "data": {
      "text/html": [
       "<div>\n",
       "<style scoped>\n",
       "    .dataframe tbody tr th:only-of-type {\n",
       "        vertical-align: middle;\n",
       "    }\n",
       "\n",
       "    .dataframe tbody tr th {\n",
       "        vertical-align: top;\n",
       "    }\n",
       "\n",
       "    .dataframe thead th {\n",
       "        text-align: right;\n",
       "    }\n",
       "</style>\n",
       "<table border=\"1\" class=\"dataframe\">\n",
       "  <thead>\n",
       "    <tr style=\"text-align: right;\">\n",
       "      <th></th>\n",
       "      <th>np.log(wage)</th>\n",
       "    </tr>\n",
       "  </thead>\n",
       "  <tbody>\n",
       "    <tr>\n",
       "      <th>0</th>\n",
       "      <td>6.877240</td>\n",
       "    </tr>\n",
       "    <tr>\n",
       "      <th>1</th>\n",
       "      <td>6.800093</td>\n",
       "    </tr>\n",
       "    <tr>\n",
       "      <th>2</th>\n",
       "      <td>6.499888</td>\n",
       "    </tr>\n",
       "  </tbody>\n",
       "</table>\n",
       "</div>"
      ],
      "text/plain": [
       "   np.log(wage)\n",
       "0      6.877240\n",
       "1      6.800093\n",
       "2      6.499888"
      ]
     },
     "execution_count": 391,
     "metadata": {},
     "output_type": "execute_result"
    }
   ],
   "source": [
    "LOG_wage.to_frame(name='np.log(wage)')"
   ]
  },
  {
   "cell_type": "code",
   "execution_count": 392,
   "id": "af8fbfb1",
   "metadata": {},
   "outputs": [
    {
     "data": {
      "text/plain": [
       "0    969.95\n",
       "1    897.93\n",
       "2    665.07\n",
       "dtype: float64"
      ]
     },
     "execution_count": 392,
     "metadata": {},
     "output_type": "execute_result"
    }
   ],
   "source": [
    "np.exp(LOG_wage).round(2)"
   ]
  },
  {
   "cell_type": "code",
   "execution_count": 393,
   "id": "cb2162a6",
   "metadata": {},
   "outputs": [
    {
     "data": {
      "text/html": [
       "<div>\n",
       "<style scoped>\n",
       "    .dataframe tbody tr th:only-of-type {\n",
       "        vertical-align: middle;\n",
       "    }\n",
       "\n",
       "    .dataframe tbody tr th {\n",
       "        vertical-align: top;\n",
       "    }\n",
       "\n",
       "    .dataframe thead th {\n",
       "        text-align: right;\n",
       "    }\n",
       "</style>\n",
       "<table border=\"1\" class=\"dataframe\">\n",
       "  <thead>\n",
       "    <tr style=\"text-align: right;\">\n",
       "      <th></th>\n",
       "      <th>Прогноз</th>\n",
       "    </tr>\n",
       "  </thead>\n",
       "  <tbody>\n",
       "    <tr>\n",
       "      <th>0</th>\n",
       "      <td>969.95</td>\n",
       "    </tr>\n",
       "    <tr>\n",
       "      <th>1</th>\n",
       "      <td>897.93</td>\n",
       "    </tr>\n",
       "    <tr>\n",
       "      <th>2</th>\n",
       "      <td>665.07</td>\n",
       "    </tr>\n",
       "  </tbody>\n",
       "</table>\n",
       "</div>"
      ],
      "text/plain": [
       "   Прогноз\n",
       "0   969.95\n",
       "1   897.93\n",
       "2   665.07"
      ]
     },
     "execution_count": 393,
     "metadata": {},
     "output_type": "execute_result"
    }
   ],
   "source": [
    "np.exp(LOG_wage).round(2).to_frame(name='Прогноз')"
   ]
  },
  {
   "cell_type": "markdown",
   "id": "4055476b",
   "metadata": {},
   "source": [
    "## Задание 4 wage equation #2"
   ]
  },
  {
   "cell_type": "code",
   "execution_count": 394,
   "id": "1e702014",
   "metadata": {},
   "outputs": [
    {
     "data": {
      "text/plain": [
       "(526, 24)"
      ]
     },
     "execution_count": 394,
     "metadata": {},
     "output_type": "execute_result"
    }
   ],
   "source": [
    "data4 = pd.read_csv('https://raw.githubusercontent.com/artamonoff/Econometrica/master/python-notebooks/data-csv/wage1.csv')\n",
    "data4.shape"
   ]
  },
  {
   "cell_type": "code",
   "execution_count": 395,
   "id": "3730565b",
   "metadata": {},
   "outputs": [],
   "source": [
    "Wage_eq1=smf.ols(formula='np.log(wage)~exper+exper*exper+female+married+smsa', data = data4).fit()"
   ]
  },
  {
   "cell_type": "code",
   "execution_count": 396,
   "id": "8d03febb",
   "metadata": {},
   "outputs": [
    {
     "data": {
      "text/html": [
       "<table class=\"simpletable\">\n",
       "<tr>\n",
       "         <td></td>        <th>np.log(wage)</th>\n",
       "</tr>\n",
       "<tr>\n",
       "  <th>Intercept</th>        <td>1.4137***</td> \n",
       "</tr>\n",
       "<tr>\n",
       "  <th></th>                 <td>(0.0578)</td>  \n",
       "</tr>\n",
       "<tr>\n",
       "  <th>exper</th>             <td>0.0022</td>   \n",
       "</tr>\n",
       "<tr>\n",
       "  <th></th>                 <td>(0.0016)</td>  \n",
       "</tr>\n",
       "<tr>\n",
       "  <th>female</th>          <td>-0.3601***</td> \n",
       "</tr>\n",
       "<tr>\n",
       "  <th></th>                 <td>(0.0412)</td>  \n",
       "</tr>\n",
       "<tr>\n",
       "  <th>married</th>          <td>0.2390***</td> \n",
       "</tr>\n",
       "<tr>\n",
       "  <th></th>                 <td>(0.0445)</td>  \n",
       "</tr>\n",
       "<tr>\n",
       "  <th>smsa</th>             <td>0.2769***</td> \n",
       "</tr>\n",
       "<tr>\n",
       "  <th></th>                 <td>(0.0457)</td>  \n",
       "</tr>\n",
       "<tr>\n",
       "  <th>R-squared</th>         <td>0.2389</td>   \n",
       "</tr>\n",
       "<tr>\n",
       "  <th>R-squared Adj.</th>    <td>0.2331</td>   \n",
       "</tr>\n",
       "</table>"
      ],
      "text/plain": [
       "<class 'statsmodels.iolib.summary2.Summary'>\n",
       "\"\"\"\n",
       "\n",
       "===========================\n",
       "               np.log(wage)\n",
       "---------------------------\n",
       "Intercept      1.4137***   \n",
       "               (0.0578)    \n",
       "exper          0.0022      \n",
       "               (0.0016)    \n",
       "female         -0.3601***  \n",
       "               (0.0412)    \n",
       "married        0.2390***   \n",
       "               (0.0445)    \n",
       "smsa           0.2769***   \n",
       "               (0.0457)    \n",
       "R-squared      0.2389      \n",
       "R-squared Adj. 0.2331      \n",
       "===========================\n",
       "Standard errors in\n",
       "parentheses.\n",
       "* p<.1, ** p<.05, ***p<.01\n",
       "\"\"\""
      ]
     },
     "execution_count": 396,
     "metadata": {},
     "output_type": "execute_result"
    }
   ],
   "source": [
    "summary_col(Wage_eq1, stars=True)"
   ]
  },
  {
   "cell_type": "code",
   "execution_count": 397,
   "id": "8f4a8053",
   "metadata": {},
   "outputs": [
    {
     "name": "stdout",
     "output_type": "stream",
     "text": [
      "\n",
      "===========================\n",
      "               np.log(wage)\n",
      "---------------------------\n",
      "Intercept      1.4137***   \n",
      "               (0.0578)    \n",
      "exper          0.0022      \n",
      "               (0.0016)    \n",
      "female         -0.3601***  \n",
      "               (0.0412)    \n",
      "married        0.2390***   \n",
      "               (0.0445)    \n",
      "smsa           0.2769***   \n",
      "               (0.0457)    \n",
      "R-squared      0.2389      \n",
      "R-squared Adj. 0.2331      \n",
      "===========================\n",
      "Standard errors in\n",
      "parentheses.\n",
      "* p<.1, ** p<.05, ***p<.01\n"
     ]
    }
   ],
   "source": [
    "print(summary_col(Wage_eq1, stars=True))"
   ]
  },
  {
   "cell_type": "code",
   "execution_count": 401,
   "id": "1b0cec78",
   "metadata": {},
   "outputs": [
    {
     "data": {
      "text/html": [
       "<div>\n",
       "<style scoped>\n",
       "    .dataframe tbody tr th:only-of-type {\n",
       "        vertical-align: middle;\n",
       "    }\n",
       "\n",
       "    .dataframe tbody tr th {\n",
       "        vertical-align: top;\n",
       "    }\n",
       "\n",
       "    .dataframe thead th {\n",
       "        text-align: right;\n",
       "    }\n",
       "</style>\n",
       "<table border=\"1\" class=\"dataframe\">\n",
       "  <thead>\n",
       "    <tr style=\"text-align: right;\">\n",
       "      <th></th>\n",
       "      <th>exper</th>\n",
       "      <th>female</th>\n",
       "      <th>married</th>\n",
       "      <th>smsa</th>\n",
       "    </tr>\n",
       "  </thead>\n",
       "  <tbody>\n",
       "    <tr>\n",
       "      <th>0</th>\n",
       "      <td>5</td>\n",
       "      <td>1</td>\n",
       "      <td>1</td>\n",
       "      <td>1</td>\n",
       "    </tr>\n",
       "    <tr>\n",
       "      <th>1</th>\n",
       "      <td>26</td>\n",
       "      <td>0</td>\n",
       "      <td>0</td>\n",
       "      <td>1</td>\n",
       "    </tr>\n",
       "    <tr>\n",
       "      <th>2</th>\n",
       "      <td>38</td>\n",
       "      <td>1</td>\n",
       "      <td>1</td>\n",
       "      <td>0</td>\n",
       "    </tr>\n",
       "  </tbody>\n",
       "</table>\n",
       "</div>"
      ],
      "text/plain": [
       "   exper  female  married  smsa\n",
       "0      5       1        1     1\n",
       "1     26       0        0     1\n",
       "2     38       1        1     0"
      ]
     },
     "execution_count": 401,
     "metadata": {},
     "output_type": "execute_result"
    }
   ],
   "source": [
    "data_wage= '''№  exper female married smsa\n",
    "1   5     1       1     1  \n",
    "2  26     0       0     1  \n",
    "3  38     1       1     0  '''\n",
    "wg_nw = pd.read_csv(io.StringIO(data_wage), sep='\\s+')\n",
    "wg_nw.drop(columns='№',inplace=True)\n",
    "wg_nw"
   ]
  },
  {
   "cell_type": "code",
   "execution_count": 402,
   "id": "48917d7e",
   "metadata": {},
   "outputs": [
    {
     "data": {
      "text/html": [
       "<div>\n",
       "<style scoped>\n",
       "    .dataframe tbody tr th:only-of-type {\n",
       "        vertical-align: middle;\n",
       "    }\n",
       "\n",
       "    .dataframe tbody tr th {\n",
       "        vertical-align: top;\n",
       "    }\n",
       "\n",
       "    .dataframe thead th {\n",
       "        text-align: right;\n",
       "    }\n",
       "</style>\n",
       "<table border=\"1\" class=\"dataframe\">\n",
       "  <thead>\n",
       "    <tr style=\"text-align: right;\">\n",
       "      <th></th>\n",
       "      <th>exper</th>\n",
       "      <th>female</th>\n",
       "      <th>married</th>\n",
       "      <th>smsa</th>\n",
       "    </tr>\n",
       "  </thead>\n",
       "  <tbody>\n",
       "    <tr>\n",
       "      <th>0</th>\n",
       "      <td>5</td>\n",
       "      <td>1</td>\n",
       "      <td>1</td>\n",
       "      <td>1</td>\n",
       "    </tr>\n",
       "    <tr>\n",
       "      <th>1</th>\n",
       "      <td>26</td>\n",
       "      <td>0</td>\n",
       "      <td>0</td>\n",
       "      <td>1</td>\n",
       "    </tr>\n",
       "    <tr>\n",
       "      <th>2</th>\n",
       "      <td>38</td>\n",
       "      <td>1</td>\n",
       "      <td>1</td>\n",
       "      <td>0</td>\n",
       "    </tr>\n",
       "  </tbody>\n",
       "</table>\n",
       "</div>"
      ],
      "text/plain": [
       "   exper  female  married  smsa\n",
       "0      5       1        1     1\n",
       "1     26       0        0     1\n",
       "2     38       1        1     0"
      ]
     },
     "execution_count": 402,
     "metadata": {},
     "output_type": "execute_result"
    }
   ],
   "source": [
    "Wage_new = pd.DataFrame({'exper': [5,26,38],\n",
    "                        'female': [1,0,1],\n",
    "                        'married': [1,0,1],\n",
    "                        'smsa': [1,1,0]})\n",
    "Wage_new"
   ]
  },
  {
   "cell_type": "code",
   "execution_count": 403,
   "id": "098e97a5",
   "metadata": {},
   "outputs": [
    {
     "data": {
      "text/plain": [
       "0    1.580249\n",
       "1    1.746639\n",
       "2    1.374421\n",
       "dtype: float64"
      ]
     },
     "execution_count": 403,
     "metadata": {},
     "output_type": "execute_result"
    }
   ],
   "source": [
    "LOG_wage = Wage_eq1.predict(Wage_new)\n",
    "LOG_wage"
   ]
  },
  {
   "cell_type": "code",
   "execution_count": 404,
   "id": "52735150",
   "metadata": {},
   "outputs": [
    {
     "data": {
      "text/plain": [
       "pandas.core.series.Series"
      ]
     },
     "execution_count": 404,
     "metadata": {},
     "output_type": "execute_result"
    }
   ],
   "source": [
    "type(LOG_wage)"
   ]
  },
  {
   "cell_type": "code",
   "execution_count": 405,
   "id": "b0ce00ef",
   "metadata": {},
   "outputs": [
    {
     "data": {
      "text/html": [
       "<div>\n",
       "<style scoped>\n",
       "    .dataframe tbody tr th:only-of-type {\n",
       "        vertical-align: middle;\n",
       "    }\n",
       "\n",
       "    .dataframe tbody tr th {\n",
       "        vertical-align: top;\n",
       "    }\n",
       "\n",
       "    .dataframe thead th {\n",
       "        text-align: right;\n",
       "    }\n",
       "</style>\n",
       "<table border=\"1\" class=\"dataframe\">\n",
       "  <thead>\n",
       "    <tr style=\"text-align: right;\">\n",
       "      <th></th>\n",
       "      <th>np.log(wage)</th>\n",
       "    </tr>\n",
       "  </thead>\n",
       "  <tbody>\n",
       "    <tr>\n",
       "      <th>0</th>\n",
       "      <td>1.580249</td>\n",
       "    </tr>\n",
       "    <tr>\n",
       "      <th>1</th>\n",
       "      <td>1.746639</td>\n",
       "    </tr>\n",
       "    <tr>\n",
       "      <th>2</th>\n",
       "      <td>1.374421</td>\n",
       "    </tr>\n",
       "  </tbody>\n",
       "</table>\n",
       "</div>"
      ],
      "text/plain": [
       "   np.log(wage)\n",
       "0      1.580249\n",
       "1      1.746639\n",
       "2      1.374421"
      ]
     },
     "execution_count": 405,
     "metadata": {},
     "output_type": "execute_result"
    }
   ],
   "source": [
    "pd.DataFrame({'np.log(wage)': LOG_wage.values})"
   ]
  },
  {
   "cell_type": "code",
   "execution_count": 406,
   "id": "b652f8f7",
   "metadata": {},
   "outputs": [
    {
     "data": {
      "text/html": [
       "<div>\n",
       "<style scoped>\n",
       "    .dataframe tbody tr th:only-of-type {\n",
       "        vertical-align: middle;\n",
       "    }\n",
       "\n",
       "    .dataframe tbody tr th {\n",
       "        vertical-align: top;\n",
       "    }\n",
       "\n",
       "    .dataframe thead th {\n",
       "        text-align: right;\n",
       "    }\n",
       "</style>\n",
       "<table border=\"1\" class=\"dataframe\">\n",
       "  <thead>\n",
       "    <tr style=\"text-align: right;\">\n",
       "      <th></th>\n",
       "      <th>np.log(wage)</th>\n",
       "    </tr>\n",
       "  </thead>\n",
       "  <tbody>\n",
       "    <tr>\n",
       "      <th>0</th>\n",
       "      <td>1.580249</td>\n",
       "    </tr>\n",
       "    <tr>\n",
       "      <th>1</th>\n",
       "      <td>1.746639</td>\n",
       "    </tr>\n",
       "    <tr>\n",
       "      <th>2</th>\n",
       "      <td>1.374421</td>\n",
       "    </tr>\n",
       "  </tbody>\n",
       "</table>\n",
       "</div>"
      ],
      "text/plain": [
       "   np.log(wage)\n",
       "0      1.580249\n",
       "1      1.746639\n",
       "2      1.374421"
      ]
     },
     "execution_count": 406,
     "metadata": {},
     "output_type": "execute_result"
    }
   ],
   "source": [
    "LOG_wage.to_frame(name='np.log(wage)')"
   ]
  },
  {
   "cell_type": "code",
   "execution_count": 408,
   "id": "ee7e9041",
   "metadata": {},
   "outputs": [
    {
     "data": {
      "text/plain": [
       "0    4.86\n",
       "1    5.74\n",
       "2    3.95\n",
       "dtype: float64"
      ]
     },
     "execution_count": 408,
     "metadata": {},
     "output_type": "execute_result"
    }
   ],
   "source": [
    "np.exp(LOG_wage).round(2)"
   ]
  },
  {
   "cell_type": "code",
   "execution_count": 409,
   "id": "72088006",
   "metadata": {},
   "outputs": [
    {
     "data": {
      "text/html": [
       "<div>\n",
       "<style scoped>\n",
       "    .dataframe tbody tr th:only-of-type {\n",
       "        vertical-align: middle;\n",
       "    }\n",
       "\n",
       "    .dataframe tbody tr th {\n",
       "        vertical-align: top;\n",
       "    }\n",
       "\n",
       "    .dataframe thead th {\n",
       "        text-align: right;\n",
       "    }\n",
       "</style>\n",
       "<table border=\"1\" class=\"dataframe\">\n",
       "  <thead>\n",
       "    <tr style=\"text-align: right;\">\n",
       "      <th></th>\n",
       "      <th>Прогноз</th>\n",
       "    </tr>\n",
       "  </thead>\n",
       "  <tbody>\n",
       "    <tr>\n",
       "      <th>0</th>\n",
       "      <td>4.86</td>\n",
       "    </tr>\n",
       "    <tr>\n",
       "      <th>1</th>\n",
       "      <td>5.74</td>\n",
       "    </tr>\n",
       "    <tr>\n",
       "      <th>2</th>\n",
       "      <td>3.95</td>\n",
       "    </tr>\n",
       "  </tbody>\n",
       "</table>\n",
       "</div>"
      ],
      "text/plain": [
       "   Прогноз\n",
       "0     4.86\n",
       "1     5.74\n",
       "2     3.95"
      ]
     },
     "execution_count": 409,
     "metadata": {},
     "output_type": "execute_result"
    }
   ],
   "source": [
    "np.exp(LOG_wage).round(2).to_frame(name='Прогноз')"
   ]
  },
  {
   "cell_type": "markdown",
   "id": "55ead837",
   "metadata": {},
   "source": [
    "## Задание 5 output equation #1"
   ]
  },
  {
   "cell_type": "code",
   "execution_count": 412,
   "id": "8dd38bc9",
   "metadata": {},
   "outputs": [
    {
     "data": {
      "text/plain": [
       "(569, 4)"
      ]
     },
     "execution_count": 412,
     "metadata": {},
     "output_type": "execute_result"
    }
   ],
   "source": [
    "data5 = pd.read_csv('https://raw.githubusercontent.com/artamonoff/Econometrica/master/python-notebooks/data-csv/Labour.csv')\n",
    "data5.shape"
   ]
  },
  {
   "cell_type": "code",
   "execution_count": 414,
   "id": "6a0de45a",
   "metadata": {},
   "outputs": [],
   "source": [
    "output1=smf.ols(formula='np.log(output)~np.log(capital)+np.log(labour)', data = data5).fit()"
   ]
  },
  {
   "cell_type": "code",
   "execution_count": 433,
   "id": "88fcfeb3",
   "metadata": {},
   "outputs": [
    {
     "data": {
      "text/html": [
       "<table class=\"simpletable\">\n",
       "<tr>\n",
       "         <td></td>         <th>np.log(output)</th>\n",
       "</tr>\n",
       "<tr>\n",
       "  <th>Intercept</th>         <td>-1.7115***</td>  \n",
       "</tr>\n",
       "<tr>\n",
       "  <th></th>                   <td>(0.0967)</td>   \n",
       "</tr>\n",
       "<tr>\n",
       "  <th>np.log(capital)</th>    <td>0.2076***</td>  \n",
       "</tr>\n",
       "<tr>\n",
       "  <th></th>                   <td>(0.0172)</td>   \n",
       "</tr>\n",
       "<tr>\n",
       "  <th>np.log(labour)</th>     <td>0.7148***</td>  \n",
       "</tr>\n",
       "<tr>\n",
       "  <th></th>                   <td>(0.0231)</td>   \n",
       "</tr>\n",
       "<tr>\n",
       "  <th>R-squared</th>           <td>0.8378</td>    \n",
       "</tr>\n",
       "<tr>\n",
       "  <th>R-squared Adj.</th>      <td>0.8373</td>    \n",
       "</tr>\n",
       "</table>"
      ],
      "text/plain": [
       "<class 'statsmodels.iolib.summary2.Summary'>\n",
       "\"\"\"\n",
       "\n",
       "==============================\n",
       "                np.log(output)\n",
       "------------------------------\n",
       "Intercept       -1.7115***    \n",
       "                (0.0967)      \n",
       "np.log(capital) 0.2076***     \n",
       "                (0.0172)      \n",
       "np.log(labour)  0.7148***     \n",
       "                (0.0231)      \n",
       "R-squared       0.8378        \n",
       "R-squared Adj.  0.8373        \n",
       "==============================\n",
       "Standard errors in\n",
       "parentheses.\n",
       "* p<.1, ** p<.05, ***p<.01\n",
       "\"\"\""
      ]
     },
     "execution_count": 433,
     "metadata": {},
     "output_type": "execute_result"
    }
   ],
   "source": [
    "summary_col(output1, stars=True)"
   ]
  },
  {
   "cell_type": "code",
   "execution_count": 434,
   "id": "121ab782",
   "metadata": {},
   "outputs": [
    {
     "data": {
      "text/html": [
       "<div>\n",
       "<style scoped>\n",
       "    .dataframe tbody tr th:only-of-type {\n",
       "        vertical-align: middle;\n",
       "    }\n",
       "\n",
       "    .dataframe tbody tr th {\n",
       "        vertical-align: top;\n",
       "    }\n",
       "\n",
       "    .dataframe thead th {\n",
       "        text-align: right;\n",
       "    }\n",
       "</style>\n",
       "<table border=\"1\" class=\"dataframe\">\n",
       "  <thead>\n",
       "    <tr style=\"text-align: right;\">\n",
       "      <th></th>\n",
       "      <th>capital</th>\n",
       "      <th>labour</th>\n",
       "    </tr>\n",
       "  </thead>\n",
       "  <tbody>\n",
       "    <tr>\n",
       "      <th>0</th>\n",
       "      <td>2.97</td>\n",
       "      <td>85</td>\n",
       "    </tr>\n",
       "    <tr>\n",
       "      <th>1</th>\n",
       "      <td>10.45</td>\n",
       "      <td>60</td>\n",
       "    </tr>\n",
       "    <tr>\n",
       "      <th>2</th>\n",
       "      <td>3.85</td>\n",
       "      <td>105</td>\n",
       "    </tr>\n",
       "  </tbody>\n",
       "</table>\n",
       "</div>"
      ],
      "text/plain": [
       "   capital  labour\n",
       "0     2.97      85\n",
       "1    10.45      60\n",
       "2     3.85     105"
      ]
     },
     "execution_count": 434,
     "metadata": {},
     "output_type": "execute_result"
    }
   ],
   "source": [
    "data_output= '''№   capital labour\n",
    "1  2.970    85  \n",
    "2 10.450    60  \n",
    "3  3.850   105   '''\n",
    "wg_nw = pd.read_csv(io.StringIO(data_output), sep='\\s+')\n",
    "wg_nw.drop(columns='№',inplace=True)\n",
    "wg_nw"
   ]
  },
  {
   "cell_type": "code",
   "execution_count": 435,
   "id": "cf634545",
   "metadata": {},
   "outputs": [
    {
     "data": {
      "text/html": [
       "<div>\n",
       "<style scoped>\n",
       "    .dataframe tbody tr th:only-of-type {\n",
       "        vertical-align: middle;\n",
       "    }\n",
       "\n",
       "    .dataframe tbody tr th {\n",
       "        vertical-align: top;\n",
       "    }\n",
       "\n",
       "    .dataframe thead th {\n",
       "        text-align: right;\n",
       "    }\n",
       "</style>\n",
       "<table border=\"1\" class=\"dataframe\">\n",
       "  <thead>\n",
       "    <tr style=\"text-align: right;\">\n",
       "      <th></th>\n",
       "      <th>capital</th>\n",
       "      <th>labour</th>\n",
       "    </tr>\n",
       "  </thead>\n",
       "  <tbody>\n",
       "    <tr>\n",
       "      <th>0</th>\n",
       "      <td>2.97</td>\n",
       "      <td>85</td>\n",
       "    </tr>\n",
       "    <tr>\n",
       "      <th>1</th>\n",
       "      <td>10.45</td>\n",
       "      <td>60</td>\n",
       "    </tr>\n",
       "    <tr>\n",
       "      <th>2</th>\n",
       "      <td>3.85</td>\n",
       "      <td>105</td>\n",
       "    </tr>\n",
       "  </tbody>\n",
       "</table>\n",
       "</div>"
      ],
      "text/plain": [
       "   capital  labour\n",
       "0     2.97      85\n",
       "1    10.45      60\n",
       "2     3.85     105"
      ]
     },
     "execution_count": 435,
     "metadata": {},
     "output_type": "execute_result"
    }
   ],
   "source": [
    "output_new = pd.DataFrame({'capital': [2.97,10.45,3.85],\n",
    "                        'labour': [85,60,105]})\n",
    "output_new"
   ]
  },
  {
   "cell_type": "code",
   "execution_count": 436,
   "id": "facc2168",
   "metadata": {},
   "outputs": [
    {
     "data": {
      "text/plain": [
       "0    1.690309\n",
       "1    1.702455\n",
       "2    1.895229\n",
       "dtype: float64"
      ]
     },
     "execution_count": 436,
     "metadata": {},
     "output_type": "execute_result"
    }
   ],
   "source": [
    "LOG_output= output1.predict(output_new)\n",
    "LOG_output"
   ]
  },
  {
   "cell_type": "code",
   "execution_count": 437,
   "id": "afa12fa6",
   "metadata": {},
   "outputs": [
    {
     "data": {
      "text/plain": [
       "pandas.core.series.Series"
      ]
     },
     "execution_count": 437,
     "metadata": {},
     "output_type": "execute_result"
    }
   ],
   "source": [
    "type(LOG_output)"
   ]
  },
  {
   "cell_type": "code",
   "execution_count": 438,
   "id": "baeb2ff1",
   "metadata": {},
   "outputs": [
    {
     "data": {
      "text/html": [
       "<div>\n",
       "<style scoped>\n",
       "    .dataframe tbody tr th:only-of-type {\n",
       "        vertical-align: middle;\n",
       "    }\n",
       "\n",
       "    .dataframe tbody tr th {\n",
       "        vertical-align: top;\n",
       "    }\n",
       "\n",
       "    .dataframe thead th {\n",
       "        text-align: right;\n",
       "    }\n",
       "</style>\n",
       "<table border=\"1\" class=\"dataframe\">\n",
       "  <thead>\n",
       "    <tr style=\"text-align: right;\">\n",
       "      <th></th>\n",
       "      <th>np.log(output)</th>\n",
       "    </tr>\n",
       "  </thead>\n",
       "  <tbody>\n",
       "    <tr>\n",
       "      <th>0</th>\n",
       "      <td>1.690309</td>\n",
       "    </tr>\n",
       "    <tr>\n",
       "      <th>1</th>\n",
       "      <td>1.702455</td>\n",
       "    </tr>\n",
       "    <tr>\n",
       "      <th>2</th>\n",
       "      <td>1.895229</td>\n",
       "    </tr>\n",
       "  </tbody>\n",
       "</table>\n",
       "</div>"
      ],
      "text/plain": [
       "   np.log(output)\n",
       "0        1.690309\n",
       "1        1.702455\n",
       "2        1.895229"
      ]
     },
     "execution_count": 438,
     "metadata": {},
     "output_type": "execute_result"
    }
   ],
   "source": [
    "pd.DataFrame({'np.log(output)': LOG_output.values})"
   ]
  },
  {
   "cell_type": "code",
   "execution_count": 439,
   "id": "6e45ed78",
   "metadata": {},
   "outputs": [
    {
     "data": {
      "text/html": [
       "<div>\n",
       "<style scoped>\n",
       "    .dataframe tbody tr th:only-of-type {\n",
       "        vertical-align: middle;\n",
       "    }\n",
       "\n",
       "    .dataframe tbody tr th {\n",
       "        vertical-align: top;\n",
       "    }\n",
       "\n",
       "    .dataframe thead th {\n",
       "        text-align: right;\n",
       "    }\n",
       "</style>\n",
       "<table border=\"1\" class=\"dataframe\">\n",
       "  <thead>\n",
       "    <tr style=\"text-align: right;\">\n",
       "      <th></th>\n",
       "      <th>np.log(output)</th>\n",
       "    </tr>\n",
       "  </thead>\n",
       "  <tbody>\n",
       "    <tr>\n",
       "      <th>0</th>\n",
       "      <td>1.690309</td>\n",
       "    </tr>\n",
       "    <tr>\n",
       "      <th>1</th>\n",
       "      <td>1.702455</td>\n",
       "    </tr>\n",
       "    <tr>\n",
       "      <th>2</th>\n",
       "      <td>1.895229</td>\n",
       "    </tr>\n",
       "  </tbody>\n",
       "</table>\n",
       "</div>"
      ],
      "text/plain": [
       "   np.log(output)\n",
       "0        1.690309\n",
       "1        1.702455\n",
       "2        1.895229"
      ]
     },
     "execution_count": 439,
     "metadata": {},
     "output_type": "execute_result"
    }
   ],
   "source": [
    "LOG_output.to_frame(name='np.log(output)')"
   ]
  },
  {
   "cell_type": "code",
   "execution_count": 426,
   "id": "06315acd",
   "metadata": {},
   "outputs": [
    {
     "data": {
      "text/plain": [
       "0    5.42\n",
       "1    5.49\n",
       "2    6.65\n",
       "dtype: float64"
      ]
     },
     "execution_count": 426,
     "metadata": {},
     "output_type": "execute_result"
    }
   ],
   "source": [
    "np.exp(LOG_output).round(2)"
   ]
  },
  {
   "cell_type": "code",
   "execution_count": 427,
   "id": "cc714029",
   "metadata": {},
   "outputs": [
    {
     "data": {
      "text/html": [
       "<div>\n",
       "<style scoped>\n",
       "    .dataframe tbody tr th:only-of-type {\n",
       "        vertical-align: middle;\n",
       "    }\n",
       "\n",
       "    .dataframe tbody tr th {\n",
       "        vertical-align: top;\n",
       "    }\n",
       "\n",
       "    .dataframe thead th {\n",
       "        text-align: right;\n",
       "    }\n",
       "</style>\n",
       "<table border=\"1\" class=\"dataframe\">\n",
       "  <thead>\n",
       "    <tr style=\"text-align: right;\">\n",
       "      <th></th>\n",
       "      <th>Прогноз</th>\n",
       "    </tr>\n",
       "  </thead>\n",
       "  <tbody>\n",
       "    <tr>\n",
       "      <th>0</th>\n",
       "      <td>5.42</td>\n",
       "    </tr>\n",
       "    <tr>\n",
       "      <th>1</th>\n",
       "      <td>5.49</td>\n",
       "    </tr>\n",
       "    <tr>\n",
       "      <th>2</th>\n",
       "      <td>6.65</td>\n",
       "    </tr>\n",
       "  </tbody>\n",
       "</table>\n",
       "</div>"
      ],
      "text/plain": [
       "   Прогноз\n",
       "0     5.42\n",
       "1     5.49\n",
       "2     6.65"
      ]
     },
     "execution_count": 427,
     "metadata": {},
     "output_type": "execute_result"
    }
   ],
   "source": [
    "np.exp(LOG_output).round(2).to_frame(name='Прогноз')"
   ]
  },
  {
   "cell_type": "markdown",
   "id": "0a09c2ff",
   "metadata": {},
   "source": [
    "## Задание 6 output equation #2"
   ]
  },
  {
   "cell_type": "code",
   "execution_count": 428,
   "id": "92b03414",
   "metadata": {},
   "outputs": [
    {
     "data": {
      "text/plain": [
       "(569, 4)"
      ]
     },
     "execution_count": 428,
     "metadata": {},
     "output_type": "execute_result"
    }
   ],
   "source": [
    "data6 = pd.read_csv('https://raw.githubusercontent.com/artamonoff/Econometrica/master/python-notebooks/data-csv/Labour.csv')\n",
    "data6.shape"
   ]
  },
  {
   "cell_type": "code",
   "execution_count": 429,
   "id": "366b4951",
   "metadata": {},
   "outputs": [
    {
     "data": {
      "text/html": [
       "<table class=\"simpletable\">\n",
       "<tr>\n",
       "         <td></td>         <th>np.log(output)</th>\n",
       "</tr>\n",
       "<tr>\n",
       "  <th>Intercept</th>         <td>-1.7115***</td>  \n",
       "</tr>\n",
       "<tr>\n",
       "  <th></th>                   <td>(0.0967)</td>   \n",
       "</tr>\n",
       "<tr>\n",
       "  <th>np.log(capital)</th>    <td>0.2076***</td>  \n",
       "</tr>\n",
       "<tr>\n",
       "  <th></th>                   <td>(0.0172)</td>   \n",
       "</tr>\n",
       "<tr>\n",
       "  <th>np.log(labour)</th>     <td>0.7148***</td>  \n",
       "</tr>\n",
       "<tr>\n",
       "  <th></th>                   <td>(0.0231)</td>   \n",
       "</tr>\n",
       "<tr>\n",
       "  <th>R-squared</th>           <td>0.8378</td>    \n",
       "</tr>\n",
       "<tr>\n",
       "  <th>R-squared Adj.</th>      <td>0.8373</td>    \n",
       "</tr>\n",
       "</table>"
      ],
      "text/plain": [
       "<class 'statsmodels.iolib.summary2.Summary'>\n",
       "\"\"\"\n",
       "\n",
       "==============================\n",
       "                np.log(output)\n",
       "------------------------------\n",
       "Intercept       -1.7115***    \n",
       "                (0.0967)      \n",
       "np.log(capital) 0.2076***     \n",
       "                (0.0172)      \n",
       "np.log(labour)  0.7148***     \n",
       "                (0.0231)      \n",
       "R-squared       0.8378        \n",
       "R-squared Adj.  0.8373        \n",
       "==============================\n",
       "Standard errors in\n",
       "parentheses.\n",
       "* p<.1, ** p<.05, ***p<.01\n",
       "\"\"\""
      ]
     },
     "execution_count": 429,
     "metadata": {},
     "output_type": "execute_result"
    }
   ],
   "source": [
    "output2=smf.ols(formula='np.log(output)~np.log(capital)+np.log(labour)+np.log(capital)*np.log(capital)+np.log(labour)*np.log(labour)', data = data6).fit()\n",
    "summary_col(output2, stars=True)"
   ]
  },
  {
   "cell_type": "code",
   "execution_count": 430,
   "id": "50d7d473",
   "metadata": {},
   "outputs": [
    {
     "data": {
      "text/html": [
       "<table class=\"simpletable\">\n",
       "<tr>\n",
       "         <td></td>         <th>np.log(output)</th>\n",
       "</tr>\n",
       "<tr>\n",
       "  <th>Intercept</th>         <td>-1.7115***</td>  \n",
       "</tr>\n",
       "<tr>\n",
       "  <th></th>                   <td>(0.0967)</td>   \n",
       "</tr>\n",
       "<tr>\n",
       "  <th>np.log(capital)</th>    <td>0.2076***</td>  \n",
       "</tr>\n",
       "<tr>\n",
       "  <th></th>                   <td>(0.0172)</td>   \n",
       "</tr>\n",
       "<tr>\n",
       "  <th>np.log(labour)</th>     <td>0.7148***</td>  \n",
       "</tr>\n",
       "<tr>\n",
       "  <th></th>                   <td>(0.0231)</td>   \n",
       "</tr>\n",
       "<tr>\n",
       "  <th>R-squared</th>           <td>0.8378</td>    \n",
       "</tr>\n",
       "<tr>\n",
       "  <th>R-squared Adj.</th>      <td>0.8373</td>    \n",
       "</tr>\n",
       "</table>"
      ],
      "text/plain": [
       "<class 'statsmodels.iolib.summary2.Summary'>\n",
       "\"\"\"\n",
       "\n",
       "==============================\n",
       "                np.log(output)\n",
       "------------------------------\n",
       "Intercept       -1.7115***    \n",
       "                (0.0967)      \n",
       "np.log(capital) 0.2076***     \n",
       "                (0.0172)      \n",
       "np.log(labour)  0.7148***     \n",
       "                (0.0231)      \n",
       "R-squared       0.8378        \n",
       "R-squared Adj.  0.8373        \n",
       "==============================\n",
       "Standard errors in\n",
       "parentheses.\n",
       "* p<.1, ** p<.05, ***p<.01\n",
       "\"\"\""
      ]
     },
     "execution_count": 430,
     "metadata": {},
     "output_type": "execute_result"
    }
   ],
   "source": [
    "summary_col(output2, stars=True)"
   ]
  },
  {
   "cell_type": "code",
   "execution_count": 441,
   "id": "30b0c193",
   "metadata": {},
   "outputs": [
    {
     "data": {
      "text/html": [
       "<div>\n",
       "<style scoped>\n",
       "    .dataframe tbody tr th:only-of-type {\n",
       "        vertical-align: middle;\n",
       "    }\n",
       "\n",
       "    .dataframe tbody tr th {\n",
       "        vertical-align: top;\n",
       "    }\n",
       "\n",
       "    .dataframe thead th {\n",
       "        text-align: right;\n",
       "    }\n",
       "</style>\n",
       "<table border=\"1\" class=\"dataframe\">\n",
       "  <thead>\n",
       "    <tr style=\"text-align: right;\">\n",
       "      <th></th>\n",
       "      <th>capital</th>\n",
       "      <th>labour</th>\n",
       "    </tr>\n",
       "  </thead>\n",
       "  <tbody>\n",
       "    <tr>\n",
       "      <th>0</th>\n",
       "      <td>22.14</td>\n",
       "      <td>407</td>\n",
       "    </tr>\n",
       "    <tr>\n",
       "      <th>1</th>\n",
       "      <td>7.32</td>\n",
       "      <td>197</td>\n",
       "    </tr>\n",
       "    <tr>\n",
       "      <th>2</th>\n",
       "      <td>0.67</td>\n",
       "      <td>31</td>\n",
       "    </tr>\n",
       "  </tbody>\n",
       "</table>\n",
       "</div>"
      ],
      "text/plain": [
       "   capital  labour\n",
       "0    22.14     407\n",
       "1     7.32     197\n",
       "2     0.67      31"
      ]
     },
     "execution_count": 441,
     "metadata": {},
     "output_type": "execute_result"
    }
   ],
   "source": [
    "data_output= '''№ capital labour\n",
    "1 22.140   407  \n",
    "2  7.320   197  \n",
    "3  0.670    31   '''\n",
    "wg_nw = pd.read_csv(io.StringIO(data_output), sep='\\s+')\n",
    "wg_nw.drop(columns='№',inplace=True)\n",
    "wg_nw"
   ]
  },
  {
   "cell_type": "code",
   "execution_count": 442,
   "id": "bb18336b",
   "metadata": {},
   "outputs": [
    {
     "data": {
      "text/html": [
       "<div>\n",
       "<style scoped>\n",
       "    .dataframe tbody tr th:only-of-type {\n",
       "        vertical-align: middle;\n",
       "    }\n",
       "\n",
       "    .dataframe tbody tr th {\n",
       "        vertical-align: top;\n",
       "    }\n",
       "\n",
       "    .dataframe thead th {\n",
       "        text-align: right;\n",
       "    }\n",
       "</style>\n",
       "<table border=\"1\" class=\"dataframe\">\n",
       "  <thead>\n",
       "    <tr style=\"text-align: right;\">\n",
       "      <th></th>\n",
       "      <th>capital</th>\n",
       "      <th>labour</th>\n",
       "    </tr>\n",
       "  </thead>\n",
       "  <tbody>\n",
       "    <tr>\n",
       "      <th>0</th>\n",
       "      <td>22.14</td>\n",
       "      <td>407</td>\n",
       "    </tr>\n",
       "    <tr>\n",
       "      <th>1</th>\n",
       "      <td>7.32</td>\n",
       "      <td>197</td>\n",
       "    </tr>\n",
       "    <tr>\n",
       "      <th>2</th>\n",
       "      <td>0.67</td>\n",
       "      <td>31</td>\n",
       "    </tr>\n",
       "  </tbody>\n",
       "</table>\n",
       "</div>"
      ],
      "text/plain": [
       "   capital  labour\n",
       "0    22.14     407\n",
       "1     7.32     197\n",
       "2     0.67      31"
      ]
     },
     "execution_count": 442,
     "metadata": {},
     "output_type": "execute_result"
    }
   ],
   "source": [
    "output_new = pd.DataFrame({'capital': [22.14,7.32,0.67],\n",
    "                        'labour': [407,197,31]})\n",
    "output_new"
   ]
  },
  {
   "cell_type": "code",
   "execution_count": 443,
   "id": "9e68ae76",
   "metadata": {},
   "outputs": [
    {
     "data": {
      "text/plain": [
       "0    3.226847\n",
       "1    2.478413\n",
       "2    0.660188\n",
       "dtype: float64"
      ]
     },
     "execution_count": 443,
     "metadata": {},
     "output_type": "execute_result"
    }
   ],
   "source": [
    "LOG_output= output2.predict(output_new)\n",
    "LOG_output"
   ]
  },
  {
   "cell_type": "code",
   "execution_count": 444,
   "id": "4c9b0b95",
   "metadata": {},
   "outputs": [
    {
     "data": {
      "text/plain": [
       "pandas.core.series.Series"
      ]
     },
     "execution_count": 444,
     "metadata": {},
     "output_type": "execute_result"
    }
   ],
   "source": [
    "type(LOG_output)"
   ]
  },
  {
   "cell_type": "code",
   "execution_count": 445,
   "id": "ea1adcfa",
   "metadata": {},
   "outputs": [
    {
     "data": {
      "text/html": [
       "<div>\n",
       "<style scoped>\n",
       "    .dataframe tbody tr th:only-of-type {\n",
       "        vertical-align: middle;\n",
       "    }\n",
       "\n",
       "    .dataframe tbody tr th {\n",
       "        vertical-align: top;\n",
       "    }\n",
       "\n",
       "    .dataframe thead th {\n",
       "        text-align: right;\n",
       "    }\n",
       "</style>\n",
       "<table border=\"1\" class=\"dataframe\">\n",
       "  <thead>\n",
       "    <tr style=\"text-align: right;\">\n",
       "      <th></th>\n",
       "      <th>np.log(output)</th>\n",
       "    </tr>\n",
       "  </thead>\n",
       "  <tbody>\n",
       "    <tr>\n",
       "      <th>0</th>\n",
       "      <td>3.226847</td>\n",
       "    </tr>\n",
       "    <tr>\n",
       "      <th>1</th>\n",
       "      <td>2.478413</td>\n",
       "    </tr>\n",
       "    <tr>\n",
       "      <th>2</th>\n",
       "      <td>0.660188</td>\n",
       "    </tr>\n",
       "  </tbody>\n",
       "</table>\n",
       "</div>"
      ],
      "text/plain": [
       "   np.log(output)\n",
       "0        3.226847\n",
       "1        2.478413\n",
       "2        0.660188"
      ]
     },
     "execution_count": 445,
     "metadata": {},
     "output_type": "execute_result"
    }
   ],
   "source": [
    "pd.DataFrame({'np.log(output)': LOG_output.values})"
   ]
  },
  {
   "cell_type": "code",
   "execution_count": 446,
   "id": "d8f052c1",
   "metadata": {},
   "outputs": [
    {
     "data": {
      "text/html": [
       "<div>\n",
       "<style scoped>\n",
       "    .dataframe tbody tr th:only-of-type {\n",
       "        vertical-align: middle;\n",
       "    }\n",
       "\n",
       "    .dataframe tbody tr th {\n",
       "        vertical-align: top;\n",
       "    }\n",
       "\n",
       "    .dataframe thead th {\n",
       "        text-align: right;\n",
       "    }\n",
       "</style>\n",
       "<table border=\"1\" class=\"dataframe\">\n",
       "  <thead>\n",
       "    <tr style=\"text-align: right;\">\n",
       "      <th></th>\n",
       "      <th>np.log(output)</th>\n",
       "    </tr>\n",
       "  </thead>\n",
       "  <tbody>\n",
       "    <tr>\n",
       "      <th>0</th>\n",
       "      <td>3.226847</td>\n",
       "    </tr>\n",
       "    <tr>\n",
       "      <th>1</th>\n",
       "      <td>2.478413</td>\n",
       "    </tr>\n",
       "    <tr>\n",
       "      <th>2</th>\n",
       "      <td>0.660188</td>\n",
       "    </tr>\n",
       "  </tbody>\n",
       "</table>\n",
       "</div>"
      ],
      "text/plain": [
       "   np.log(output)\n",
       "0        3.226847\n",
       "1        2.478413\n",
       "2        0.660188"
      ]
     },
     "execution_count": 446,
     "metadata": {},
     "output_type": "execute_result"
    }
   ],
   "source": [
    "LOG_output.to_frame(name='np.log(output)')"
   ]
  },
  {
   "cell_type": "code",
   "execution_count": 447,
   "id": "4cb3da33",
   "metadata": {},
   "outputs": [
    {
     "data": {
      "text/plain": [
       "0    25.20\n",
       "1    11.92\n",
       "2     1.94\n",
       "dtype: float64"
      ]
     },
     "execution_count": 447,
     "metadata": {},
     "output_type": "execute_result"
    }
   ],
   "source": [
    "np.exp(LOG_output).round(2)"
   ]
  },
  {
   "cell_type": "code",
   "execution_count": 448,
   "id": "d0d47d43",
   "metadata": {},
   "outputs": [
    {
     "data": {
      "text/html": [
       "<div>\n",
       "<style scoped>\n",
       "    .dataframe tbody tr th:only-of-type {\n",
       "        vertical-align: middle;\n",
       "    }\n",
       "\n",
       "    .dataframe tbody tr th {\n",
       "        vertical-align: top;\n",
       "    }\n",
       "\n",
       "    .dataframe thead th {\n",
       "        text-align: right;\n",
       "    }\n",
       "</style>\n",
       "<table border=\"1\" class=\"dataframe\">\n",
       "  <thead>\n",
       "    <tr style=\"text-align: right;\">\n",
       "      <th></th>\n",
       "      <th>Прогноз</th>\n",
       "    </tr>\n",
       "  </thead>\n",
       "  <tbody>\n",
       "    <tr>\n",
       "      <th>0</th>\n",
       "      <td>25.20</td>\n",
       "    </tr>\n",
       "    <tr>\n",
       "      <th>1</th>\n",
       "      <td>11.92</td>\n",
       "    </tr>\n",
       "    <tr>\n",
       "      <th>2</th>\n",
       "      <td>1.94</td>\n",
       "    </tr>\n",
       "  </tbody>\n",
       "</table>\n",
       "</div>"
      ],
      "text/plain": [
       "   Прогноз\n",
       "0    25.20\n",
       "1    11.92\n",
       "2     1.94"
      ]
     },
     "execution_count": 448,
     "metadata": {},
     "output_type": "execute_result"
    }
   ],
   "source": [
    "np.exp(LOG_output).round(2).to_frame(name='Прогноз')"
   ]
  },
  {
   "cell_type": "code",
   "execution_count": null,
   "id": "54e7c4a2",
   "metadata": {},
   "outputs": [],
   "source": []
  }
 ],
 "metadata": {
  "kernelspec": {
   "display_name": "Python 3 (ipykernel)",
   "language": "python",
   "name": "python3"
  },
  "language_info": {
   "codemirror_mode": {
    "name": "ipython",
    "version": 3
   },
   "file_extension": ".py",
   "mimetype": "text/x-python",
   "name": "python",
   "nbconvert_exporter": "python",
   "pygments_lexer": "ipython3",
   "version": "3.9.13"
  }
 },
 "nbformat": 4,
 "nbformat_minor": 5
}
